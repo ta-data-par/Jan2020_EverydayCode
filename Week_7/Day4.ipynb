{
 "cells": [
  {
   "cell_type": "code",
   "execution_count": 1,
   "metadata": {},
   "outputs": [],
   "source": [
    "import numpy as np\n",
    "import matplotlib.pyplot as plt"
   ]
  },
  {
   "cell_type": "code",
   "execution_count": 2,
   "metadata": {},
   "outputs": [],
   "source": [
    "def true_fnc(x):\n",
    "    return np.sin(2*np.pi*x)"
   ]
  },
  {
   "cell_type": "code",
   "execution_count": 3,
   "metadata": {},
   "outputs": [],
   "source": [
    "np.random.seed(0) #similar to random_state=42"
   ]
  },
  {
   "cell_type": "code",
   "execution_count": 4,
   "metadata": {},
   "outputs": [],
   "source": [
    "num_samples=100\n",
    "noise=0.1\n",
    "X=np.sort(np.random.rand(num_samples))\n",
    "y=true_fnc(X)+np.random.randn(num_samples)*noise"
   ]
  },
  {
   "cell_type": "code",
   "execution_count": 5,
   "metadata": {},
   "outputs": [
    {
     "data": {
      "image/png": "[encoded data removed]",
      "text/plain": [
       "<Figure size 720x432 with 1 Axes>"
      ]
     },
     "metadata": {
      "needs_background": "light"
     },
     "output_type": "display_data"
    }
   ],
   "source": [
    "plt.figure(figsize=(10,6))\n",
    "X_range=np.linspace(0,1,100)\n",
    "plt.plot(X_range,true_fnc(X_range),label='True Func')\n",
    "plt.scatter(X,y,label='Samples',edgecolor='r')\n",
    "plt.legend(loc='best')\n",
    "plt.show()"
   ]
  },
  {
   "cell_type": "code",
   "execution_count": 6,
   "metadata": {},
   "outputs": [],
   "source": [
    "from sklearn.preprocessing import PolynomialFeatures\n",
    "from sklearn.linear_model import LinearRegression\n",
    "from sklearn.pipeline import make_pipeline"
   ]
  },
  {
   "cell_type": "code",
   "execution_count": 7,
   "metadata": {},
   "outputs": [],
   "source": [
    "import pandas as pd"
   ]
  },
  {
   "cell_type": "code",
   "execution_count": 8,
   "metadata": {},
   "outputs": [],
   "source": [
    "pd.DataFrame(PolynomialFeatures(degree=10).fit_transform(X[:,np.newaxis]));"
   ]
  },
  {
   "cell_type": "code",
   "execution_count": 9,
   "metadata": {},
   "outputs": [
    {
     "data": {
      "text/plain": [
       "Pipeline(memory=None,\n",
       "         steps=[('polynomialfeatures',\n",
       "                 PolynomialFeatures(degree=4, include_bias=True,\n",
       "                                    interaction_only=False, order='C')),\n",
       "                ('linearregression',\n",
       "                 LinearRegression(copy_X=True, fit_intercept=True, n_jobs=None,\n",
       "                                  normalize=False))],\n",
       "         verbose=False)"
      ]
     },
     "execution_count": 9,
     "metadata": {},
     "output_type": "execute_result"
    }
   ],
   "source": [
    "model=make_pipeline(PolynomialFeatures(degree=4),LinearRegression())\n",
    "model.fit(X[:,np.newaxis],y)"
   ]
  },
  {
   "cell_type": "code",
   "execution_count": 10,
   "metadata": {},
   "outputs": [
    {
     "data": {
      "text/plain": [
       "array([[0.00469548],\n",
       "       [0.0187898 ],\n",
       "       [0.02010755],\n",
       "       [0.0202184 ],\n",
       "       [0.03918779],\n",
       "       [0.06022547],\n",
       "       [0.0641475 ],\n",
       "       [0.07103606],\n",
       "       [0.0871293 ],\n",
       "       [0.09394051],\n",
       "       [0.09609841],\n",
       "       [0.09710128],\n",
       "       [0.10204481],\n",
       "       [0.11037514],\n",
       "       [0.11827443],\n",
       "       [0.11872772],\n",
       "       [0.12019656],\n",
       "       [0.1289263 ],\n",
       "       [0.13179786],\n",
       "       [0.13818295],\n",
       "       [0.14335329],\n",
       "       [0.15896958],\n",
       "       [0.16130952],\n",
       "       [0.18319136],\n",
       "       [0.19658236],\n",
       "       [0.20887676],\n",
       "       [0.21038256],\n",
       "       [0.24442559],\n",
       "       [0.2532916 ],\n",
       "       [0.26455561],\n",
       "       [0.26538949],\n",
       "       [0.28280696],\n",
       "       [0.28940609],\n",
       "       [0.2961402 ],\n",
       "       [0.31542835],\n",
       "       [0.31798318],\n",
       "       [0.31856895],\n",
       "       [0.3595079 ],\n",
       "       [0.36371077],\n",
       "       [0.36872517],\n",
       "       [0.38344152],\n",
       "       [0.41426299],\n",
       "       [0.41466194],\n",
       "       [0.4236548 ],\n",
       "       [0.43703195],\n",
       "       [0.43758721],\n",
       "       [0.43860151],\n",
       "       [0.45615033],\n",
       "       [0.46147936],\n",
       "       [0.46631077],\n",
       "       [0.4686512 ],\n",
       "       [0.52184832],\n",
       "       [0.52324805],\n",
       "       [0.52889492],\n",
       "       [0.54488318],\n",
       "       [0.5488135 ],\n",
       "       [0.56660145],\n",
       "       [0.56804456],\n",
       "       [0.56843395],\n",
       "       [0.57019677],\n",
       "       [0.5759465 ],\n",
       "       [0.58651293],\n",
       "       [0.60276338],\n",
       "       [0.60484552],\n",
       "       [0.61209572],\n",
       "       [0.616934  ],\n",
       "       [0.6176355 ],\n",
       "       [0.63992102],\n",
       "       [0.64589411],\n",
       "       [0.65310833],\n",
       "       [0.65632959],\n",
       "       [0.66676672],\n",
       "       [0.66741038],\n",
       "       [0.67063787],\n",
       "       [0.6818203 ],\n",
       "       [0.69247212],\n",
       "       [0.6976312 ],\n",
       "       [0.71518937],\n",
       "       [0.7163272 ],\n",
       "       [0.73926358],\n",
       "       [0.77423369],\n",
       "       [0.77815675],\n",
       "       [0.78052918],\n",
       "       [0.79172504],\n",
       "       [0.79915856],\n",
       "       [0.82099323],\n",
       "       [0.82894003],\n",
       "       [0.83261985],\n",
       "       [0.83794491],\n",
       "       [0.87001215],\n",
       "       [0.891773  ],\n",
       "       [0.92559664],\n",
       "       [0.9292962 ],\n",
       "       [0.94374808],\n",
       "       [0.94466892],\n",
       "       [0.96366276],\n",
       "       [0.97645947],\n",
       "       [0.97676109],\n",
       "       [0.97861834],\n",
       "       [0.98837384]])"
      ]
     },
     "execution_count": 10,
     "metadata": {},
     "output_type": "execute_result"
    }
   ],
   "source": [
    "X[:,np.newaxis]"
   ]
  },
  {
   "cell_type": "code",
   "execution_count": 11,
   "metadata": {},
   "outputs": [
    {
     "data": {
      "image/png": "[encoded data removed]",
      "text/plain": [
       "<Figure size 720x432 with 1 Axes>"
      ]
     },
     "metadata": {
      "needs_background": "light"
     },
     "output_type": "display_data"
    }
   ],
   "source": [
    "plt.figure(figsize=(10,6))\n",
    "plt.plot(X_range,true_fnc(X_range),label='True Func')\n",
    "plt.plot(X_range,model.predict(X_range[:,np.newaxis]),label='Model')\n",
    "plt.legend(loc='best')\n",
    "#plt.ylim((-2,2))\n",
    "plt.show()"
   ]
  },
  {
   "cell_type": "code",
   "execution_count": 12,
   "metadata": {},
   "outputs": [
    {
     "data": {
      "text/plain": [
       "0.9722034602638632"
      ]
     },
     "execution_count": 12,
     "metadata": {},
     "output_type": "execute_result"
    }
   ],
   "source": [
    "model.score(X[:,np.newaxis],y)"
   ]
  },
  {
   "cell_type": "code",
   "execution_count": 13,
   "metadata": {},
   "outputs": [],
   "source": [
    "from sklearn.model_selection import train_test_split"
   ]
  },
  {
   "cell_type": "code",
   "execution_count": 14,
   "metadata": {},
   "outputs": [],
   "source": [
    "X_train,X_test,y_train,y_test=train_test_split(X.reshape(100,1),y,test_size=0.2)"
   ]
  },
  {
   "cell_type": "code",
   "execution_count": 15,
   "metadata": {},
   "outputs": [
    {
     "name": "stdout",
     "output_type": "stream",
     "text": [
      "Model performance on training set: 0.9716149354101252\n",
      "Model performance on testing set: 0.9708356412787511\n"
     ]
    }
   ],
   "source": [
    "model.fit(X_train,y_train)\n",
    "print('Model performance on training set:',model.score(X_train,y_train))\n",
    "print('Model performance on testing set:',model.score(X_test,y_test))"
   ]
  },
  {
   "cell_type": "code",
   "execution_count": 16,
   "metadata": {},
   "outputs": [
    {
     "data": {
      "image/png": "[encoded data removed]",
      "text/plain": [
       "<Figure size 720x432 with 1 Axes>"
      ]
     },
     "metadata": {
      "needs_background": "light"
     },
     "output_type": "display_data"
    }
   ],
   "source": [
    "plt.figure(figsize=(10, 6))\n",
    "X_range = np.linspace(0, 1, 100)\n",
    "plt.plot(X_range, true_fnc(X_range), label=\"True Function\")\n",
    "plt.plot(X_range, model.predict(X_range[:, np.newaxis]), label=\"model\")\n",
    "plt.scatter(X_train, y_train, label=\"Training Samples\", color='g')\n",
    "plt.scatter(X_test, y_test, label=\"Testing Samples\", color='r', marker=\"+\")\n",
    "plt.legend(loc=\"best\")\n",
    "plt.ylim((-2, 2))\n",
    "plt.show()"
   ]
  },
  {
   "cell_type": "code",
   "execution_count": null,
   "metadata": {},
   "outputs": [],
   "source": []
  },
  {
   "cell_type": "markdown",
   "metadata": {},
   "source": [
    "# Guided Project"
   ]
  },
  {
   "cell_type": "code",
   "execution_count": 17,
   "metadata": {},
   "outputs": [
    {
     "name": "stderr",
     "output_type": "stream",
     "text": [
      "C:\\Users\\eldiy\\Anaconda3\\lib\\site-packages\\statsmodels\\tools\\_testing.py:19: FutureWarning: pandas.util.testing is deprecated. Use the functions in the public API at pandas.testing instead.\n",
      "  import pandas.util.testing as tm\n"
     ]
    }
   ],
   "source": [
    "import numpy as np\n",
    "import pandas as pd\n",
    "import matplotlib.pyplot as plt\n",
    "import seaborn as sns\n",
    "%matplotlib inline\n",
    "sns.set()"
   ]
  },
  {
   "cell_type": "code",
   "execution_count": 18,
   "metadata": {},
   "outputs": [],
   "source": [
    "df=pd.read_csv('D:\\Documents\\GitHub\\data-labs-oct\\module-2\\lab-intro-to-scipy\\ks-projects-201801.csv')"
   ]
  },
  {
   "cell_type": "code",
   "execution_count": 19,
   "metadata": {},
   "outputs": [
    {
     "data": {
      "text/html": [
       "<div>\n",
       "<style scoped>\n",
       "    .dataframe tbody tr th:only-of-type {\n",
       "        vertical-align: middle;\n",
       "    }\n",
       "\n",
       "    .dataframe tbody tr th {\n",
       "        vertical-align: top;\n",
       "    }\n",
       "\n",
       "    .dataframe thead th {\n",
       "        text-align: right;\n",
       "    }\n",
       "</style>\n",
       "<table border=\"1\" class=\"dataframe\">\n",
       "  <thead>\n",
       "    <tr style=\"text-align: right;\">\n",
       "      <th></th>\n",
       "      <th>ID</th>\n",
       "      <th>name</th>\n",
       "      <th>category</th>\n",
       "      <th>main_category</th>\n",
       "      <th>currency</th>\n",
       "      <th>deadline</th>\n",
       "      <th>goal</th>\n",
       "      <th>launched</th>\n",
       "      <th>pledged</th>\n",
       "      <th>state</th>\n",
       "      <th>backers</th>\n",
       "      <th>country</th>\n",
       "      <th>usd pledged</th>\n",
       "      <th>usd_pledged_real</th>\n",
       "      <th>usd_goal_real</th>\n",
       "    </tr>\n",
       "  </thead>\n",
       "  <tbody>\n",
       "    <tr>\n",
       "      <th>0</th>\n",
       "      <td>1000002330</td>\n",
       "      <td>The Songs of Adelaide &amp; Abullah</td>\n",
       "      <td>Poetry</td>\n",
       "      <td>Publishing</td>\n",
       "      <td>GBP</td>\n",
       "      <td>2015-10-09</td>\n",
       "      <td>1000.0</td>\n",
       "      <td>2015-08-11 12:12:28</td>\n",
       "      <td>0.0</td>\n",
       "      <td>failed</td>\n",
       "      <td>0</td>\n",
       "      <td>GB</td>\n",
       "      <td>0.0</td>\n",
       "      <td>0.0</td>\n",
       "      <td>1533.95</td>\n",
       "    </tr>\n",
       "    <tr>\n",
       "      <th>1</th>\n",
       "      <td>1000003930</td>\n",
       "      <td>Greeting From Earth: ZGAC Arts Capsule For ET</td>\n",
       "      <td>Narrative Film</td>\n",
       "      <td>Film &amp; Video</td>\n",
       "      <td>USD</td>\n",
       "      <td>2017-11-01</td>\n",
       "      <td>30000.0</td>\n",
       "      <td>2017-09-02 04:43:57</td>\n",
       "      <td>2421.0</td>\n",
       "      <td>failed</td>\n",
       "      <td>15</td>\n",
       "      <td>US</td>\n",
       "      <td>100.0</td>\n",
       "      <td>2421.0</td>\n",
       "      <td>30000.00</td>\n",
       "    </tr>\n",
       "    <tr>\n",
       "      <th>2</th>\n",
       "      <td>1000004038</td>\n",
       "      <td>Where is Hank?</td>\n",
       "      <td>Narrative Film</td>\n",
       "      <td>Film &amp; Video</td>\n",
       "      <td>USD</td>\n",
       "      <td>2013-02-26</td>\n",
       "      <td>45000.0</td>\n",
       "      <td>2013-01-12 00:20:50</td>\n",
       "      <td>220.0</td>\n",
       "      <td>failed</td>\n",
       "      <td>3</td>\n",
       "      <td>US</td>\n",
       "      <td>220.0</td>\n",
       "      <td>220.0</td>\n",
       "      <td>45000.00</td>\n",
       "    </tr>\n",
       "    <tr>\n",
       "      <th>3</th>\n",
       "      <td>1000007540</td>\n",
       "      <td>ToshiCapital Rekordz Needs Help to Complete Album</td>\n",
       "      <td>Music</td>\n",
       "      <td>Music</td>\n",
       "      <td>USD</td>\n",
       "      <td>2012-04-16</td>\n",
       "      <td>5000.0</td>\n",
       "      <td>2012-03-17 03:24:11</td>\n",
       "      <td>1.0</td>\n",
       "      <td>failed</td>\n",
       "      <td>1</td>\n",
       "      <td>US</td>\n",
       "      <td>1.0</td>\n",
       "      <td>1.0</td>\n",
       "      <td>5000.00</td>\n",
       "    </tr>\n",
       "    <tr>\n",
       "      <th>4</th>\n",
       "      <td>1000011046</td>\n",
       "      <td>Community Film Project: The Art of Neighborhoo...</td>\n",
       "      <td>Film &amp; Video</td>\n",
       "      <td>Film &amp; Video</td>\n",
       "      <td>USD</td>\n",
       "      <td>2015-08-29</td>\n",
       "      <td>19500.0</td>\n",
       "      <td>2015-07-04 08:35:03</td>\n",
       "      <td>1283.0</td>\n",
       "      <td>canceled</td>\n",
       "      <td>14</td>\n",
       "      <td>US</td>\n",
       "      <td>1283.0</td>\n",
       "      <td>1283.0</td>\n",
       "      <td>19500.00</td>\n",
       "    </tr>\n",
       "  </tbody>\n",
       "</table>\n",
       "</div>"
      ],
      "text/plain": [
       "           ID                                               name  \\\n",
       "0  1000002330                    The Songs of Adelaide & Abullah   \n",
       "1  1000003930      Greeting From Earth: ZGAC Arts Capsule For ET   \n",
       "2  1000004038                                     Where is Hank?   \n",
       "3  1000007540  ToshiCapital Rekordz Needs Help to Complete Album   \n",
       "4  1000011046  Community Film Project: The Art of Neighborhoo...   \n",
       "\n",
       "         category main_category currency    deadline     goal  \\\n",
       "0          Poetry    Publishing      GBP  2015-10-09   1000.0   \n",
       "1  Narrative Film  Film & Video      USD  2017-11-01  30000.0   \n",
       "2  Narrative Film  Film & Video      USD  2013-02-26  45000.0   \n",
       "3           Music         Music      USD  2012-04-16   5000.0   \n",
       "4    Film & Video  Film & Video      USD  2015-08-29  19500.0   \n",
       "\n",
       "              launched  pledged     state  backers country  usd pledged  \\\n",
       "0  2015-08-11 12:12:28      0.0    failed        0      GB          0.0   \n",
       "1  2017-09-02 04:43:57   2421.0    failed       15      US        100.0   \n",
       "2  2013-01-12 00:20:50    220.0    failed        3      US        220.0   \n",
       "3  2012-03-17 03:24:11      1.0    failed        1      US          1.0   \n",
       "4  2015-07-04 08:35:03   1283.0  canceled       14      US       1283.0   \n",
       "\n",
       "   usd_pledged_real  usd_goal_real  \n",
       "0               0.0        1533.95  \n",
       "1            2421.0       30000.00  \n",
       "2             220.0       45000.00  \n",
       "3               1.0        5000.00  \n",
       "4            1283.0       19500.00  "
      ]
     },
     "execution_count": 19,
     "metadata": {},
     "output_type": "execute_result"
    }
   ],
   "source": [
    "df.head()"
   ]
  },
  {
   "cell_type": "code",
   "execution_count": 20,
   "metadata": {},
   "outputs": [
    {
     "data": {
      "text/html": [
       "<div>\n",
       "<style scoped>\n",
       "    .dataframe tbody tr th:only-of-type {\n",
       "        vertical-align: middle;\n",
       "    }\n",
       "\n",
       "    .dataframe tbody tr th {\n",
       "        vertical-align: top;\n",
       "    }\n",
       "\n",
       "    .dataframe thead th {\n",
       "        text-align: right;\n",
       "    }\n",
       "</style>\n",
       "<table border=\"1\" class=\"dataframe\">\n",
       "  <thead>\n",
       "    <tr style=\"text-align: right;\">\n",
       "      <th></th>\n",
       "      <th>ID</th>\n",
       "      <th>name</th>\n",
       "      <th>category</th>\n",
       "      <th>main_category</th>\n",
       "      <th>currency</th>\n",
       "      <th>deadline</th>\n",
       "      <th>goal</th>\n",
       "      <th>launched</th>\n",
       "      <th>pledged</th>\n",
       "      <th>state</th>\n",
       "      <th>backers</th>\n",
       "      <th>country</th>\n",
       "      <th>usd pledged</th>\n",
       "      <th>usd_pledged_real</th>\n",
       "      <th>usd_goal_real</th>\n",
       "    </tr>\n",
       "  </thead>\n",
       "  <tbody>\n",
       "    <tr>\n",
       "      <th>80493</th>\n",
       "      <td>1409276726</td>\n",
       "      <td>Kalia Vandever Quartet Tour in New Orleans</td>\n",
       "      <td>Jazz</td>\n",
       "      <td>Music</td>\n",
       "      <td>USD</td>\n",
       "      <td>2017-05-26</td>\n",
       "      <td>1500.0</td>\n",
       "      <td>2017-04-26 03:45:36</td>\n",
       "      <td>2266.99</td>\n",
       "      <td>successful</td>\n",
       "      <td>34</td>\n",
       "      <td>US</td>\n",
       "      <td>1332.99</td>\n",
       "      <td>2266.99</td>\n",
       "      <td>1500.0</td>\n",
       "    </tr>\n",
       "    <tr>\n",
       "      <th>332381</th>\n",
       "      <td>763175991</td>\n",
       "      <td>Music of Aaron Jay Myers recorded by Chamber C...</td>\n",
       "      <td>Classical Music</td>\n",
       "      <td>Music</td>\n",
       "      <td>USD</td>\n",
       "      <td>2017-09-11</td>\n",
       "      <td>5000.0</td>\n",
       "      <td>2017-08-13 03:10:33</td>\n",
       "      <td>5115.00</td>\n",
       "      <td>successful</td>\n",
       "      <td>61</td>\n",
       "      <td>US</td>\n",
       "      <td>228.00</td>\n",
       "      <td>5115.00</td>\n",
       "      <td>5000.0</td>\n",
       "    </tr>\n",
       "    <tr>\n",
       "      <th>104956</th>\n",
       "      <td>1533415859</td>\n",
       "      <td>Battleship Beer Pong PRO™: Become a legendary ...</td>\n",
       "      <td>Live Games</td>\n",
       "      <td>Games</td>\n",
       "      <td>USD</td>\n",
       "      <td>2017-10-11</td>\n",
       "      <td>15000.0</td>\n",
       "      <td>2017-09-11 17:55:44</td>\n",
       "      <td>6882.00</td>\n",
       "      <td>failed</td>\n",
       "      <td>94</td>\n",
       "      <td>US</td>\n",
       "      <td>2872.00</td>\n",
       "      <td>6882.00</td>\n",
       "      <td>15000.0</td>\n",
       "    </tr>\n",
       "    <tr>\n",
       "      <th>91610</th>\n",
       "      <td>1465459910</td>\n",
       "      <td>Know: what defines you?</td>\n",
       "      <td>Farms</td>\n",
       "      <td>Food</td>\n",
       "      <td>USD</td>\n",
       "      <td>2017-11-26</td>\n",
       "      <td>30000.0</td>\n",
       "      <td>2017-11-05 14:42:21</td>\n",
       "      <td>282.00</td>\n",
       "      <td>failed</td>\n",
       "      <td>7</td>\n",
       "      <td>US</td>\n",
       "      <td>108.00</td>\n",
       "      <td>282.00</td>\n",
       "      <td>30000.0</td>\n",
       "    </tr>\n",
       "    <tr>\n",
       "      <th>165140</th>\n",
       "      <td>1840418726</td>\n",
       "      <td>Nearby - a sharing economy app for your stuff</td>\n",
       "      <td>Apps</td>\n",
       "      <td>Technology</td>\n",
       "      <td>USD</td>\n",
       "      <td>2017-07-15</td>\n",
       "      <td>10000.0</td>\n",
       "      <td>2017-06-26 16:59:13</td>\n",
       "      <td>2093.00</td>\n",
       "      <td>canceled</td>\n",
       "      <td>74</td>\n",
       "      <td>US</td>\n",
       "      <td>152.00</td>\n",
       "      <td>2093.00</td>\n",
       "      <td>10000.0</td>\n",
       "    </tr>\n",
       "    <tr>\n",
       "      <th>341404</th>\n",
       "      <td>808932914</td>\n",
       "      <td>HUMAN</td>\n",
       "      <td>Photobooks</td>\n",
       "      <td>Photography</td>\n",
       "      <td>USD</td>\n",
       "      <td>2017-08-01</td>\n",
       "      <td>16500.0</td>\n",
       "      <td>2017-06-29 16:54:21</td>\n",
       "      <td>1903.00</td>\n",
       "      <td>failed</td>\n",
       "      <td>30</td>\n",
       "      <td>US</td>\n",
       "      <td>0.00</td>\n",
       "      <td>1903.00</td>\n",
       "      <td>16500.0</td>\n",
       "    </tr>\n",
       "    <tr>\n",
       "      <th>216946</th>\n",
       "      <td>2105102562</td>\n",
       "      <td>templateNest - Templates to make a website in ...</td>\n",
       "      <td>Web</td>\n",
       "      <td>Technology</td>\n",
       "      <td>USD</td>\n",
       "      <td>2017-04-13</td>\n",
       "      <td>1000.0</td>\n",
       "      <td>2017-03-30 18:04:12</td>\n",
       "      <td>661.00</td>\n",
       "      <td>failed</td>\n",
       "      <td>31</td>\n",
       "      <td>US</td>\n",
       "      <td>109.00</td>\n",
       "      <td>661.00</td>\n",
       "      <td>1000.0</td>\n",
       "    </tr>\n",
       "    <tr>\n",
       "      <th>40626</th>\n",
       "      <td>1206728510</td>\n",
       "      <td>\"Memory\"</td>\n",
       "      <td>Science Fiction</td>\n",
       "      <td>Film &amp; Video</td>\n",
       "      <td>USD</td>\n",
       "      <td>2017-06-19</td>\n",
       "      <td>1000.0</td>\n",
       "      <td>2017-05-17 12:35:53</td>\n",
       "      <td>50.00</td>\n",
       "      <td>failed</td>\n",
       "      <td>1</td>\n",
       "      <td>US</td>\n",
       "      <td>0.00</td>\n",
       "      <td>50.00</td>\n",
       "      <td>1000.0</td>\n",
       "    </tr>\n",
       "    <tr>\n",
       "      <th>378654</th>\n",
       "      <td>999975836</td>\n",
       "      <td>Homemade fresh dog food, Cleveland OH</td>\n",
       "      <td>Small Batch</td>\n",
       "      <td>Food</td>\n",
       "      <td>USD</td>\n",
       "      <td>2017-04-19</td>\n",
       "      <td>6500.0</td>\n",
       "      <td>2017-03-20 22:08:22</td>\n",
       "      <td>154.00</td>\n",
       "      <td>failed</td>\n",
       "      <td>4</td>\n",
       "      <td>US</td>\n",
       "      <td>0.00</td>\n",
       "      <td>154.00</td>\n",
       "      <td>6500.0</td>\n",
       "    </tr>\n",
       "    <tr>\n",
       "      <th>262056</th>\n",
       "      <td>40295589</td>\n",
       "      <td>Vonn Sketchbook 2</td>\n",
       "      <td>Art</td>\n",
       "      <td>Art</td>\n",
       "      <td>USD</td>\n",
       "      <td>2017-02-25</td>\n",
       "      <td>5000.0</td>\n",
       "      <td>2017-01-25 21:04:00</td>\n",
       "      <td>11382.00</td>\n",
       "      <td>successful</td>\n",
       "      <td>197</td>\n",
       "      <td>US</td>\n",
       "      <td>5311.00</td>\n",
       "      <td>11382.00</td>\n",
       "      <td>5000.0</td>\n",
       "    </tr>\n",
       "  </tbody>\n",
       "</table>\n",
       "</div>"
      ],
      "text/plain": [
       "                ID                                               name  \\\n",
       "80493   1409276726         Kalia Vandever Quartet Tour in New Orleans   \n",
       "332381   763175991  Music of Aaron Jay Myers recorded by Chamber C...   \n",
       "104956  1533415859  Battleship Beer Pong PRO™: Become a legendary ...   \n",
       "91610   1465459910                            Know: what defines you?   \n",
       "165140  1840418726      Nearby - a sharing economy app for your stuff   \n",
       "341404   808932914                                              HUMAN   \n",
       "216946  2105102562  templateNest - Templates to make a website in ...   \n",
       "40626   1206728510                                           \"Memory\"   \n",
       "378654   999975836              Homemade fresh dog food, Cleveland OH   \n",
       "262056    40295589                                  Vonn Sketchbook 2   \n",
       "\n",
       "               category main_category currency    deadline     goal  \\\n",
       "80493              Jazz         Music      USD  2017-05-26   1500.0   \n",
       "332381  Classical Music         Music      USD  2017-09-11   5000.0   \n",
       "104956       Live Games         Games      USD  2017-10-11  15000.0   \n",
       "91610             Farms          Food      USD  2017-11-26  30000.0   \n",
       "165140             Apps    Technology      USD  2017-07-15  10000.0   \n",
       "341404       Photobooks   Photography      USD  2017-08-01  16500.0   \n",
       "216946              Web    Technology      USD  2017-04-13   1000.0   \n",
       "40626   Science Fiction  Film & Video      USD  2017-06-19   1000.0   \n",
       "378654      Small Batch          Food      USD  2017-04-19   6500.0   \n",
       "262056              Art           Art      USD  2017-02-25   5000.0   \n",
       "\n",
       "                   launched   pledged       state  backers country  \\\n",
       "80493   2017-04-26 03:45:36   2266.99  successful       34      US   \n",
       "332381  2017-08-13 03:10:33   5115.00  successful       61      US   \n",
       "104956  2017-09-11 17:55:44   6882.00      failed       94      US   \n",
       "91610   2017-11-05 14:42:21    282.00      failed        7      US   \n",
       "165140  2017-06-26 16:59:13   2093.00    canceled       74      US   \n",
       "341404  2017-06-29 16:54:21   1903.00      failed       30      US   \n",
       "216946  2017-03-30 18:04:12    661.00      failed       31      US   \n",
       "40626   2017-05-17 12:35:53     50.00      failed        1      US   \n",
       "378654  2017-03-20 22:08:22    154.00      failed        4      US   \n",
       "262056  2017-01-25 21:04:00  11382.00  successful      197      US   \n",
       "\n",
       "        usd pledged  usd_pledged_real  usd_goal_real  \n",
       "80493       1332.99           2266.99         1500.0  \n",
       "332381       228.00           5115.00         5000.0  \n",
       "104956      2872.00           6882.00        15000.0  \n",
       "91610        108.00            282.00        30000.0  \n",
       "165140       152.00           2093.00        10000.0  \n",
       "341404         0.00           1903.00        16500.0  \n",
       "216946       109.00            661.00         1000.0  \n",
       "40626          0.00             50.00         1000.0  \n",
       "378654         0.00            154.00         6500.0  \n",
       "262056      5311.00          11382.00         5000.0  "
      ]
     },
     "execution_count": 20,
     "metadata": {},
     "output_type": "execute_result"
    }
   ],
   "source": [
    "df[(df.usd_pledged_real>df['usd pledged'])&(df.currency=='USD')].sample(10)"
   ]
  },
  {
   "cell_type": "code",
   "execution_count": 21,
   "metadata": {},
   "outputs": [
    {
     "name": "stdout",
     "output_type": "stream",
     "text": [
      "<class 'pandas.core.frame.DataFrame'>\n",
      "RangeIndex: 378661 entries, 0 to 378660\n",
      "Data columns (total 15 columns):\n",
      " #   Column            Non-Null Count   Dtype  \n",
      "---  ------            --------------   -----  \n",
      " 0   ID                378661 non-null  int64  \n",
      " 1   name              378657 non-null  object \n",
      " 2   category          378661 non-null  object \n",
      " 3   main_category     378661 non-null  object \n",
      " 4   currency          378661 non-null  object \n",
      " 5   deadline          378661 non-null  object \n",
      " 6   goal              378661 non-null  float64\n",
      " 7   launched          378661 non-null  object \n",
      " 8   pledged           378661 non-null  float64\n",
      " 9   state             378661 non-null  object \n",
      " 10  backers           378661 non-null  int64  \n",
      " 11  country           378661 non-null  object \n",
      " 12  usd pledged       374864 non-null  float64\n",
      " 13  usd_pledged_real  378661 non-null  float64\n",
      " 14  usd_goal_real     378661 non-null  float64\n",
      "dtypes: float64(5), int64(2), object(8)\n",
      "memory usage: 43.3+ MB\n"
     ]
    }
   ],
   "source": [
    "df.info()"
   ]
  },
  {
   "cell_type": "markdown",
   "metadata": {},
   "source": [
    "# Goal of the study - will I fail my project?"
   ]
  },
  {
   "cell_type": "markdown",
   "metadata": {},
   "source": [
    "# Columns that are allowed to use:\n",
    "1. Name\n",
    "2. Category\n",
    "3. Main Category\n",
    "4. Currency\n",
    "5. Difference between launched and deadline\n",
    "6. Goal\n",
    "7. Launched\n",
    "8. STATE\n",
    "9. Country\n",
    "10. usd_goal_real\n",
    "\n",
    "1st approach remove usd_goal_real\n",
    "\n",
    "2nd approach remove currency and goal"
   ]
  },
  {
   "cell_type": "markdown",
   "metadata": {},
   "source": [
    "# Data preparation"
   ]
  },
  {
   "cell_type": "code",
   "execution_count": 22,
   "metadata": {},
   "outputs": [
    {
     "data": {
      "text/html": [
       "<div>\n",
       "<style scoped>\n",
       "    .dataframe tbody tr th:only-of-type {\n",
       "        vertical-align: middle;\n",
       "    }\n",
       "\n",
       "    .dataframe tbody tr th {\n",
       "        vertical-align: top;\n",
       "    }\n",
       "\n",
       "    .dataframe thead th {\n",
       "        text-align: right;\n",
       "    }\n",
       "</style>\n",
       "<table border=\"1\" class=\"dataframe\">\n",
       "  <thead>\n",
       "    <tr style=\"text-align: right;\">\n",
       "      <th></th>\n",
       "      <th>ID</th>\n",
       "      <th>goal</th>\n",
       "      <th>pledged</th>\n",
       "      <th>backers</th>\n",
       "      <th>usd pledged</th>\n",
       "      <th>usd_pledged_real</th>\n",
       "      <th>usd_goal_real</th>\n",
       "    </tr>\n",
       "  </thead>\n",
       "  <tbody>\n",
       "    <tr>\n",
       "      <th>count</th>\n",
       "      <td>378661</td>\n",
       "      <td>378661</td>\n",
       "      <td>378661</td>\n",
       "      <td>378661</td>\n",
       "      <td>374864</td>\n",
       "      <td>378661</td>\n",
       "      <td>378661</td>\n",
       "    </tr>\n",
       "    <tr>\n",
       "      <th>mean</th>\n",
       "      <td>1074731192</td>\n",
       "      <td>49081</td>\n",
       "      <td>9683</td>\n",
       "      <td>106</td>\n",
       "      <td>7037</td>\n",
       "      <td>9059</td>\n",
       "      <td>45454</td>\n",
       "    </tr>\n",
       "    <tr>\n",
       "      <th>std</th>\n",
       "      <td>619086204</td>\n",
       "      <td>1183391</td>\n",
       "      <td>95636</td>\n",
       "      <td>907</td>\n",
       "      <td>78640</td>\n",
       "      <td>90973</td>\n",
       "      <td>1152950</td>\n",
       "    </tr>\n",
       "    <tr>\n",
       "      <th>min</th>\n",
       "      <td>5971</td>\n",
       "      <td>0</td>\n",
       "      <td>0</td>\n",
       "      <td>0</td>\n",
       "      <td>0</td>\n",
       "      <td>0</td>\n",
       "      <td>0</td>\n",
       "    </tr>\n",
       "    <tr>\n",
       "      <th>25%</th>\n",
       "      <td>538263516</td>\n",
       "      <td>2000</td>\n",
       "      <td>30</td>\n",
       "      <td>2</td>\n",
       "      <td>17</td>\n",
       "      <td>31</td>\n",
       "      <td>2000</td>\n",
       "    </tr>\n",
       "    <tr>\n",
       "      <th>50%</th>\n",
       "      <td>1075275634</td>\n",
       "      <td>5200</td>\n",
       "      <td>620</td>\n",
       "      <td>12</td>\n",
       "      <td>395</td>\n",
       "      <td>624</td>\n",
       "      <td>5500</td>\n",
       "    </tr>\n",
       "    <tr>\n",
       "      <th>75%</th>\n",
       "      <td>1610148624</td>\n",
       "      <td>16000</td>\n",
       "      <td>4076</td>\n",
       "      <td>56</td>\n",
       "      <td>3034</td>\n",
       "      <td>4050</td>\n",
       "      <td>15500</td>\n",
       "    </tr>\n",
       "    <tr>\n",
       "      <th>max</th>\n",
       "      <td>2147476221</td>\n",
       "      <td>100000000</td>\n",
       "      <td>20338986</td>\n",
       "      <td>219382</td>\n",
       "      <td>20338986</td>\n",
       "      <td>20338986</td>\n",
       "      <td>166361391</td>\n",
       "    </tr>\n",
       "  </tbody>\n",
       "</table>\n",
       "</div>"
      ],
      "text/plain": [
       "               ID       goal   pledged  backers  usd pledged  \\\n",
       "count      378661     378661    378661   378661       374864   \n",
       "mean   1074731192      49081      9683      106         7037   \n",
       "std     619086204    1183391     95636      907        78640   \n",
       "min          5971          0         0        0            0   \n",
       "25%     538263516       2000        30        2           17   \n",
       "50%    1075275634       5200       620       12          395   \n",
       "75%    1610148624      16000      4076       56         3034   \n",
       "max    2147476221  100000000  20338986   219382     20338986   \n",
       "\n",
       "       usd_pledged_real  usd_goal_real  \n",
       "count            378661         378661  \n",
       "mean               9059          45454  \n",
       "std               90973        1152950  \n",
       "min                   0              0  \n",
       "25%                  31           2000  \n",
       "50%                 624           5500  \n",
       "75%                4050          15500  \n",
       "max            20338986      166361391  "
      ]
     },
     "execution_count": 22,
     "metadata": {},
     "output_type": "execute_result"
    }
   ],
   "source": [
    "df.describe().applymap(round)"
   ]
  },
  {
   "cell_type": "markdown",
   "metadata": {},
   "source": [
    "## THERE ARE OUTLIERS!\n",
    "There is a extremely enthusiastic project 0.1B. But if we consider the USD converted goal, the outlier is even higher. From this table we can see the max value of pledged in USD and since it is smaller than max goal, we are sure that the project has failed.\n",
    "\n",
    "At the same time we can see that most of the projects (more than 75% of the database) are much more realistic. 75% of the database has the value of usd_goal_real smaller than 16k. \n",
    "\n",
    "Moreover we can see that there are projects that were never financed and there are projects that didnt ask for money. \n",
    "\n",
    "The median number of backers is 12. Which is much smaller than the maximum - 219k. Yeah, some projects are really successful."
   ]
  },
  {
   "cell_type": "code",
   "execution_count": 23,
   "metadata": {},
   "outputs": [
    {
     "data": {
      "text/plain": [
       "failed        0.522153\n",
       "successful    0.353762\n",
       "canceled      0.102411\n",
       "undefined     0.009407\n",
       "live          0.007392\n",
       "suspended     0.004875\n",
       "Name: state, dtype: float64"
      ]
     },
     "execution_count": 23,
     "metadata": {},
     "output_type": "execute_result"
    }
   ],
   "source": [
    "df.state.value_counts(normalize=True)"
   ]
  },
  {
   "cell_type": "code",
   "execution_count": 24,
   "metadata": {},
   "outputs": [],
   "source": [
    "df1=df.loc[df.state.isin(['failed','successful'])].copy()"
   ]
  },
  {
   "cell_type": "code",
   "execution_count": 25,
   "metadata": {},
   "outputs": [
    {
     "data": {
      "text/plain": [
       "failed        0.596123\n",
       "successful    0.403877\n",
       "Name: state, dtype: float64"
      ]
     },
     "execution_count": 25,
     "metadata": {},
     "output_type": "execute_result"
    }
   ],
   "source": [
    "df1.state.value_counts(normalize=True)"
   ]
  },
  {
   "cell_type": "code",
   "execution_count": 26,
   "metadata": {},
   "outputs": [
    {
     "data": {
      "text/plain": [
       "Film & Video    56527\n",
       "Music           45949\n",
       "Publishing      35445\n",
       "Games           28521\n",
       "Technology      27050\n",
       "Art             25641\n",
       "Design          25364\n",
       "Food            22054\n",
       "Fashion         19775\n",
       "Theater         10242\n",
       "Comics           9878\n",
       "Photography      9689\n",
       "Crafts           7818\n",
       "Journalism       4149\n",
       "Dance            3573\n",
       "Name: main_category, dtype: int64"
      ]
     },
     "execution_count": 26,
     "metadata": {},
     "output_type": "execute_result"
    }
   ],
   "source": [
    "df1.main_category.value_counts()"
   ]
  },
  {
   "cell_type": "code",
   "execution_count": 27,
   "metadata": {},
   "outputs": [],
   "source": [
    "crosstab_df=pd.crosstab(df1.main_category,df1.state, normalize='index').round(1)"
   ]
  },
  {
   "cell_type": "code",
   "execution_count": 28,
   "metadata": {},
   "outputs": [
    {
     "data": {
      "text/plain": [
       "<matplotlib.axes._subplots.AxesSubplot at 0x1b0b9607518>"
      ]
     },
     "execution_count": 28,
     "metadata": {},
     "output_type": "execute_result"
    },
    {
     "data": {
      "image/png": "[encoded data removed]",
      "text/plain": [
       "<Figure size 432x288 with 2 Axes>"
      ]
     },
     "metadata": {},
     "output_type": "display_data"
    }
   ],
   "source": [
    "sns.heatmap(crosstab_df.sort_values(by='successful',ascending=False), annot=True)"
   ]
  },
  {
   "cell_type": "code",
   "execution_count": 29,
   "metadata": {},
   "outputs": [
    {
     "data": {
      "text/plain": [
       "USD    261511\n",
       "GBP     29476\n",
       "EUR     14378\n",
       "CAD     12375\n",
       "AUD      6621\n",
       "SEK      1510\n",
       "MXN      1411\n",
       "NZD      1274\n",
       "DKK       929\n",
       "CHF       652\n",
       "NOK       584\n",
       "HKD       477\n",
       "SGD       454\n",
       "JPY        23\n",
       "Name: currency, dtype: int64"
      ]
     },
     "execution_count": 29,
     "metadata": {},
     "output_type": "execute_result"
    }
   ],
   "source": [
    "df1.currency.value_counts()"
   ]
  },
  {
   "cell_type": "code",
   "execution_count": 30,
   "metadata": {},
   "outputs": [
    {
     "data": {
      "text/html": [
       "<div>\n",
       "<style scoped>\n",
       "    .dataframe tbody tr th:only-of-type {\n",
       "        vertical-align: middle;\n",
       "    }\n",
       "\n",
       "    .dataframe tbody tr th {\n",
       "        vertical-align: top;\n",
       "    }\n",
       "\n",
       "    .dataframe thead th {\n",
       "        text-align: right;\n",
       "    }\n",
       "</style>\n",
       "<table border=\"1\" class=\"dataframe\">\n",
       "  <thead>\n",
       "    <tr style=\"text-align: right;\">\n",
       "      <th>state</th>\n",
       "      <th>failed</th>\n",
       "      <th>successful</th>\n",
       "      <th>success_rate</th>\n",
       "    </tr>\n",
       "    <tr>\n",
       "      <th>currency</th>\n",
       "      <th></th>\n",
       "      <th></th>\n",
       "      <th></th>\n",
       "    </tr>\n",
       "  </thead>\n",
       "  <tbody>\n",
       "    <tr>\n",
       "      <th>HKD</th>\n",
       "      <td>261</td>\n",
       "      <td>216</td>\n",
       "      <td>0.45</td>\n",
       "    </tr>\n",
       "    <tr>\n",
       "      <th>USD</th>\n",
       "      <td>152132</td>\n",
       "      <td>109379</td>\n",
       "      <td>0.42</td>\n",
       "    </tr>\n",
       "    <tr>\n",
       "      <th>GBP</th>\n",
       "      <td>17395</td>\n",
       "      <td>12081</td>\n",
       "      <td>0.41</td>\n",
       "    </tr>\n",
       "    <tr>\n",
       "      <th>DKK</th>\n",
       "      <td>567</td>\n",
       "      <td>362</td>\n",
       "      <td>0.39</td>\n",
       "    </tr>\n",
       "    <tr>\n",
       "      <th>SGD</th>\n",
       "      <td>276</td>\n",
       "      <td>178</td>\n",
       "      <td>0.39</td>\n",
       "    </tr>\n",
       "    <tr>\n",
       "      <th>NZD</th>\n",
       "      <td>826</td>\n",
       "      <td>448</td>\n",
       "      <td>0.35</td>\n",
       "    </tr>\n",
       "    <tr>\n",
       "      <th>SEK</th>\n",
       "      <td>1001</td>\n",
       "      <td>509</td>\n",
       "      <td>0.34</td>\n",
       "    </tr>\n",
       "    <tr>\n",
       "      <th>CAD</th>\n",
       "      <td>8238</td>\n",
       "      <td>4137</td>\n",
       "      <td>0.33</td>\n",
       "    </tr>\n",
       "    <tr>\n",
       "      <th>AUD</th>\n",
       "      <td>4610</td>\n",
       "      <td>2011</td>\n",
       "      <td>0.30</td>\n",
       "    </tr>\n",
       "    <tr>\n",
       "      <th>JPY</th>\n",
       "      <td>16</td>\n",
       "      <td>7</td>\n",
       "      <td>0.30</td>\n",
       "    </tr>\n",
       "    <tr>\n",
       "      <th>CHF</th>\n",
       "      <td>465</td>\n",
       "      <td>187</td>\n",
       "      <td>0.29</td>\n",
       "    </tr>\n",
       "    <tr>\n",
       "      <th>MXN</th>\n",
       "      <td>1015</td>\n",
       "      <td>396</td>\n",
       "      <td>0.28</td>\n",
       "    </tr>\n",
       "    <tr>\n",
       "      <th>NOK</th>\n",
       "      <td>421</td>\n",
       "      <td>163</td>\n",
       "      <td>0.28</td>\n",
       "    </tr>\n",
       "    <tr>\n",
       "      <th>EUR</th>\n",
       "      <td>10496</td>\n",
       "      <td>3882</td>\n",
       "      <td>0.27</td>\n",
       "    </tr>\n",
       "  </tbody>\n",
       "</table>\n",
       "</div>"
      ],
      "text/plain": [
       "state     failed  successful  success_rate\n",
       "currency                                  \n",
       "HKD          261         216          0.45\n",
       "USD       152132      109379          0.42\n",
       "GBP        17395       12081          0.41\n",
       "DKK          567         362          0.39\n",
       "SGD          276         178          0.39\n",
       "NZD          826         448          0.35\n",
       "SEK         1001         509          0.34\n",
       "CAD         8238        4137          0.33\n",
       "AUD         4610        2011          0.30\n",
       "JPY           16           7          0.30\n",
       "CHF          465         187          0.29\n",
       "MXN         1015         396          0.28\n",
       "NOK          421         163          0.28\n",
       "EUR        10496        3882          0.27"
      ]
     },
     "execution_count": 30,
     "metadata": {},
     "output_type": "execute_result"
    }
   ],
   "source": [
    "crosstab_currency=pd.crosstab(df1.currency,df1.state)\n",
    "crosstab_currency['success_rate']=(crosstab_currency.successful/crosstab_currency.sum(axis=1)).round(2)\n",
    "crosstab_currency.sort_values(by='success_rate', ascending=False)"
   ]
  },
  {
   "cell_type": "code",
   "execution_count": 31,
   "metadata": {},
   "outputs": [],
   "source": [
    "df1.launched=pd.to_datetime(df1.launched)"
   ]
  },
  {
   "cell_type": "code",
   "execution_count": 32,
   "metadata": {},
   "outputs": [],
   "source": [
    "df1.deadline=pd.to_datetime(df1.deadline)"
   ]
  },
  {
   "cell_type": "code",
   "execution_count": 33,
   "metadata": {},
   "outputs": [],
   "source": [
    "df1['duration']=(df1.deadline-df1.launched).dt.days"
   ]
  },
  {
   "cell_type": "code",
   "execution_count": 34,
   "metadata": {},
   "outputs": [
    {
     "data": {
      "image/png": "[encoded data removed]",
      "text/plain": [
       "<Figure size 432x288 with 2 Axes>"
      ]
     },
     "metadata": {},
     "output_type": "display_data"
    }
   ],
   "source": [
    "df1.duration.hist(by=df1.state);"
   ]
  },
  {
   "cell_type": "code",
   "execution_count": 35,
   "metadata": {},
   "outputs": [
    {
     "data": {
      "image/png": "[encoded data removed]",
      "text/plain": [
       "<Figure size 1296x432 with 1 Axes>"
      ]
     },
     "metadata": {},
     "output_type": "display_data"
    }
   ],
   "source": [
    "plt.figure(figsize=(18,6))\n",
    "sns.violinplot(x='main_category',y='duration',hue='state',data=df1,split=True)\n",
    "plt.show()"
   ]
  },
  {
   "cell_type": "code",
   "execution_count": 36,
   "metadata": {},
   "outputs": [
    {
     "data": {
      "text/plain": [
       "166361390.71"
      ]
     },
     "execution_count": 36,
     "metadata": {},
     "output_type": "execute_result"
    }
   ],
   "source": [
    "df1.usd_goal_real.max()"
   ]
  },
  {
   "cell_type": "code",
   "execution_count": 37,
   "metadata": {},
   "outputs": [
    {
     "data": {
      "text/plain": [
       "ID                                                 1243678698\n",
       "name                FUCK Potato Salad. Paleo Potato Brownies!\n",
       "category                                                 Food\n",
       "main_category                                            Food\n",
       "currency                                                  GBP\n",
       "deadline                                  2014-08-08 00:00:00\n",
       "goal                                                  9.9e+07\n",
       "launched                                  2014-07-09 00:24:34\n",
       "pledged                                                     0\n",
       "state                                                  failed\n",
       "backers                                                     0\n",
       "country                                                    GB\n",
       "usd pledged                                                 0\n",
       "usd_pledged_real                                            0\n",
       "usd_goal_real                                     1.66361e+08\n",
       "duration                                                   29\n",
       "Name: 47803, dtype: object"
      ]
     },
     "execution_count": 37,
     "metadata": {},
     "output_type": "execute_result"
    }
   ],
   "source": [
    "df1.loc[df1.usd_goal_real.idxmax()]"
   ]
  },
  {
   "cell_type": "code",
   "execution_count": 38,
   "metadata": {},
   "outputs": [
    {
     "data": {
      "text/html": [
       "<div>\n",
       "<style scoped>\n",
       "    .dataframe tbody tr th:only-of-type {\n",
       "        vertical-align: middle;\n",
       "    }\n",
       "\n",
       "    .dataframe tbody tr th {\n",
       "        vertical-align: top;\n",
       "    }\n",
       "\n",
       "    .dataframe thead th {\n",
       "        text-align: right;\n",
       "    }\n",
       "</style>\n",
       "<table border=\"1\" class=\"dataframe\">\n",
       "  <thead>\n",
       "    <tr style=\"text-align: right;\">\n",
       "      <th></th>\n",
       "      <th>ID</th>\n",
       "      <th>name</th>\n",
       "      <th>category</th>\n",
       "      <th>main_category</th>\n",
       "      <th>currency</th>\n",
       "      <th>deadline</th>\n",
       "      <th>goal</th>\n",
       "      <th>launched</th>\n",
       "      <th>pledged</th>\n",
       "      <th>state</th>\n",
       "      <th>backers</th>\n",
       "      <th>country</th>\n",
       "      <th>usd pledged</th>\n",
       "      <th>usd_pledged_real</th>\n",
       "      <th>usd_goal_real</th>\n",
       "      <th>duration</th>\n",
       "    </tr>\n",
       "  </thead>\n",
       "  <tbody>\n",
       "    <tr>\n",
       "      <th>89481</th>\n",
       "      <td>1454565733</td>\n",
       "      <td>Bring Back MYSTERY SCIENCE THEATER 3000</td>\n",
       "      <td>Television</td>\n",
       "      <td>Film &amp; Video</td>\n",
       "      <td>USD</td>\n",
       "      <td>2015-12-12</td>\n",
       "      <td>2000000.0</td>\n",
       "      <td>2015-11-10 16:49:32</td>\n",
       "      <td>5764229.38</td>\n",
       "      <td>successful</td>\n",
       "      <td>48270</td>\n",
       "      <td>US</td>\n",
       "      <td>5764229.38</td>\n",
       "      <td>5764229.38</td>\n",
       "      <td>2000000.00</td>\n",
       "      <td>31</td>\n",
       "    </tr>\n",
       "    <tr>\n",
       "      <th>111636</th>\n",
       "      <td>1567218706</td>\n",
       "      <td>The Newest Hottest Spike Lee Joint</td>\n",
       "      <td>Narrative Film</td>\n",
       "      <td>Film &amp; Video</td>\n",
       "      <td>USD</td>\n",
       "      <td>2013-08-21</td>\n",
       "      <td>1250000.0</td>\n",
       "      <td>2013-07-22 18:15:41</td>\n",
       "      <td>1418910.22</td>\n",
       "      <td>successful</td>\n",
       "      <td>6421</td>\n",
       "      <td>US</td>\n",
       "      <td>1418910.22</td>\n",
       "      <td>1418910.22</td>\n",
       "      <td>1250000.00</td>\n",
       "      <td>29</td>\n",
       "    </tr>\n",
       "    <tr>\n",
       "      <th>134462</th>\n",
       "      <td>1682353635</td>\n",
       "      <td>Camelot Unchained</td>\n",
       "      <td>Video Games</td>\n",
       "      <td>Games</td>\n",
       "      <td>USD</td>\n",
       "      <td>2013-05-02</td>\n",
       "      <td>2000000.0</td>\n",
       "      <td>2013-04-02 17:56:11</td>\n",
       "      <td>2232933.03</td>\n",
       "      <td>successful</td>\n",
       "      <td>14873</td>\n",
       "      <td>US</td>\n",
       "      <td>2232933.03</td>\n",
       "      <td>2232933.03</td>\n",
       "      <td>2000000.00</td>\n",
       "      <td>29</td>\n",
       "    </tr>\n",
       "    <tr>\n",
       "      <th>141638</th>\n",
       "      <td>1719494931</td>\n",
       "      <td>Obduction</td>\n",
       "      <td>Video Games</td>\n",
       "      <td>Games</td>\n",
       "      <td>USD</td>\n",
       "      <td>2013-11-16</td>\n",
       "      <td>1100000.0</td>\n",
       "      <td>2013-10-17 15:06:31</td>\n",
       "      <td>1321306.44</td>\n",
       "      <td>successful</td>\n",
       "      <td>22195</td>\n",
       "      <td>US</td>\n",
       "      <td>1321306.44</td>\n",
       "      <td>1321306.44</td>\n",
       "      <td>1100000.00</td>\n",
       "      <td>29</td>\n",
       "    </tr>\n",
       "    <tr>\n",
       "      <th>148585</th>\n",
       "      <td>1755266685</td>\n",
       "      <td>The Veronica Mars Movie Project</td>\n",
       "      <td>Narrative Film</td>\n",
       "      <td>Film &amp; Video</td>\n",
       "      <td>USD</td>\n",
       "      <td>2013-04-13</td>\n",
       "      <td>2000000.0</td>\n",
       "      <td>2013-03-13 15:42:22</td>\n",
       "      <td>5702153.38</td>\n",
       "      <td>successful</td>\n",
       "      <td>91585</td>\n",
       "      <td>US</td>\n",
       "      <td>5702153.38</td>\n",
       "      <td>5702153.38</td>\n",
       "      <td>2000000.00</td>\n",
       "      <td>30</td>\n",
       "    </tr>\n",
       "    <tr>\n",
       "      <th>171322</th>\n",
       "      <td>1871494789</td>\n",
       "      <td>WISH I WAS HERE</td>\n",
       "      <td>Narrative Film</td>\n",
       "      <td>Film &amp; Video</td>\n",
       "      <td>USD</td>\n",
       "      <td>2013-05-24</td>\n",
       "      <td>2000000.0</td>\n",
       "      <td>2013-04-24 11:57:04</td>\n",
       "      <td>3105473.10</td>\n",
       "      <td>successful</td>\n",
       "      <td>46520</td>\n",
       "      <td>US</td>\n",
       "      <td>3105473.10</td>\n",
       "      <td>3105473.10</td>\n",
       "      <td>2000000.00</td>\n",
       "      <td>29</td>\n",
       "    </tr>\n",
       "    <tr>\n",
       "      <th>272924</th>\n",
       "      <td>458565935</td>\n",
       "      <td>Project Eternity</td>\n",
       "      <td>Video Games</td>\n",
       "      <td>Games</td>\n",
       "      <td>USD</td>\n",
       "      <td>2012-10-17</td>\n",
       "      <td>1100000.0</td>\n",
       "      <td>2012-09-14 19:01:04</td>\n",
       "      <td>3986929.49</td>\n",
       "      <td>successful</td>\n",
       "      <td>73986</td>\n",
       "      <td>US</td>\n",
       "      <td>3986929.49</td>\n",
       "      <td>3986929.49</td>\n",
       "      <td>1100000.00</td>\n",
       "      <td>32</td>\n",
       "    </tr>\n",
       "    <tr>\n",
       "      <th>324291</th>\n",
       "      <td>721748605</td>\n",
       "      <td>Blue Mountain State: The Movie</td>\n",
       "      <td>Narrative Film</td>\n",
       "      <td>Film &amp; Video</td>\n",
       "      <td>USD</td>\n",
       "      <td>2014-05-15</td>\n",
       "      <td>1500000.0</td>\n",
       "      <td>2014-04-15 14:43:13</td>\n",
       "      <td>1911827.41</td>\n",
       "      <td>successful</td>\n",
       "      <td>23999</td>\n",
       "      <td>US</td>\n",
       "      <td>1911827.41</td>\n",
       "      <td>1911827.41</td>\n",
       "      <td>1500000.00</td>\n",
       "      <td>29</td>\n",
       "    </tr>\n",
       "    <tr>\n",
       "      <th>337372</th>\n",
       "      <td>788486889</td>\n",
       "      <td>The Bards Tale IV</td>\n",
       "      <td>Video Games</td>\n",
       "      <td>Games</td>\n",
       "      <td>USD</td>\n",
       "      <td>2015-07-11</td>\n",
       "      <td>1250000.0</td>\n",
       "      <td>2015-06-02 14:57:26</td>\n",
       "      <td>1519680.86</td>\n",
       "      <td>successful</td>\n",
       "      <td>33741</td>\n",
       "      <td>US</td>\n",
       "      <td>1519680.86</td>\n",
       "      <td>1519680.86</td>\n",
       "      <td>1250000.00</td>\n",
       "      <td>38</td>\n",
       "    </tr>\n",
       "    <tr>\n",
       "      <th>355330</th>\n",
       "      <td>880009511</td>\n",
       "      <td>Elite: Dangerous</td>\n",
       "      <td>Video Games</td>\n",
       "      <td>Games</td>\n",
       "      <td>GBP</td>\n",
       "      <td>2013-01-05</td>\n",
       "      <td>1250000.0</td>\n",
       "      <td>2012-11-06 01:00:57</td>\n",
       "      <td>1578316.08</td>\n",
       "      <td>successful</td>\n",
       "      <td>25681</td>\n",
       "      <td>GB</td>\n",
       "      <td>2529437.82</td>\n",
       "      <td>2545014.32</td>\n",
       "      <td>2015608.88</td>\n",
       "      <td>59</td>\n",
       "    </tr>\n",
       "    <tr>\n",
       "      <th>368573</th>\n",
       "      <td>947809001</td>\n",
       "      <td>Shenmue 3</td>\n",
       "      <td>Video Games</td>\n",
       "      <td>Games</td>\n",
       "      <td>USD</td>\n",
       "      <td>2015-07-18</td>\n",
       "      <td>2000000.0</td>\n",
       "      <td>2015-06-16 03:51:04</td>\n",
       "      <td>6333295.77</td>\n",
       "      <td>successful</td>\n",
       "      <td>69320</td>\n",
       "      <td>US</td>\n",
       "      <td>6333295.77</td>\n",
       "      <td>6333295.77</td>\n",
       "      <td>2000000.00</td>\n",
       "      <td>31</td>\n",
       "    </tr>\n",
       "  </tbody>\n",
       "</table>\n",
       "</div>"
      ],
      "text/plain": [
       "                ID                                     name        category  \\\n",
       "89481   1454565733  Bring Back MYSTERY SCIENCE THEATER 3000      Television   \n",
       "111636  1567218706       The Newest Hottest Spike Lee Joint  Narrative Film   \n",
       "134462  1682353635                        Camelot Unchained     Video Games   \n",
       "141638  1719494931                                Obduction     Video Games   \n",
       "148585  1755266685          The Veronica Mars Movie Project  Narrative Film   \n",
       "171322  1871494789                          WISH I WAS HERE  Narrative Film   \n",
       "272924   458565935                         Project Eternity     Video Games   \n",
       "324291   721748605           Blue Mountain State: The Movie  Narrative Film   \n",
       "337372   788486889                        The Bards Tale IV     Video Games   \n",
       "355330   880009511                         Elite: Dangerous     Video Games   \n",
       "368573   947809001                                Shenmue 3     Video Games   \n",
       "\n",
       "       main_category currency   deadline       goal            launched  \\\n",
       "89481   Film & Video      USD 2015-12-12  2000000.0 2015-11-10 16:49:32   \n",
       "111636  Film & Video      USD 2013-08-21  1250000.0 2013-07-22 18:15:41   \n",
       "134462         Games      USD 2013-05-02  2000000.0 2013-04-02 17:56:11   \n",
       "141638         Games      USD 2013-11-16  1100000.0 2013-10-17 15:06:31   \n",
       "148585  Film & Video      USD 2013-04-13  2000000.0 2013-03-13 15:42:22   \n",
       "171322  Film & Video      USD 2013-05-24  2000000.0 2013-04-24 11:57:04   \n",
       "272924         Games      USD 2012-10-17  1100000.0 2012-09-14 19:01:04   \n",
       "324291  Film & Video      USD 2014-05-15  1500000.0 2014-04-15 14:43:13   \n",
       "337372         Games      USD 2015-07-11  1250000.0 2015-06-02 14:57:26   \n",
       "355330         Games      GBP 2013-01-05  1250000.0 2012-11-06 01:00:57   \n",
       "368573         Games      USD 2015-07-18  2000000.0 2015-06-16 03:51:04   \n",
       "\n",
       "           pledged       state  backers country  usd pledged  \\\n",
       "89481   5764229.38  successful    48270      US   5764229.38   \n",
       "111636  1418910.22  successful     6421      US   1418910.22   \n",
       "134462  2232933.03  successful    14873      US   2232933.03   \n",
       "141638  1321306.44  successful    22195      US   1321306.44   \n",
       "148585  5702153.38  successful    91585      US   5702153.38   \n",
       "171322  3105473.10  successful    46520      US   3105473.10   \n",
       "272924  3986929.49  successful    73986      US   3986929.49   \n",
       "324291  1911827.41  successful    23999      US   1911827.41   \n",
       "337372  1519680.86  successful    33741      US   1519680.86   \n",
       "355330  1578316.08  successful    25681      GB   2529437.82   \n",
       "368573  6333295.77  successful    69320      US   6333295.77   \n",
       "\n",
       "        usd_pledged_real  usd_goal_real  duration  \n",
       "89481         5764229.38     2000000.00        31  \n",
       "111636        1418910.22     1250000.00        29  \n",
       "134462        2232933.03     2000000.00        29  \n",
       "141638        1321306.44     1100000.00        29  \n",
       "148585        5702153.38     2000000.00        30  \n",
       "171322        3105473.10     2000000.00        29  \n",
       "272924        3986929.49     1100000.00        32  \n",
       "324291        1911827.41     1500000.00        29  \n",
       "337372        1519680.86     1250000.00        38  \n",
       "355330        2545014.32     2015608.88        59  \n",
       "368573        6333295.77     2000000.00        31  "
      ]
     },
     "execution_count": 38,
     "metadata": {},
     "output_type": "execute_result"
    }
   ],
   "source": [
    "df1.query('usd_goal_real>1e+6 & state==\"successful\"')"
   ]
  },
  {
   "cell_type": "code",
   "execution_count": 39,
   "metadata": {},
   "outputs": [
    {
     "data": {
      "text/plain": [
       "<matplotlib.axes._subplots.AxesSubplot at 0x1b0bb9741d0>"
      ]
     },
     "execution_count": 39,
     "metadata": {},
     "output_type": "execute_result"
    },
    {
     "data": {
      "image/png": "[encoded data removed]",
      "text/plain": [
       "<Figure size 432x288 with 2 Axes>"
      ]
     },
     "metadata": {},
     "output_type": "display_data"
    }
   ],
   "source": [
    "sns.heatmap(df1.corr())"
   ]
  },
  {
   "cell_type": "code",
   "execution_count": 40,
   "metadata": {},
   "outputs": [
    {
     "data": {
      "text/plain": [
       "ID                    0\n",
       "name                  3\n",
       "category              0\n",
       "main_category         0\n",
       "currency              0\n",
       "deadline              0\n",
       "goal                  0\n",
       "launched              0\n",
       "pledged               0\n",
       "state                 0\n",
       "backers               0\n",
       "country               0\n",
       "usd pledged         210\n",
       "usd_pledged_real      0\n",
       "usd_goal_real         0\n",
       "duration              0\n",
       "dtype: int64"
      ]
     },
     "execution_count": 40,
     "metadata": {},
     "output_type": "execute_result"
    }
   ],
   "source": [
    "df1.isna().sum()"
   ]
  },
  {
   "cell_type": "code",
   "execution_count": 41,
   "metadata": {},
   "outputs": [],
   "source": [
    "df1.drop('usd pledged',axis=1,inplace=True)"
   ]
  },
  {
   "cell_type": "code",
   "execution_count": 42,
   "metadata": {},
   "outputs": [
    {
     "data": {
      "text/plain": [
       "US      261360\n",
       "GB       29454\n",
       "CA       12370\n",
       "AU        6616\n",
       "DE        3436\n",
       "FR        2520\n",
       "NL        2411\n",
       "IT        2369\n",
       "ES        1873\n",
       "SE        1509\n",
       "MX        1411\n",
       "NZ        1274\n",
       "DK         926\n",
       "IE         683\n",
       "CH         652\n",
       "NO         582\n",
       "BE         523\n",
       "AT         485\n",
       "HK         477\n",
       "SG         454\n",
       "N,0\"       210\n",
       "LU          57\n",
       "JP          23\n",
       "Name: country, dtype: int64"
      ]
     },
     "execution_count": 42,
     "metadata": {},
     "output_type": "execute_result"
    }
   ],
   "source": [
    "df1.country.value_counts()"
   ]
  },
  {
   "cell_type": "code",
   "execution_count": 43,
   "metadata": {},
   "outputs": [],
   "source": [
    "dct={'US':'US','CA':'CA','GB':'EU','DE':'EU','FR':'EU','NL':\"EU\",'IT':'EU','ES':\"EU\",'SE':'EU','DK':\"EU\",\n",
    "    'NO':'EU','LU':'EU','CH':'EU'}"
   ]
  },
  {
   "cell_type": "code",
   "execution_count": 44,
   "metadata": {},
   "outputs": [],
   "source": [
    "df1.country=df1.country.map(dct).fillna('Other')"
   ]
  },
  {
   "cell_type": "code",
   "execution_count": 45,
   "metadata": {},
   "outputs": [
    {
     "data": {
      "text/plain": [
       "US       261360\n",
       "EU        45789\n",
       "CA        12370\n",
       "Other     12156\n",
       "Name: country, dtype: int64"
      ]
     },
     "execution_count": 45,
     "metadata": {},
     "output_type": "execute_result"
    }
   ],
   "source": [
    "df1.country.value_counts()"
   ]
  },
  {
   "cell_type": "code",
   "execution_count": 119,
   "metadata": {},
   "outputs": [],
   "source": [
    "X=df1[['main_category','country','currency','duration','usd_goal_real', 'launched']].copy()\n",
    "y=df1.state.copy()"
   ]
  },
  {
   "cell_type": "code",
   "execution_count": 120,
   "metadata": {},
   "outputs": [],
   "source": [
    "#['year']=X.launched.dt.year\n",
    "X['month']=X.launched.dt.month\n",
    "X['weekday']=X.launched.dt.weekday"
   ]
  },
  {
   "cell_type": "code",
   "execution_count": 121,
   "metadata": {},
   "outputs": [],
   "source": [
    "dummies=['main_category','country','currency','month','weekday']"
   ]
  },
  {
   "cell_type": "code",
   "execution_count": 122,
   "metadata": {},
   "outputs": [],
   "source": [
    "X.drop('launched',axis=1,inplace=True)"
   ]
  },
  {
   "cell_type": "code",
   "execution_count": 123,
   "metadata": {},
   "outputs": [],
   "source": [
    "X=pd.get_dummies(data=X,columns=dummies,drop_first=True)"
   ]
  },
  {
   "cell_type": "code",
   "execution_count": 124,
   "metadata": {},
   "outputs": [],
   "source": [
    "y=y.map({'failed':1,'successful':0})"
   ]
  },
  {
   "cell_type": "code",
   "execution_count": 125,
   "metadata": {},
   "outputs": [
    {
     "data": {
      "text/plain": [
       "1    197719\n",
       "0    133956\n",
       "Name: state, dtype: int64"
      ]
     },
     "execution_count": 125,
     "metadata": {},
     "output_type": "execute_result"
    }
   ],
   "source": [
    "y.value_counts()"
   ]
  },
  {
   "cell_type": "code",
   "execution_count": 126,
   "metadata": {},
   "outputs": [],
   "source": [
    "from sklearn.model_selection import train_test_split"
   ]
  },
  {
   "cell_type": "code",
   "execution_count": 127,
   "metadata": {},
   "outputs": [],
   "source": [
    "X.usd_goal_real=(X.usd_goal_real-X.usd_goal_real.min())/(X.usd_goal_real.max()-X.usd_goal_real.min())"
   ]
  },
  {
   "cell_type": "code",
   "execution_count": null,
   "metadata": {},
   "outputs": [],
   "source": []
  },
  {
   "cell_type": "code",
   "execution_count": 128,
   "metadata": {},
   "outputs": [],
   "source": [
    "from sklearn.preprocessing import MinMaxScaler"
   ]
  },
  {
   "cell_type": "code",
   "execution_count": 129,
   "metadata": {},
   "outputs": [],
   "source": [
    "X.duration=X.duration/29"
   ]
  },
  {
   "cell_type": "code",
   "execution_count": 130,
   "metadata": {},
   "outputs": [],
   "source": [
    "X_train,X_test, y_train,y_test=train_test_split(X,y,test_size=0.33, stratify=y)"
   ]
  },
  {
   "cell_type": "code",
   "execution_count": 131,
   "metadata": {},
   "outputs": [
    {
     "data": {
      "text/plain": [
       "1    0.596123\n",
       "0    0.403877\n",
       "Name: state, dtype: float64"
      ]
     },
     "execution_count": 131,
     "metadata": {},
     "output_type": "execute_result"
    }
   ],
   "source": [
    "y.value_counts(normalize=True)"
   ]
  },
  {
   "cell_type": "code",
   "execution_count": 59,
   "metadata": {},
   "outputs": [
    {
     "data": {
      "text/plain": [
       "1    0.596119\n",
       "0    0.403881\n",
       "Name: state, dtype: float64"
      ]
     },
     "execution_count": 59,
     "metadata": {},
     "output_type": "execute_result"
    }
   ],
   "source": [
    "y_test.value_counts(normalize=True)"
   ]
  },
  {
   "cell_type": "code",
   "execution_count": 60,
   "metadata": {},
   "outputs": [
    {
     "data": {
      "text/plain": [
       "1    0.596125\n",
       "0    0.403875\n",
       "Name: state, dtype: float64"
      ]
     },
     "execution_count": 60,
     "metadata": {},
     "output_type": "execute_result"
    }
   ],
   "source": [
    "y_train.value_counts(normalize=True)"
   ]
  },
  {
   "cell_type": "code",
   "execution_count": 61,
   "metadata": {},
   "outputs": [],
   "source": [
    "from sklearn.linear_model import LogisticRegression"
   ]
  },
  {
   "cell_type": "code",
   "execution_count": 62,
   "metadata": {},
   "outputs": [
    {
     "name": "stderr",
     "output_type": "stream",
     "text": [
      "C:\\Users\\eldiy\\Anaconda3\\lib\\site-packages\\sklearn\\linear_model\\logistic.py:432: FutureWarning: Default solver will be changed to 'lbfgs' in 0.22. Specify a solver to silence this warning.\n",
      "  FutureWarning)\n"
     ]
    }
   ],
   "source": [
    "model1=LogisticRegression().fit(X_train,y_train)"
   ]
  },
  {
   "cell_type": "code",
   "execution_count": 63,
   "metadata": {},
   "outputs": [],
   "source": [
    "y_pred1=model1.predict(X_test)"
   ]
  },
  {
   "cell_type": "code",
   "execution_count": 64,
   "metadata": {},
   "outputs": [],
   "source": [
    "from sklearn.metrics import confusion_matrix"
   ]
  },
  {
   "cell_type": "code",
   "execution_count": 65,
   "metadata": {},
   "outputs": [
    {
     "data": {
      "text/plain": [
       "array([[13925, 30281],\n",
       "       [ 9759, 55488]], dtype=int64)"
      ]
     },
     "execution_count": 65,
     "metadata": {},
     "output_type": "execute_result"
    }
   ],
   "source": [
    "confusion_matrix(y_test,y_pred1)"
   ]
  },
  {
   "cell_type": "code",
   "execution_count": 66,
   "metadata": {},
   "outputs": [],
   "source": [
    "from sklearn.metrics import roc_curve, roc_auc_score"
   ]
  },
  {
   "cell_type": "code",
   "execution_count": 67,
   "metadata": {},
   "outputs": [
    {
     "name": "stdout",
     "output_type": "stream",
     "text": [
      "0.582716196586604\n"
     ]
    },
    {
     "data": {
      "image/png": "[encoded data removed]",
      "text/plain": [
       "<Figure size 432x288 with 1 Axes>"
      ]
     },
     "metadata": {},
     "output_type": "display_data"
    }
   ],
   "source": [
    "fpr,tpr,_=roc_curve(y_test,y_pred1)\n",
    "auc=roc_auc_score(y_test,y_pred1)\n",
    "plt.plot(fpr,tpr)\n",
    "print(auc)"
   ]
  },
  {
   "cell_type": "markdown",
   "metadata": {},
   "source": [
    "# Another model"
   ]
  },
  {
   "cell_type": "code",
   "execution_count": 68,
   "metadata": {},
   "outputs": [],
   "source": [
    "from sklearn.neighbors import KNeighborsClassifier\n",
    "from sklearn.ensemble import RandomForestClassifier\n",
    "from sklearn.naive_bayes import GaussianNB\n",
    "from sklearn.tree import DecisionTreeClassifier"
   ]
  },
  {
   "cell_type": "code",
   "execution_count": 69,
   "metadata": {},
   "outputs": [],
   "source": [
    "#!pip install xgboost"
   ]
  },
  {
   "cell_type": "code",
   "execution_count": 70,
   "metadata": {},
   "outputs": [],
   "source": [
    "from xgboost import XGBClassifier"
   ]
  },
  {
   "cell_type": "code",
   "execution_count": 71,
   "metadata": {},
   "outputs": [],
   "source": [
    "#!pip install catboost"
   ]
  },
  {
   "cell_type": "code",
   "execution_count": 72,
   "metadata": {},
   "outputs": [],
   "source": [
    "from catboost import CatBoostClassifier"
   ]
  },
  {
   "cell_type": "code",
   "execution_count": 132,
   "metadata": {},
   "outputs": [],
   "source": [
    "model_list=[KNeighborsClassifier,GaussianNB,DecisionTreeClassifier,RandomForestClassifier,XGBClassifier]"
   ]
  },
  {
   "cell_type": "code",
   "execution_count": 74,
   "metadata": {},
   "outputs": [],
   "source": [
    "from sklearn.metrics import accuracy_score"
   ]
  },
  {
   "cell_type": "code",
   "execution_count": 75,
   "metadata": {},
   "outputs": [
    {
     "name": "stdout",
     "output_type": "stream",
     "text": [
      "KNeighborsClassifier started\n",
      "GaussianNB started\n",
      "DecisionTreeClassifier started\n",
      "RandomForestClassifier started\n",
      "XGBClassifier started\n",
      "CatBoostClassifier started\n"
     ]
    }
   ],
   "source": [
    "l_acc=[]\n",
    "l_cm=[]\n",
    "\n",
    "for model in model_list:\n",
    "    print(type(model).__name__, 'started')"
   ]
  },
  {
   "cell_type": "code",
   "execution_count": 134,
   "metadata": {},
   "outputs": [
    {
     "name": "stdout",
     "output_type": "stream",
     "text": [
      "<class 'sklearn.neighbors.classification.KNeighborsClassifier'> started\n",
      "<class 'sklearn.neighbors.classification.KNeighborsClassifier'> is done\n",
      "<class 'sklearn.naive_bayes.GaussianNB'> started\n",
      "<class 'sklearn.naive_bayes.GaussianNB'> is done\n",
      "<class 'sklearn.tree.tree.DecisionTreeClassifier'> started\n",
      "<class 'sklearn.tree.tree.DecisionTreeClassifier'> is done\n",
      "<class 'sklearn.ensemble.forest.RandomForestClassifier'> started\n"
     ]
    },
    {
     "name": "stderr",
     "output_type": "stream",
     "text": [
      "C:\\Users\\eldiy\\Anaconda3\\lib\\site-packages\\sklearn\\ensemble\\forest.py:245: FutureWarning: The default value of n_estimators will change from 10 in version 0.20 to 100 in 0.22.\n",
      "  \"10 in version 0.20 to 100 in 0.22.\", FutureWarning)\n"
     ]
    },
    {
     "name": "stdout",
     "output_type": "stream",
     "text": [
      "<class 'sklearn.ensemble.forest.RandomForestClassifier'> is done\n",
      "<class 'xgboost.sklearn.XGBClassifier'> started\n",
      "<class 'xgboost.sklearn.XGBClassifier'> is done\n"
     ]
    }
   ],
   "source": [
    "for model in model_list:\n",
    "    print(model, 'started')\n",
    "    model2=model().fit(X=X_train,y=y_train)\n",
    "    y_pred2=model2.predict(X_test)\n",
    "    l_acc.append(accuracy_score(y_test,y_pred2))\n",
    "    l_cm.append(confusion_matrix(y_test,y_pred2))\n",
    "    print(model, 'is done')"
   ]
  },
  {
   "cell_type": "code",
   "execution_count": null,
   "metadata": {},
   "outputs": [],
   "source": [
    "pd.DataFrame([[type(i).__name__ for i in model_list],l_acc]).T.sort_values(by=1)"
   ]
  },
  {
   "cell_type": "code",
   "execution_count": null,
   "metadata": {},
   "outputs": [],
   "source": []
  },
  {
   "cell_type": "markdown",
   "metadata": {},
   "source": [
    "# Catboost"
   ]
  },
  {
   "cell_type": "code",
   "execution_count": 98,
   "metadata": {},
   "outputs": [],
   "source": [
    "?CatBoostClassifier"
   ]
  },
  {
   "cell_type": "code",
   "execution_count": 115,
   "metadata": {
    "scrolled": true
   },
   "outputs": [
    {
     "name": "stdout",
     "output_type": "stream",
     "text": [
      "Learning rate set to 0.5\n",
      "0:\tlearn: 0.3498362\ttotal: 85.5ms\tremaining: 8.46s\n",
      "1:\tlearn: 0.4254489\ttotal: 153ms\tremaining: 7.47s\n",
      "2:\tlearn: 0.4870701\ttotal: 229ms\tremaining: 7.41s\n",
      "3:\tlearn: 0.5061436\ttotal: 283ms\tremaining: 6.79s\n",
      "4:\tlearn: 0.5156065\ttotal: 387ms\tremaining: 7.36s\n",
      "5:\tlearn: 0.5150058\ttotal: 459ms\tremaining: 7.18s\n",
      "6:\tlearn: 0.5157533\ttotal: 574ms\tremaining: 7.63s\n",
      "7:\tlearn: 0.5214274\ttotal: 651ms\tremaining: 7.48s\n",
      "8:\tlearn: 0.5221624\ttotal: 723ms\tremaining: 7.31s\n",
      "9:\tlearn: 0.5203685\ttotal: 782ms\tremaining: 7.04s\n",
      "10:\tlearn: 0.5237262\ttotal: 839ms\tremaining: 6.79s\n",
      "11:\tlearn: 0.5236503\ttotal: 896ms\tremaining: 6.57s\n",
      "12:\tlearn: 0.5233228\ttotal: 934ms\tremaining: 6.25s\n",
      "13:\tlearn: 0.5240970\ttotal: 1.03s\tremaining: 6.33s\n",
      "14:\tlearn: 0.5238622\ttotal: 1.09s\tremaining: 6.17s\n",
      "15:\tlearn: 0.5232752\ttotal: 1.17s\tremaining: 6.16s\n",
      "16:\tlearn: 0.5233047\ttotal: 1.24s\tremaining: 6.06s\n",
      "17:\tlearn: 0.5253221\ttotal: 1.32s\tremaining: 6s\n",
      "18:\tlearn: 0.5272945\ttotal: 1.39s\tremaining: 5.91s\n",
      "19:\tlearn: 0.5280969\ttotal: 1.42s\tremaining: 5.7s\n",
      "20:\tlearn: 0.5276969\ttotal: 1.48s\tremaining: 5.58s\n",
      "21:\tlearn: 0.5279168\ttotal: 1.56s\tremaining: 5.53s\n",
      "22:\tlearn: 0.5284300\ttotal: 1.63s\tremaining: 5.47s\n",
      "23:\tlearn: 0.5288804\ttotal: 1.7s\tremaining: 5.38s\n",
      "24:\tlearn: 0.5293842\ttotal: 1.8s\tremaining: 5.4s\n",
      "25:\tlearn: 0.5309061\ttotal: 1.86s\tremaining: 5.28s\n",
      "26:\tlearn: 0.5298796\ttotal: 1.91s\tremaining: 5.15s\n",
      "27:\tlearn: 0.5314372\ttotal: 1.97s\tremaining: 5.07s\n",
      "28:\tlearn: 0.5317810\ttotal: 2.02s\tremaining: 4.96s\n",
      "29:\tlearn: 0.5318644\ttotal: 2.08s\tremaining: 4.84s\n",
      "30:\tlearn: 0.5324117\ttotal: 2.15s\tremaining: 4.78s\n",
      "31:\tlearn: 0.5321862\ttotal: 2.21s\tremaining: 4.7s\n",
      "32:\tlearn: 0.5328159\ttotal: 2.26s\tremaining: 4.59s\n",
      "33:\tlearn: 0.5330385\ttotal: 2.31s\tremaining: 4.49s\n",
      "34:\tlearn: 0.5328471\ttotal: 2.37s\tremaining: 4.4s\n",
      "35:\tlearn: 0.5334562\ttotal: 2.44s\tremaining: 4.33s\n",
      "36:\tlearn: 0.5335556\ttotal: 2.49s\tremaining: 4.24s\n",
      "37:\tlearn: 0.5339332\ttotal: 2.54s\tremaining: 4.14s\n",
      "38:\tlearn: 0.5342795\ttotal: 2.6s\tremaining: 4.06s\n",
      "39:\tlearn: 0.5343031\ttotal: 2.66s\tremaining: 3.99s\n",
      "40:\tlearn: 0.5342001\ttotal: 2.71s\tremaining: 3.9s\n",
      "41:\tlearn: 0.5345736\ttotal: 2.76s\tremaining: 3.81s\n",
      "42:\tlearn: 0.5345669\ttotal: 2.82s\tremaining: 3.74s\n",
      "43:\tlearn: 0.5346264\ttotal: 2.88s\tremaining: 3.67s\n",
      "44:\tlearn: 0.5350140\ttotal: 2.93s\tremaining: 3.59s\n",
      "45:\tlearn: 0.5354837\ttotal: 2.98s\tremaining: 3.5s\n",
      "46:\tlearn: 0.5358433\ttotal: 3.03s\tremaining: 3.42s\n",
      "47:\tlearn: 0.5358408\ttotal: 3.11s\tremaining: 3.37s\n",
      "48:\tlearn: 0.5358165\ttotal: 3.15s\tremaining: 3.28s\n",
      "49:\tlearn: 0.5359565\ttotal: 3.2s\tremaining: 3.2s\n",
      "50:\tlearn: 0.5359349\ttotal: 3.25s\tremaining: 3.13s\n",
      "51:\tlearn: 0.5360643\ttotal: 3.32s\tremaining: 3.07s\n",
      "52:\tlearn: 0.5364420\ttotal: 3.37s\tremaining: 2.99s\n",
      "53:\tlearn: 0.5364168\ttotal: 3.42s\tremaining: 2.91s\n",
      "54:\tlearn: 0.5366232\ttotal: 3.47s\tremaining: 2.84s\n",
      "55:\tlearn: 0.5373091\ttotal: 3.54s\tremaining: 2.78s\n",
      "56:\tlearn: 0.5375942\ttotal: 3.6s\tremaining: 2.71s\n",
      "57:\tlearn: 0.5380538\ttotal: 3.64s\tremaining: 2.64s\n",
      "58:\tlearn: 0.5379364\ttotal: 3.7s\tremaining: 2.57s\n",
      "59:\tlearn: 0.5377108\ttotal: 3.77s\tremaining: 2.51s\n",
      "60:\tlearn: 0.5380219\ttotal: 3.81s\tremaining: 2.44s\n",
      "61:\tlearn: 0.5380459\ttotal: 3.86s\tremaining: 2.37s\n",
      "62:\tlearn: 0.5381253\ttotal: 3.91s\tremaining: 2.3s\n",
      "63:\tlearn: 0.5385888\ttotal: 3.99s\tremaining: 2.24s\n",
      "64:\tlearn: 0.5390325\ttotal: 4.04s\tremaining: 2.17s\n",
      "65:\tlearn: 0.5390325\ttotal: 4.08s\tremaining: 2.1s\n",
      "66:\tlearn: 0.5390015\ttotal: 4.14s\tremaining: 2.04s\n",
      "67:\tlearn: 0.5396983\ttotal: 4.21s\tremaining: 1.98s\n",
      "68:\tlearn: 0.5395491\ttotal: 4.25s\tremaining: 1.91s\n",
      "69:\tlearn: 0.5391957\ttotal: 4.3s\tremaining: 1.84s\n",
      "70:\tlearn: 0.5398000\ttotal: 4.36s\tremaining: 1.78s\n",
      "71:\tlearn: 0.5400080\ttotal: 4.43s\tremaining: 1.72s\n",
      "72:\tlearn: 0.5400583\ttotal: 4.48s\tremaining: 1.66s\n",
      "73:\tlearn: 0.5404893\ttotal: 4.54s\tremaining: 1.59s\n",
      "74:\tlearn: 0.5404225\ttotal: 4.61s\tremaining: 1.54s\n",
      "75:\tlearn: 0.5402181\ttotal: 4.66s\tremaining: 1.47s\n",
      "76:\tlearn: 0.5403580\ttotal: 4.71s\tremaining: 1.41s\n",
      "77:\tlearn: 0.5404822\ttotal: 4.75s\tremaining: 1.34s\n",
      "78:\tlearn: 0.5404218\ttotal: 4.83s\tremaining: 1.28s\n",
      "79:\tlearn: 0.5408133\ttotal: 4.88s\tremaining: 1.22s\n",
      "80:\tlearn: 0.5407960\ttotal: 4.92s\tremaining: 1.16s\n",
      "81:\tlearn: 0.5411712\ttotal: 4.98s\tremaining: 1.09s\n",
      "82:\tlearn: 0.5409806\ttotal: 5.05s\tremaining: 1.03s\n",
      "83:\tlearn: 0.5414541\ttotal: 5.1s\tremaining: 971ms\n",
      "84:\tlearn: 0.5414554\ttotal: 5.14s\tremaining: 908ms\n",
      "85:\tlearn: 0.5411142\ttotal: 5.2s\tremaining: 847ms\n",
      "86:\tlearn: 0.5416638\ttotal: 5.27s\tremaining: 788ms\n",
      "87:\tlearn: 0.5417105\ttotal: 5.32s\tremaining: 725ms\n",
      "88:\tlearn: 0.5417139\ttotal: 5.36s\tremaining: 663ms\n",
      "89:\tlearn: 0.5419100\ttotal: 5.42s\tremaining: 602ms\n",
      "90:\tlearn: 0.5420766\ttotal: 5.49s\tremaining: 543ms\n",
      "91:\tlearn: 0.5422716\ttotal: 5.54s\tremaining: 482ms\n",
      "92:\tlearn: 0.5424202\ttotal: 5.59s\tremaining: 421ms\n",
      "93:\tlearn: 0.5425393\ttotal: 5.67s\tremaining: 362ms\n",
      "94:\tlearn: 0.5424758\ttotal: 5.71s\tremaining: 301ms\n",
      "95:\tlearn: 0.5424584\ttotal: 5.76s\tremaining: 240ms\n",
      "96:\tlearn: 0.5429210\ttotal: 5.82s\tremaining: 180ms\n",
      "97:\tlearn: 0.5428970\ttotal: 5.88s\tremaining: 120ms\n",
      "98:\tlearn: 0.5429888\ttotal: 5.93s\tremaining: 60ms\n",
      "99:\tlearn: 0.5424205\ttotal: 5.98s\tremaining: 0us\n"
     ]
    }
   ],
   "source": [
    "# Initialize data\n",
    "cat_features = dummies\n",
    "\n",
    "# Initialize CatBoostClassifier\n",
    "model = CatBoostClassifier(iterations=100,\n",
    "                          eval_metric='F1')\n",
    "# Fit model\n",
    "model.fit(X_train, y_train, cat_features)\n",
    "# Get predicted classes\n",
    "preds_class = model.predict(X_test)"
   ]
  },
  {
   "cell_type": "code",
   "execution_count": 91,
   "metadata": {},
   "outputs": [
    {
     "data": {
      "text/plain": [
       "array([[48092, 17155],\n",
       "       [22129, 22077]], dtype=int64)"
      ]
     },
     "execution_count": 91,
     "metadata": {},
     "output_type": "execute_result"
    }
   ],
   "source": [
    "confusion_matrix(y_test,preds_class)"
   ]
  },
  {
   "cell_type": "code",
   "execution_count": 93,
   "metadata": {},
   "outputs": [
    {
     "data": {
      "text/plain": [
       "array([[52080, 13167],\n",
       "       [23003, 21203]], dtype=int64)"
      ]
     },
     "execution_count": 93,
     "metadata": {},
     "output_type": "execute_result"
    }
   ],
   "source": [
    "confusion_matrix(y_test,preds_class)"
   ]
  },
  {
   "cell_type": "code",
   "execution_count": 97,
   "metadata": {},
   "outputs": [
    {
     "data": {
      "text/plain": [
       "array([[52142, 13105],\n",
       "       [23024, 21182]], dtype=int64)"
      ]
     },
     "execution_count": 97,
     "metadata": {},
     "output_type": "execute_result"
    }
   ],
   "source": [
    "confusion_matrix(y_test,preds_class)"
   ]
  },
  {
   "cell_type": "code",
   "execution_count": 116,
   "metadata": {},
   "outputs": [],
   "source": [
    "y_test=y_test.map({'failed':1,'successful':0})\n",
    "preds_class=pd.Series(preds_class).map({'failed':1,'successful':0})"
   ]
  },
  {
   "cell_type": "code",
   "execution_count": 117,
   "metadata": {},
   "outputs": [
    {
     "name": "stdout",
     "output_type": "stream",
     "text": [
      "0.6388683840346057\n"
     ]
    },
    {
     "data": {
      "image/png": "[encoded data removed]",
      "text/plain": [
       "<Figure size 432x288 with 1 Axes>"
      ]
     },
     "metadata": {},
     "output_type": "display_data"
    }
   ],
   "source": [
    "fpr,tpr,_=roc_curve(y_test,preds_class)\n",
    "auc=roc_auc_score(y_test,preds_class)\n",
    "plt.plot(fpr,tpr)\n",
    "print(auc)"
   ]
  }
 ],
 "metadata": {
  "kernelspec": {
   "display_name": "Python 3",
   "language": "python",
   "name": "python3"
  },
  "language_info": {
   "codemirror_mode": {
    "name": "ipython",
    "version": 3
   },
   "file_extension": ".py",
   "mimetype": "text/x-python",
   "name": "python",
   "nbconvert_exporter": "python",
   "pygments_lexer": "ipython3",
   "version": "3.6.9"
  }
 },
 "nbformat": 4,
 "nbformat_minor": 2
}
