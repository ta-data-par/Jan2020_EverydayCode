{
 "cells": [
  {
   "cell_type": "markdown",
   "metadata": {},
   "source": [
    "# Cross Validation"
   ]
  },
  {
   "cell_type": "code",
   "execution_count": 1,
   "metadata": {},
   "outputs": [],
   "source": [
    "import numpy as np\n",
    "from sklearn import datasets as skd\n",
    "from sklearn.model_selection import KFold"
   ]
  },
  {
   "cell_type": "code",
   "execution_count": 2,
   "metadata": {},
   "outputs": [],
   "source": [
    "X,y = skd.make_classification(n_samples=10000, n_features=2, n_redundant=0, random_state=4)"
   ]
  },
  {
   "cell_type": "code",
   "execution_count": 3,
   "metadata": {},
   "outputs": [],
   "source": [
    "kfold=KFold(10, True, 42)"
   ]
  },
  {
   "cell_type": "code",
   "execution_count": 6,
   "metadata": {
    "collapsed": true
   },
   "outputs": [
    {
     "name": "stdout",
     "output_type": "stream",
     "text": [
      "train are  [[-0.81105575 -1.29820439]\n",
      " [-0.79901584  1.6034243 ]\n",
      " [-0.39882734  1.66733811]\n",
      " ...\n",
      " [ 0.91494128 -0.75109974]\n",
      " [-1.18031862  0.62145172]\n",
      " [ 1.12951493  1.01630298]]\n",
      "test are  [[-0.81498149  1.864119  ]\n",
      " [-0.53879579  0.9994173 ]\n",
      " [-0.93777164  2.34962788]\n",
      " ...\n",
      " [-0.5512097   2.42593246]\n",
      " [ 2.27440196  1.03108475]\n",
      " [ 0.98987131  0.10854437]]\n",
      "train are  [[-0.81498149  1.864119  ]\n",
      " [-0.81105575 -1.29820439]\n",
      " [-0.79901584  1.6034243 ]\n",
      " ...\n",
      " [-0.72488799  0.57429442]\n",
      " [ 0.91494128 -0.75109974]\n",
      " [ 1.12951493  1.01630298]]\n",
      "test are  [[ 1.00882815 -0.23570898]\n",
      " [ 0.81887975 -1.10095937]\n",
      " [ 0.99778985  0.00376809]\n",
      " ...\n",
      " [ 0.96079003 -1.3527516 ]\n",
      " [ 0.20275918  0.96729205]\n",
      " [-1.18031862  0.62145172]]\n",
      "train are  [[-0.81498149  1.864119  ]\n",
      " [-0.81105575 -1.29820439]\n",
      " [-0.79901584  1.6034243 ]\n",
      " ...\n",
      " [ 0.91494128 -0.75109974]\n",
      " [-1.18031862  0.62145172]\n",
      " [ 1.12951493  1.01630298]]\n",
      "test are  [[ 0.38473089 -2.00870511]\n",
      " [-1.290118   -1.54156339]\n",
      " [ 0.2799393  -1.52734651]\n",
      " ...\n",
      " [-1.59664163 -2.22145501]\n",
      " [-1.2193989   0.84250846]\n",
      " [ 0.60370562 -0.05651088]]\n",
      "train are  [[-0.81498149  1.864119  ]\n",
      " [-0.81105575 -1.29820439]\n",
      " [-0.79901584  1.6034243 ]\n",
      " ...\n",
      " [ 0.91494128 -0.75109974]\n",
      " [-1.18031862  0.62145172]\n",
      " [ 1.12951493  1.01630298]]\n",
      "test are  [[-1.0392903   0.26363946]\n",
      " [ 0.79898572  0.08109613]\n",
      " [-1.20512152 -0.45847186]\n",
      " ...\n",
      " [-2.76244542  0.34548235]\n",
      " [ 1.15685655 -2.65875741]\n",
      " [-0.72488799  0.57429442]]\n",
      "train are  [[-0.81498149  1.864119  ]\n",
      " [-0.81105575 -1.29820439]\n",
      " [-0.79901584  1.6034243 ]\n",
      " ...\n",
      " [ 0.91494128 -0.75109974]\n",
      " [-1.18031862  0.62145172]\n",
      " [ 1.12951493  1.01630298]]\n",
      "test are  [[ 1.92183915 -0.30790492]\n",
      " [-0.41421    -2.01812675]\n",
      " [-0.04232815  0.68476433]\n",
      " ...\n",
      " [-1.0357621   0.6237455 ]\n",
      " [-0.23607876 -1.90109126]\n",
      " [-1.81499189 -0.91245854]]\n",
      "train are  [[-0.81498149  1.864119  ]\n",
      " [-0.81105575 -1.29820439]\n",
      " [-0.53879579  0.9994173 ]\n",
      " ...\n",
      " [ 0.91494128 -0.75109974]\n",
      " [-1.18031862  0.62145172]\n",
      " [ 1.12951493  1.01630298]]\n",
      "test are  [[-0.79901584  1.6034243 ]\n",
      " [-0.23761374  0.48031851]\n",
      " [-0.61398917 -0.98845762]\n",
      " ...\n",
      " [-0.44417695  0.38219229]\n",
      " [-2.03465263 -1.30513706]\n",
      " [ 0.96492669 -0.84053951]]\n",
      "train are  [[-0.81498149  1.864119  ]\n",
      " [-0.81105575 -1.29820439]\n",
      " [-0.79901584  1.6034243 ]\n",
      " ...\n",
      " [-0.72488799  0.57429442]\n",
      " [ 0.91494128 -0.75109974]\n",
      " [-1.18031862  0.62145172]]\n",
      "test are  [[-0.89759099  1.23800301]\n",
      " [ 1.14773692  1.57272393]\n",
      " [ 2.86436385  0.87880522]\n",
      " ...\n",
      " [ 1.01187299 -0.2579203 ]\n",
      " [-0.43358307  1.26402187]\n",
      " [ 1.12951493  1.01630298]]\n",
      "train are  [[-0.81498149  1.864119  ]\n",
      " [-0.81105575 -1.29820439]\n",
      " [-0.79901584  1.6034243 ]\n",
      " ...\n",
      " [ 0.91494128 -0.75109974]\n",
      " [-1.18031862  0.62145172]\n",
      " [ 1.12951493  1.01630298]]\n",
      "test are  [[-0.99527594  1.06795353]\n",
      " [-0.39002797  1.45068405]\n",
      " [-0.11830768  3.23748892]\n",
      " ...\n",
      " [-0.36562278  2.22386149]\n",
      " [ 0.77599666 -0.34335867]\n",
      " [ 2.033741    1.15291291]]\n",
      "train are  [[-0.81498149  1.864119  ]\n",
      " [-0.79901584  1.6034243 ]\n",
      " [-0.53879579  0.9994173 ]\n",
      " ...\n",
      " [-0.72488799  0.57429442]\n",
      " [-1.18031862  0.62145172]\n",
      " [ 1.12951493  1.01630298]]\n",
      "test are  [[-0.81105575 -1.29820439]\n",
      " [-1.10525286  1.16506886]\n",
      " [-1.01344095 -1.14506599]\n",
      " ...\n",
      " [ 0.91548465 -1.90249623]\n",
      " [-1.15386361  0.97753522]\n",
      " [ 0.91494128 -0.75109974]]\n",
      "train are  [[-0.81498149  1.864119  ]\n",
      " [-0.81105575 -1.29820439]\n",
      " [-0.79901584  1.6034243 ]\n",
      " ...\n",
      " [ 0.91494128 -0.75109974]\n",
      " [-1.18031862  0.62145172]\n",
      " [ 1.12951493  1.01630298]]\n",
      "test are  [[-0.39882734  1.66733811]\n",
      " [-0.24619271  0.46835787]\n",
      " [ 1.02506756 -1.21436944]\n",
      " ...\n",
      " [-0.7188415  -0.59715211]\n",
      " [-1.21372719  0.23375017]\n",
      " [ 1.65683118  1.47181316]]\n"
     ]
    }
   ],
   "source": [
    "for train,test in kfold.split(X):\n",
    "    print('train are ', X[train])\n",
    "    print('test are ', X[test])\n",
    "    model().fit(X[train],y[train])\n",
    "    list_of_accuracies.append(accuracy_score(y[test],model.predict(X[test])))\n",
    "print(list_of_accuracies.mean())"
   ]
  },
  {
   "cell_type": "markdown",
   "metadata": {},
   "source": [
    "# Hyperparameter Tuning"
   ]
  },
  {
   "cell_type": "code",
   "execution_count": 4,
   "metadata": {},
   "outputs": [],
   "source": [
    "from sklearn.neighbors import KNeighborsClassifier"
   ]
  },
  {
   "cell_type": "code",
   "execution_count": 5,
   "metadata": {},
   "outputs": [],
   "source": [
    "from sklearn.model_selection import GridSearchCV, RandomizedSearchCV"
   ]
  },
  {
   "cell_type": "code",
   "execution_count": 6,
   "metadata": {},
   "outputs": [],
   "source": [
    "model=KNeighborsClassifier()\n",
    "\n",
    "params={'n_neighbors':range(1,21,2), 'weights':['uniform','distance'], \\\n",
    "        'metric':['euclidian','manhattan','minkowski']}"
   ]
  },
  {
   "cell_type": "code",
   "execution_count": 12,
   "metadata": {},
   "outputs": [
    {
     "name": "stdout",
     "output_type": "stream",
     "text": [
      "Best 0.9057940050755949 using {'metric': 'manhattan', 'n_neighbors': 17, 'weights': 'uniform'}\n"
     ]
    }
   ],
   "source": [
    "grid_search=GridSearchCV(estimator=model, param_grid=params, n_jobs=-1, scoring='f1')\n",
    "grid_result=grid_search.fit(X,y)\n",
    "\n",
    "print(f'Best {grid_result.best_score_} using {grid_result.best_params_}')"
   ]
  },
  {
   "cell_type": "code",
   "execution_count": 13,
   "metadata": {},
   "outputs": [],
   "source": [
    "X,y=skd.make_regression(n_samples=1000,\n",
    "    n_features=10,\n",
    "    n_informative=6,\n",
    "    n_targets=1,\n",
    "    noise=0.04)"
   ]
  },
  {
   "cell_type": "code",
   "execution_count": 14,
   "metadata": {},
   "outputs": [],
   "source": [
    "import matplotlib.pyplot as plt"
   ]
  },
  {
   "cell_type": "code",
   "execution_count": 16,
   "metadata": {},
   "outputs": [
    {
     "data": {
      "text/plain": [
       "<matplotlib.collections.PathCollection at 0x7f37606311f0>"
      ]
     },
     "execution_count": 16,
     "metadata": {},
     "output_type": "execute_result"
    },
    {
     "data": {
      "image/png": "[encoded data removed]",
      "text/plain": [
       "<Figure size 432x288 with 1 Axes>"
      ]
     },
     "metadata": {
      "needs_background": "light"
     },
     "output_type": "display_data"
    }
   ],
   "source": [
    "plt.scatter(X[:,0],y)"
   ]
  },
  {
   "cell_type": "code",
   "execution_count": 17,
   "metadata": {},
   "outputs": [
    {
     "data": {
      "text/plain": [
       "(1000, 10)"
      ]
     },
     "execution_count": 17,
     "metadata": {},
     "output_type": "execute_result"
    }
   ],
   "source": [
    "X.shape"
   ]
  },
  {
   "cell_type": "code",
   "execution_count": 18,
   "metadata": {},
   "outputs": [],
   "source": [
    "from scipy.stats import uniform as sp_rand"
   ]
  },
  {
   "cell_type": "code",
   "execution_count": 19,
   "metadata": {},
   "outputs": [],
   "source": [
    "params={'alpha':sp_rand()}\n",
    "from sklearn.linear_model import Ridge"
   ]
  },
  {
   "cell_type": "code",
   "execution_count": 21,
   "metadata": {},
   "outputs": [
    {
     "name": "stdout",
     "output_type": "stream",
     "text": [
      "RandomizedSearchCV(cv=None, error_score=nan,\n",
      "                   estimator=Ridge(alpha=1.0, copy_X=True, fit_intercept=True,\n",
      "                                   max_iter=None, normalize=False,\n",
      "                                   random_state=None, solver='auto',\n",
      "                                   tol=0.001),\n",
      "                   iid='deprecated', n_iter=100, n_jobs=None,\n",
      "                   param_distributions={'alpha': <scipy.stats._distn_infrastructure.rv_frozen object at 0x7f37607f0fa0>},\n",
      "                   pre_dispatch='2*n_jobs', random_state=None, refit=True,\n",
      "                   return_train_score=False, scoring=None, verbose=0)\n",
      "0.9999998459970062\n",
      "0.0020778931912704968\n"
     ]
    }
   ],
   "source": [
    "model=Ridge()\n",
    "rsearch=RandomizedSearchCV(estimator=model, param_distributions=params, n_iter=100)\n",
    "rsearch.fit(X,y)\n",
    "print(rsearch)\n",
    "print(rsearch.best_score_)\n",
    "print(rsearch.best_estimator_.alpha)"
   ]
  },
  {
   "cell_type": "code",
   "execution_count": 24,
   "metadata": {},
   "outputs": [
    {
     "data": {
      "text/plain": [
       "[<matplotlib.lines.Line2D at 0x7f3764a08f40>]"
      ]
     },
     "execution_count": 24,
     "metadata": {},
     "output_type": "execute_result"
    },
    {
     "data": {
      "image/png": "[encoded data removed]",
      "text/plain": [
       "<Figure size 432x288 with 1 Axes>"
      ]
     },
     "metadata": {
      "needs_background": "light"
     },
     "output_type": "display_data"
    }
   ],
   "source": [
    "plt.plot(y,rsearch.predict(X))"
   ]
  },
  {
   "cell_type": "markdown",
   "metadata": {},
   "source": [
    "# Hyperparameter Tuning + CrossValidation"
   ]
  },
  {
   "cell_type": "code",
   "execution_count": 27,
   "metadata": {},
   "outputs": [],
   "source": [
    "from sklearn.model_selection import RepeatedStratifiedKFold"
   ]
  },
  {
   "cell_type": "code",
   "execution_count": 30,
   "metadata": {},
   "outputs": [
    {
     "name": "stdout",
     "output_type": "stream",
     "text": [
      "Best 0.9060379833874848 using {'metric': 'minkowski', 'n_neighbors': 17, 'weights': 'distance'}\n"
     ]
    }
   ],
   "source": [
    "X,y = skd.make_classification(n_samples=10000, n_features=2, n_redundant=0, random_state=4)\n",
    "\n",
    "model=KNeighborsClassifier()\n",
    "\n",
    "params={'n_neighbors':range(1,21,2), 'weights':['uniform','distance'], \\\n",
    "        'metric':['euclidian','manhattan','minkowski']}\n",
    "\n",
    "cv=RepeatedStratifiedKFold(n_splits=10, n_repeats=3, random_state=42)\n",
    "\n",
    "grid_search=GridSearchCV(estimator=model, param_grid=params, n_jobs=-1, scoring='f1', cv=cv)\n",
    "grid_result=grid_search.fit(X,y)\n",
    "\n",
    "print(f'Best {grid_result.best_score_} using {grid_result.best_params_}')"
   ]
  },
  {
   "cell_type": "code",
   "execution_count": 31,
   "metadata": {},
   "outputs": [],
   "source": [
    "means=grid_result.cv_results_['mean_test_score']\n",
    "stds=grid_result.cv_results_['std_test_score']\n",
    "params_cv=grid_result.cv_results_['params']"
   ]
  },
  {
   "cell_type": "code",
   "execution_count": 32,
   "metadata": {
    "collapsed": true
   },
   "outputs": [
    {
     "name": "stdout",
     "output_type": "stream",
     "text": [
      "nan (nan) with: {'metric': 'euclidian', 'n_neighbors': 1, 'weights': 'uniform'}\n",
      "nan (nan) with: {'metric': 'euclidian', 'n_neighbors': 1, 'weights': 'distance'}\n",
      "nan (nan) with: {'metric': 'euclidian', 'n_neighbors': 3, 'weights': 'uniform'}\n",
      "nan (nan) with: {'metric': 'euclidian', 'n_neighbors': 3, 'weights': 'distance'}\n",
      "nan (nan) with: {'metric': 'euclidian', 'n_neighbors': 5, 'weights': 'uniform'}\n",
      "nan (nan) with: {'metric': 'euclidian', 'n_neighbors': 5, 'weights': 'distance'}\n",
      "nan (nan) with: {'metric': 'euclidian', 'n_neighbors': 7, 'weights': 'uniform'}\n",
      "nan (nan) with: {'metric': 'euclidian', 'n_neighbors': 7, 'weights': 'distance'}\n",
      "nan (nan) with: {'metric': 'euclidian', 'n_neighbors': 9, 'weights': 'uniform'}\n",
      "nan (nan) with: {'metric': 'euclidian', 'n_neighbors': 9, 'weights': 'distance'}\n",
      "nan (nan) with: {'metric': 'euclidian', 'n_neighbors': 11, 'weights': 'uniform'}\n",
      "nan (nan) with: {'metric': 'euclidian', 'n_neighbors': 11, 'weights': 'distance'}\n",
      "nan (nan) with: {'metric': 'euclidian', 'n_neighbors': 13, 'weights': 'uniform'}\n",
      "nan (nan) with: {'metric': 'euclidian', 'n_neighbors': 13, 'weights': 'distance'}\n",
      "nan (nan) with: {'metric': 'euclidian', 'n_neighbors': 15, 'weights': 'uniform'}\n",
      "nan (nan) with: {'metric': 'euclidian', 'n_neighbors': 15, 'weights': 'distance'}\n",
      "nan (nan) with: {'metric': 'euclidian', 'n_neighbors': 17, 'weights': 'uniform'}\n",
      "nan (nan) with: {'metric': 'euclidian', 'n_neighbors': 17, 'weights': 'distance'}\n",
      "nan (nan) with: {'metric': 'euclidian', 'n_neighbors': 19, 'weights': 'uniform'}\n",
      "nan (nan) with: {'metric': 'euclidian', 'n_neighbors': 19, 'weights': 'distance'}\n",
      "0.8712833099941383 (0.011972219233090976) with: {'metric': 'manhattan', 'n_neighbors': 1, 'weights': 'uniform'}\n",
      "0.8712833099941383 (0.011972219233090976) with: {'metric': 'manhattan', 'n_neighbors': 1, 'weights': 'distance'}\n",
      "0.8963408202308305 (0.011187277156063614) with: {'metric': 'manhattan', 'n_neighbors': 3, 'weights': 'uniform'}\n",
      "0.8880542051845208 (0.01138418012275718) with: {'metric': 'manhattan', 'n_neighbors': 3, 'weights': 'distance'}\n",
      "0.9018374089351295 (0.011087973409780238) with: {'metric': 'manhattan', 'n_neighbors': 5, 'weights': 'uniform'}\n",
      "0.8962347573668324 (0.01098100935398252) with: {'metric': 'manhattan', 'n_neighbors': 5, 'weights': 'distance'}\n",
      "0.9024476396838976 (0.010957849586922067) with: {'metric': 'manhattan', 'n_neighbors': 7, 'weights': 'uniform'}\n",
      "0.8997006380411137 (0.01120311711878017) with: {'metric': 'manhattan', 'n_neighbors': 7, 'weights': 'distance'}\n",
      "0.9043748492827519 (0.010746605676222078) with: {'metric': 'manhattan', 'n_neighbors': 9, 'weights': 'uniform'}\n",
      "0.9026669693557886 (0.01113631154160582) with: {'metric': 'manhattan', 'n_neighbors': 9, 'weights': 'distance'}\n",
      "0.9055027811356354 (0.010026426267989446) with: {'metric': 'manhattan', 'n_neighbors': 11, 'weights': 'uniform'}\n",
      "0.9036586911503154 (0.010744300731674981) with: {'metric': 'manhattan', 'n_neighbors': 11, 'weights': 'distance'}\n",
      "0.9054029411144527 (0.010580182539125902) with: {'metric': 'manhattan', 'n_neighbors': 13, 'weights': 'uniform'}\n",
      "0.9055496116939784 (0.01090632660593021) with: {'metric': 'manhattan', 'n_neighbors': 13, 'weights': 'distance'}\n",
      "0.9058959259502237 (0.010298416526640194) with: {'metric': 'manhattan', 'n_neighbors': 15, 'weights': 'uniform'}\n",
      "0.90515183283855 (0.010940102483690121) with: {'metric': 'manhattan', 'n_neighbors': 15, 'weights': 'distance'}\n",
      "0.905379553151326 (0.011120460535794262) with: {'metric': 'manhattan', 'n_neighbors': 17, 'weights': 'uniform'}\n",
      "0.9055752380258546 (0.011200636155440237) with: {'metric': 'manhattan', 'n_neighbors': 17, 'weights': 'distance'}\n",
      "0.9060059195514196 (0.011362543703515244) with: {'metric': 'manhattan', 'n_neighbors': 19, 'weights': 'uniform'}\n",
      "0.9060180261364053 (0.011011397677271356) with: {'metric': 'manhattan', 'n_neighbors': 19, 'weights': 'distance'}\n",
      "0.8720007632822449 (0.011016391449647334) with: {'metric': 'minkowski', 'n_neighbors': 1, 'weights': 'uniform'}\n",
      "0.8720007632822449 (0.011016391449647334) with: {'metric': 'minkowski', 'n_neighbors': 1, 'weights': 'distance'}\n",
      "0.8943644862306743 (0.011268094220988555) with: {'metric': 'minkowski', 'n_neighbors': 3, 'weights': 'uniform'}\n",
      "0.8878021912946183 (0.010746773757146407) with: {'metric': 'minkowski', 'n_neighbors': 3, 'weights': 'distance'}\n",
      "0.902252856036495 (0.011314937184165067) with: {'metric': 'minkowski', 'n_neighbors': 5, 'weights': 'uniform'}\n",
      "0.896408876869214 (0.010868069266262274) with: {'metric': 'minkowski', 'n_neighbors': 5, 'weights': 'distance'}\n",
      "0.9037563000008605 (0.011863625691922092) with: {'metric': 'minkowski', 'n_neighbors': 7, 'weights': 'uniform'}\n",
      "0.9009738339307681 (0.01050501933575497) with: {'metric': 'minkowski', 'n_neighbors': 7, 'weights': 'distance'}\n",
      "0.9023195933515448 (0.010510193877558657) with: {'metric': 'minkowski', 'n_neighbors': 9, 'weights': 'uniform'}\n",
      "0.9025487047931939 (0.011179022556170832) with: {'metric': 'minkowski', 'n_neighbors': 9, 'weights': 'distance'}\n",
      "0.9033376828811971 (0.009862134300993806) with: {'metric': 'minkowski', 'n_neighbors': 11, 'weights': 'uniform'}\n",
      "0.903869824505109 (0.010215463062801479) with: {'metric': 'minkowski', 'n_neighbors': 11, 'weights': 'distance'}\n",
      "0.9038809109993935 (0.009750678316121163) with: {'metric': 'minkowski', 'n_neighbors': 13, 'weights': 'uniform'}\n",
      "0.9042144802542527 (0.010091457113283006) with: {'metric': 'minkowski', 'n_neighbors': 13, 'weights': 'distance'}\n",
      "0.9040798731959995 (0.011480440560456126) with: {'metric': 'minkowski', 'n_neighbors': 15, 'weights': 'uniform'}\n",
      "0.9049200677721861 (0.010038088040770114) with: {'metric': 'minkowski', 'n_neighbors': 15, 'weights': 'distance'}\n",
      "0.9048606682564114 (0.010882972768870543) with: {'metric': 'minkowski', 'n_neighbors': 17, 'weights': 'uniform'}\n",
      "0.9060379833874848 (0.010692251767412009) with: {'metric': 'minkowski', 'n_neighbors': 17, 'weights': 'distance'}\n",
      "0.9047092496305502 (0.011315912626257713) with: {'metric': 'minkowski', 'n_neighbors': 19, 'weights': 'uniform'}\n",
      "0.9055339008983542 (0.011004693383721524) with: {'metric': 'minkowski', 'n_neighbors': 19, 'weights': 'distance'}\n"
     ]
    }
   ],
   "source": [
    "for mean, stdev, param in zip(means,stds, params_cv):\n",
    "    print(f'{mean} ({stdev}) with: {param}')"
   ]
  },
  {
   "cell_type": "markdown",
   "metadata": {},
   "source": [
    "# Imbalanced Data"
   ]
  },
  {
   "cell_type": "code",
   "execution_count": 35,
   "metadata": {},
   "outputs": [],
   "source": [
    "import sklearn"
   ]
  },
  {
   "cell_type": "code",
   "execution_count": 34,
   "metadata": {},
   "outputs": [
    {
     "data": {
      "text/plain": [
       "'0.6.2'"
      ]
     },
     "execution_count": 34,
     "metadata": {},
     "output_type": "execute_result"
    }
   ],
   "source": [
    "imblearn.__version__"
   ]
  },
  {
   "cell_type": "code",
   "execution_count": 48,
   "metadata": {},
   "outputs": [],
   "source": [
    "from sklearn.datasets import make_classification\n",
    "from collections import Counter\n",
    "from numpy import where\n",
    "import matplotlib.pyplot as plt\n",
    "from imblearn.over_sampling import SMOTE\n",
    "from imblearn.under_sampling import RandomUnderSampler\n",
    "from imblearn.pipeline import Pipeline"
   ]
  },
  {
   "cell_type": "code",
   "execution_count": 57,
   "metadata": {},
   "outputs": [
    {
     "name": "stdout",
     "output_type": "stream",
     "text": [
      "Counter({0: 9900, 1: 100})\n"
     ]
    },
    {
     "data": {
      "image/png": "[encoded data removed]",
      "text/plain": [
       "<Figure size 432x288 with 1 Axes>"
      ]
     },
     "metadata": {
      "needs_background": "light"
     },
     "output_type": "display_data"
    }
   ],
   "source": [
    "X,y=make_classification(n_samples=10000, n_features=2, n_redundant=0,\\\n",
    "                       n_clusters_per_class=1, weights=[0.99],\\\n",
    "                       flip_y=0, random_state=11)\n",
    "\n",
    "counter=Counter(y)\n",
    "print(counter)\n",
    "\n",
    "for label, _ in counter.items():\n",
    "    row_ix=where(y==label)[0]\n",
    "    plt.scatter(X[row_ix,0], X[row_ix,1], label=str(label))\n",
    "plt.legend()\n",
    "plt.show()"
   ]
  },
  {
   "cell_type": "code",
   "execution_count": 47,
   "metadata": {},
   "outputs": [
    {
     "name": "stdout",
     "output_type": "stream",
     "text": [
      "Counter({0: 9900, 1: 9900})\n"
     ]
    },
    {
     "data": {
      "image/png": "[encoded data removed]",
      "text/plain": [
       "<Figure size 432x288 with 1 Axes>"
      ]
     },
     "metadata": {
      "needs_background": "light"
     },
     "output_type": "display_data"
    }
   ],
   "source": [
    "oversample=SMOTE()\n",
    "X,y=oversample.fit_resample(X,y)\n",
    "counter=Counter(y)\n",
    "print(counter)\n",
    "\n",
    "for label, _ in counter.items():\n",
    "    row_ix=where(y==label)[0]\n",
    "    plt.scatter(X[row_ix,0], X[row_ix,1], label=str(label))\n",
    "plt.legend()\n",
    "plt.show()"
   ]
  },
  {
   "cell_type": "code",
   "execution_count": 52,
   "metadata": {},
   "outputs": [
    {
     "name": "stdout",
     "output_type": "stream",
     "text": [
      "Counter({0: 1980, 1: 990})\n"
     ]
    },
    {
     "data": {
      "image/png": "[encoded data removed]",
      "text/plain": [
       "<Figure size 432x288 with 1 Axes>"
      ]
     },
     "metadata": {
      "needs_background": "light"
     },
     "output_type": "display_data"
    }
   ],
   "source": [
    "over=SMOTE(sampling_strategy=0.1)\n",
    "under=RandomUnderSampler(sampling_strategy=0.5)\n",
    "\n",
    "steps=[('o',over),('u',under)]\n",
    "pipeline=Pipeline(steps=steps)\n",
    "X,y=pipeline.fit_resample(X,y)\n",
    "\n",
    "counter=Counter(y)\n",
    "print(counter)\n",
    "\n",
    "for label, _ in counter.items():\n",
    "    row_ix=where(y==label)[0]\n",
    "    plt.scatter(X[row_ix,0], X[row_ix,1], label=str(label))\n",
    "plt.legend()\n",
    "plt.show()"
   ]
  },
  {
   "cell_type": "code",
   "execution_count": 53,
   "metadata": {},
   "outputs": [],
   "source": [
    "from imblearn.over_sampling import BorderlineSMOTE"
   ]
  },
  {
   "cell_type": "code",
   "execution_count": 55,
   "metadata": {},
   "outputs": [
    {
     "name": "stdout",
     "output_type": "stream",
     "text": [
      "Counter({0: 1980, 1: 990})\n"
     ]
    },
    {
     "data": {
      "image/png": "[encoded data removed]",
      "text/plain": [
       "<Figure size 432x288 with 1 Axes>"
      ]
     },
     "metadata": {
      "needs_background": "light"
     },
     "output_type": "display_data"
    }
   ],
   "source": [
    "over=BorderlineSMOTE(sampling_strategy=0.1)\n",
    "under=RandomUnderSampler(sampling_strategy=0.5)\n",
    "\n",
    "steps=[('o',over),('u',under)]\n",
    "pipeline=Pipeline(steps=steps)\n",
    "X,y=pipeline.fit_resample(X,y)\n",
    "\n",
    "counter=Counter(y)\n",
    "print(counter)\n",
    "\n",
    "for label, _ in counter.items():\n",
    "    row_ix=where(y==label)[0]\n",
    "    plt.scatter(X[row_ix,0], X[row_ix,1], label=str(label))\n",
    "plt.legend()\n",
    "plt.show()"
   ]
  },
  {
   "cell_type": "code",
   "execution_count": 56,
   "metadata": {},
   "outputs": [],
   "source": [
    "from imblearn.over_sampling import ADASYN"
   ]
  },
  {
   "cell_type": "code",
   "execution_count": 58,
   "metadata": {},
   "outputs": [
    {
     "name": "stdout",
     "output_type": "stream",
     "text": [
      "Counter({0: 1980, 1: 990})\n"
     ]
    },
    {
     "data": {
      "image/png": "[encoded data removed]",
      "text/plain": [
       "<Figure size 432x288 with 1 Axes>"
      ]
     },
     "metadata": {
      "needs_background": "light"
     },
     "output_type": "display_data"
    }
   ],
   "source": [
    "over=ADASYN(sampling_strategy=0.1)\n",
    "under=RandomUnderSampler(sampling_strategy=0.5)\n",
    "\n",
    "steps=[('o',over),('u',under)]\n",
    "pipeline=Pipeline(steps=steps)\n",
    "X,y=pipeline.fit_resample(X,y)\n",
    "\n",
    "counter=Counter(y)\n",
    "print(counter)\n",
    "\n",
    "for label, _ in counter.items():\n",
    "    row_ix=where(y==label)[0]\n",
    "    plt.scatter(X[row_ix,0], X[row_ix,1], label=str(label))\n",
    "plt.legend()\n",
    "plt.show()"
   ]
  },
  {
   "cell_type": "code",
   "execution_count": 64,
   "metadata": {},
   "outputs": [
    {
     "name": "stdout",
     "output_type": "stream",
     "text": [
      "Mean recall 0.8499999999999999\n"
     ]
    }
   ],
   "source": [
    "from sklearn.model_selection import cross_val_score\n",
    "from sklearn.model_selection import RepeatedStratifiedKFold\n",
    "from sklearn.tree import DecisionTreeClassifier\n",
    "\n",
    "X,y = make_classification(n_samples=100000, n_features=2, n_redundant=0, n_clusters_per_class=1, weights=[0.999], \\\n",
    "                         flip_y=0, random_state=42)\n",
    "\n",
    "model=DecisionTreeClassifier()\n",
    "cv=RepeatedStratifiedKFold(n_splits=10, n_repeats=3, random_state=1)\n",
    "scores=cross_val_score(model, X,y, scoring='recall', cv=cv, n_jobs=-1)\n",
    "print('Mean recall', np.mean(scores))"
   ]
  },
  {
   "cell_type": "code",
   "execution_count": 65,
   "metadata": {},
   "outputs": [
    {
     "data": {
      "text/plain": [
       "Counter({0: 99900, 1: 100})"
      ]
     },
     "execution_count": 65,
     "metadata": {},
     "output_type": "execute_result"
    }
   ],
   "source": [
    "Counter(y)"
   ]
  },
  {
   "cell_type": "code",
   "execution_count": 66,
   "metadata": {},
   "outputs": [],
   "source": [
    "over=ADASYN(sampling_strategy=0.1)\n",
    "under=RandomUnderSampler(sampling_strategy=0.5)\n",
    "\n",
    "steps=[('o',over),('u',under),('model',DecisionTreeClassifier())]\n",
    "pipeline=Pipeline(steps=steps)"
   ]
  },
  {
   "cell_type": "code",
   "execution_count": 67,
   "metadata": {},
   "outputs": [
    {
     "name": "stderr",
     "output_type": "stream",
     "text": [
      "/usr/lib/python3.8/site-packages/joblib/externals/loky/process_executor.py:703: UserWarning: A worker stopped while some jobs were given to the executor. This can be caused by a too short worker timeout or by a memory leak.\n",
      "  warnings.warn(\n"
     ]
    },
    {
     "name": "stdout",
     "output_type": "stream",
     "text": [
      "Mean recall 0.94\n"
     ]
    }
   ],
   "source": [
    "cv=RepeatedStratifiedKFold(n_splits=10, n_repeats=3, random_state=1)\n",
    "scores=cross_val_score(pipeline, X,y, scoring='recall', cv=cv, n_jobs=-1)\n",
    "print('Mean recall', np.mean(scores))"
   ]
  },
  {
   "cell_type": "code",
   "execution_count": 68,
   "metadata": {},
   "outputs": [
    {
     "name": "stdout",
     "output_type": "stream",
     "text": [
      "Mean recall 0.9266666666666665\n"
     ]
    }
   ],
   "source": [
    "over=BorderlineSMOTE(sampling_strategy=0.1)\n",
    "under=RandomUnderSampler(sampling_strategy=0.5)\n",
    "\n",
    "steps=[('o',over),('u',under),('model',DecisionTreeClassifier())]\n",
    "pipeline=Pipeline(steps=steps)\n",
    "\n",
    "cv=RepeatedStratifiedKFold(n_splits=10, n_repeats=3, random_state=1)\n",
    "scores=cross_val_score(pipeline, X,y, scoring='recall', cv=cv, n_jobs=-1)\n",
    "print('Mean recall', np.mean(scores))"
   ]
  },
  {
   "cell_type": "code",
   "execution_count": 69,
   "metadata": {},
   "outputs": [
    {
     "name": "stdout",
     "output_type": "stream",
     "text": [
      "Mean recall 0.9299999999999998\n"
     ]
    }
   ],
   "source": [
    "over=SMOTE(sampling_strategy=0.1)\n",
    "under=RandomUnderSampler(sampling_strategy=0.5)\n",
    "\n",
    "steps=[('o',over),('u',under),('model',DecisionTreeClassifier())]\n",
    "pipeline=Pipeline(steps=steps)\n",
    "\n",
    "cv=RepeatedStratifiedKFold(n_splits=10, n_repeats=3, random_state=1)\n",
    "scores=cross_val_score(pipeline, X,y, scoring='recall', cv=cv, n_jobs=-1)\n",
    "print('Mean recall', np.mean(scores))"
   ]
  },
  {
   "cell_type": "code",
   "execution_count": 70,
   "metadata": {},
   "outputs": [
    {
     "name": "stdout",
     "output_type": "stream",
     "text": [
      "Mean recall 0.9299999999999998\n"
     ]
    }
   ],
   "source": [
    "over=SMOTE(sampling_strategy=0.5)\n",
    "\n",
    "steps=[('o',over),('model',DecisionTreeClassifier())]\n",
    "pipeline=Pipeline(steps=steps)\n",
    "\n",
    "cv=RepeatedStratifiedKFold(n_splits=10, n_repeats=3, random_state=1)\n",
    "scores=cross_val_score(pipeline, X,y, scoring='recall', cv=cv, n_jobs=-1)\n",
    "print('Mean recall', np.mean(scores))"
   ]
  },
  {
   "cell_type": "code",
   "execution_count": null,
   "metadata": {},
   "outputs": [],
   "source": []
  },
  {
   "cell_type": "code",
   "execution_count": 72,
   "metadata": {},
   "outputs": [
    {
     "name": "stdout",
     "output_type": "stream",
     "text": [
      "> k=1, Mean recall: 0.937\n",
      "> k=2, Mean recall: 0.953\n",
      "> k=3, Mean recall: 0.970\n",
      "> k=4, Mean recall: 0.973\n",
      "> k=5, Mean recall: 0.980\n",
      "> k=6, Mean recall: 0.980\n",
      "> k=7, Mean recall: 0.980\n"
     ]
    }
   ],
   "source": [
    "# grid search k value for SMOTE oversampling for imbalanced classification\n",
    "from numpy import mean\n",
    "from sklearn.datasets import make_classification\n",
    "from sklearn.model_selection import cross_val_score\n",
    "from sklearn.model_selection import RepeatedStratifiedKFold\n",
    "from sklearn.ensemble import RandomForestClassifier\n",
    "from imblearn.pipeline import Pipeline\n",
    "from imblearn.over_sampling import SMOTE\n",
    "from imblearn.under_sampling import RandomUnderSampler\n",
    "# define dataset\n",
    "X, y = make_classification(n_samples=100000, n_features=2, n_redundant=0,\n",
    "    n_clusters_per_class=1, weights=[0.999], flip_y=0, random_state=1)\n",
    "# values to evaluate\n",
    "k_values = [1, 2, 3, 4, 5, 6, 7]\n",
    "for k in k_values:\n",
    "    # define pipeline\n",
    "    model = RandomForestClassifier()\n",
    "    over = SMOTE(sampling_strategy=0.1, k_neighbors=k)\n",
    "    under = RandomUnderSampler(sampling_strategy=0.5)\n",
    "    steps = [('over', over), ('under', under), ('model', model)]\n",
    "    pipeline = Pipeline(steps=steps)\n",
    "    # evaluate pipeline\n",
    "    cv = RepeatedStratifiedKFold(n_splits=10, n_repeats=3, random_state=1)\n",
    "    scores = cross_val_score(pipeline, X, y, scoring='recall', cv=cv, n_jobs=-1)\n",
    "    score = mean(scores)\n",
    "    print('> k=%d, Mean recall: %.3f' % (k, score))"
   ]
  },
  {
   "cell_type": "code",
   "execution_count": 73,
   "metadata": {},
   "outputs": [
    {
     "name": "stdout",
     "output_type": "stream",
     "text": [
      "Best 0.9981848515181848 using {'metric': 'manhattan', 'n_neighbors': 1, 'weights': 'uniform'}\n"
     ]
    }
   ],
   "source": [
    "X, y = make_classification(n_samples=100000, n_features=2, n_redundant=0,\n",
    "    n_clusters_per_class=1, weights=[0.999], flip_y=0, random_state=1)\n",
    "\n",
    "over=SMOTE(sampling_strategy=0.5)\n",
    "\n",
    "steps=[('o',over)]\n",
    "pipeline=Pipeline(steps=steps)\n",
    "X,y=pipeline.fit_resample(X,y)\n",
    "\n",
    "model=KNeighborsClassifier()\n",
    "\n",
    "params={'n_neighbors':range(1,21,2), 'weights':['uniform','distance'], \\\n",
    "        'metric':['euclidian','manhattan','minkowski']}\n",
    "\n",
    "cv=RepeatedStratifiedKFold(n_splits=10, n_repeats=3, random_state=42)\n",
    "\n",
    "grid_search=GridSearchCV(estimator=model, param_grid=params, n_jobs=-1, scoring='recall', cv=cv)\n",
    "grid_result=grid_search.fit(X,y)\n",
    "\n",
    "print(f'Best {grid_result.best_score_} using {grid_result.best_params_}')"
   ]
  },
  {
   "cell_type": "code",
   "execution_count": 74,
   "metadata": {},
   "outputs": [],
   "source": [
    "import pickle\n",
    "\n",
    "pickle.dump(grid_result, open('filename.sav','wb'))"
   ]
  },
  {
   "cell_type": "code",
   "execution_count": 76,
   "metadata": {},
   "outputs": [],
   "source": [
    "X, y = make_classification(n_samples=100000, n_features=2, n_redundant=0,\n",
    "    n_clusters_per_class=1, weights=[0.999], flip_y=0, random_state=1)"
   ]
  },
  {
   "cell_type": "code",
   "execution_count": 77,
   "metadata": {},
   "outputs": [
    {
     "data": {
      "text/plain": [
       "array([[99899,     1],\n",
       "       [    0,   100]])"
      ]
     },
     "execution_count": 77,
     "metadata": {},
     "output_type": "execute_result"
    }
   ],
   "source": [
    "loaded_model=pickle.load(open('filename.sav','rb'))\n",
    "pred = loaded_model.predict(X)\n",
    "from sklearn.metrics import confusion_matrix\n",
    "confusion_matrix(y,pred)"
   ]
  }
 ],
 "metadata": {
  "kernelspec": {
   "display_name": "Python 3",
   "language": "python",
   "name": "python3"
  },
  "language_info": {
   "codemirror_mode": {
    "name": "ipython",
    "version": 3
   },
   "file_extension": ".py",
   "mimetype": "text/x-python",
   "name": "python",
   "nbconvert_exporter": "python",
   "pygments_lexer": "ipython3",
   "version": "3.8.1"
  }
 },
 "nbformat": 4,
 "nbformat_minor": 4
}
