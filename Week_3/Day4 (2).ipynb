{
 "cells": [
  {
   "cell_type": "markdown",
   "metadata": {
    "toc": true
   },
   "source": [
    "<h1>Table of Contents<span class=\"tocSkip\"></span></h1>\n",
    "<div class=\"toc\"><ul class=\"toc-item\"><li><span><a href=\"#API-Wrappers\" data-toc-modified-id=\"API-Wrappers-1\"><span class=\"toc-item-num\">1&nbsp;&nbsp;</span>API Wrappers</a></span></li><li><span><a href=\"#Pipeline\" data-toc-modified-id=\"Pipeline-2\"><span class=\"toc-item-num\">2&nbsp;&nbsp;</span>Pipeline</a></span></li></ul></div>"
   ]
  },
  {
   "cell_type": "code",
   "execution_count": 1,
   "metadata": {},
   "outputs": [],
   "source": [
    "import requests as r"
   ]
  },
  {
   "cell_type": "code",
   "execution_count": 2,
   "metadata": {},
   "outputs": [],
   "source": [
    "url = 'https://github.com/trending/developers'"
   ]
  },
  {
   "cell_type": "code",
   "execution_count": 3,
   "metadata": {},
   "outputs": [],
   "source": [
    "from bs4 import BeautifulSoup as bs"
   ]
  },
  {
   "cell_type": "code",
   "execution_count": 5,
   "metadata": {},
   "outputs": [],
   "source": [
    "html=r.get(url)"
   ]
  },
  {
   "cell_type": "code",
   "execution_count": 8,
   "metadata": {},
   "outputs": [],
   "source": [
    "soup=bs(html.content)"
   ]
  },
  {
   "cell_type": "code",
   "execution_count": 18,
   "metadata": {
    "collapsed": true
   },
   "outputs": [
    {
     "data": {
      "text/plain": [
       "['Pierre Krieger (tomaka)',\n",
       " 'Dries Vints (driesvints)',\n",
       " 'Stefan Prodan (stefanprodan)',\n",
       " 'Franck Nijhof (frenck)',\n",
       " 'Kostas Bariotis (kbariotis)',\n",
       " 'Sebastián Ramírez (tiangolo)',\n",
       " 'Max Moroz (Dor1s)',\n",
       " 'itchyny (itchyny)',\n",
       " 'Michael Waskom (mwaskom)',\n",
       " 'Ross A. Baker (rossabaker)',\n",
       " 'Kent C. Dodds (kentcdodds)',\n",
       " 'Steven Allen (Stebalien)',\n",
       " 'Mark Erikson (markerikson)',\n",
       " 'Jason Quense (jquense)',\n",
       " 'evelyn masso (outofambit)',\n",
       " 'Tim Gross (tgross)',\n",
       " 'James Newton-King (JamesNK)',\n",
       " 'Łukasz Magiera (magik6k)',\n",
       " 'Tim Pope (tpope)',\n",
       " 'Kirk Byers (ktbyers)',\n",
       " 'Daniel Lemire (lemire)',\n",
       " 'Aaron Turner (torch2424)',\n",
       " 'David Cramer (dcramer)',\n",
       " 'Andy Hayden (hayd)',\n",
       " 'R.I.Pienaar (ripienaar)']"
      ]
     },
     "execution_count": 18,
     "metadata": {},
     "output_type": "execute_result"
    }
   ],
   "source": [
    "[f\"{i.text.strip()} ({i['href'].strip('/')})\" for i in soup.select('h1.h3>a')]"
   ]
  },
  {
   "cell_type": "code",
   "execution_count": 20,
   "metadata": {},
   "outputs": [],
   "source": [
    "list_of_names=[i.text.strip() for i in soup.select('h1.h3>a')]"
   ]
  },
  {
   "cell_type": "code",
   "execution_count": 23,
   "metadata": {},
   "outputs": [],
   "source": [
    "list_of_usernames=[i['href'].strip('/') for i in soup.select('h1.h3>a')]"
   ]
  },
  {
   "cell_type": "code",
   "execution_count": 27,
   "metadata": {
    "collapsed": true
   },
   "outputs": [
    {
     "name": "stdout",
     "output_type": "stream",
     "text": [
      "Pierre Krieger (tomaka)\n",
      "Dries Vints (driesvints)\n",
      "Stefan Prodan (stefanprodan)\n",
      "Franck Nijhof (frenck)\n",
      "Kostas Bariotis (kbariotis)\n",
      "Sebastián Ramírez (tiangolo)\n",
      "Max Moroz (Dor1s)\n",
      "itchyny (itchyny)\n",
      "Michael Waskom (mwaskom)\n",
      "Ross A. Baker (rossabaker)\n",
      "Kent C. Dodds (kentcdodds)\n",
      "Steven Allen (Stebalien)\n",
      "Mark Erikson (markerikson)\n",
      "Jason Quense (jquense)\n",
      "evelyn masso (outofambit)\n",
      "Tim Gross (tgross)\n",
      "James Newton-King (JamesNK)\n",
      "Łukasz Magiera (magik6k)\n",
      "Tim Pope (tpope)\n",
      "Kirk Byers (ktbyers)\n",
      "Daniel Lemire (lemire)\n",
      "Aaron Turner (torch2424)\n",
      "David Cramer (dcramer)\n",
      "Andy Hayden (hayd)\n",
      "R.I.Pienaar (ripienaar)\n"
     ]
    }
   ],
   "source": [
    "for i in range(len(list_of_names)):\n",
    "    print(list_of_names[i] + ' (' + list_of_usernames[i] + ')')"
   ]
  },
  {
   "cell_type": "code",
   "execution_count": 28,
   "metadata": {},
   "outputs": [],
   "source": [
    "url = 'https://github.com/trending/python?since=daily'\n"
   ]
  },
  {
   "cell_type": "code",
   "execution_count": 29,
   "metadata": {},
   "outputs": [],
   "source": [
    "soup=bs(r.get(url).content)"
   ]
  },
  {
   "cell_type": "code",
   "execution_count": 33,
   "metadata": {
    "scrolled": false
   },
   "outputs": [],
   "source": [
    "[i['href'].strip('/') for i in soup.select('h1.h3>a')];"
   ]
  },
  {
   "cell_type": "code",
   "execution_count": 34,
   "metadata": {},
   "outputs": [],
   "source": [
    "url = 'https://en.wikipedia.org/wiki/Walt_Disney'"
   ]
  },
  {
   "cell_type": "code",
   "execution_count": 35,
   "metadata": {},
   "outputs": [],
   "source": [
    "soup=bs(r.get(url).content)"
   ]
  },
  {
   "cell_type": "code",
   "execution_count": 40,
   "metadata": {},
   "outputs": [],
   "source": [
    "['https'+i['src'] for i in soup.select('img')];"
   ]
  },
  {
   "cell_type": "code",
   "execution_count": 53,
   "metadata": {},
   "outputs": [],
   "source": [
    "url ='https://en.wikipedia.org/wiki/Python'\n",
    "soup=bs(r.get(url).content)\n",
    "links=[url+i['href'] if i['href'].startswith('#') else 'https://en.wikipedia.org'+i['href'] if i['href'].startswith('/') else i['href'] for i in soup.select('a[href]')];"
   ]
  },
  {
   "cell_type": "code",
   "execution_count": 61,
   "metadata": {},
   "outputs": [
    {
     "data": {
      "text/plain": [
       "3"
      ]
     },
     "execution_count": 61,
     "metadata": {},
     "output_type": "execute_result"
    }
   ],
   "source": [
    "url ='https://uscode.house.gov/download/download.shtml'\n",
    "soup=bs(r.get(url).content)\n",
    "len(soup.select('div.usctitlechanged'))"
   ]
  },
  {
   "cell_type": "code",
   "execution_count": 62,
   "metadata": {},
   "outputs": [
    {
     "data": {
      "text/plain": [
       "['EUGENE PALMER',\n",
       " 'SANTIAGO VILLALBA MEDEROS',\n",
       " 'RAFAEL CARO-QUINTERO',\n",
       " 'ROBERT WILLIAM FISHER',\n",
       " 'BHADRESHKUMAR CHETANBHAI PATEL',\n",
       " 'ARNOLDO JIMENEZ',\n",
       " 'ALEJANDRO ROSALES CASTILLO',\n",
       " 'YASER ABDEL SAID',\n",
       " 'JASON DEREK BROWN',\n",
       " 'ALEXIS FLORES']"
      ]
     },
     "execution_count": 62,
     "metadata": {},
     "output_type": "execute_result"
    }
   ],
   "source": [
    "url = 'https://www.fbi.gov/wanted/topten'\n",
    "soup=bs(r.get(url).content)\n",
    "[i.text for i in soup.select('h3.title>a')]"
   ]
  },
  {
   "cell_type": "code",
   "execution_count": 71,
   "metadata": {},
   "outputs": [],
   "source": [
    "import pandas as pd\n",
    "url = 'https://www.emsc-csem.org/Earthquake/'\n",
    "soup=bs(r.get(url).content)\n",
    "date=[i.text.split()[0] for i in soup.select('#tbody td.tabev6 a')]\n",
    "time=[i.text.split()[1] for i in soup.select('#tbody td.tabev6 a')]"
   ]
  },
  {
   "cell_type": "code",
   "execution_count": 78,
   "metadata": {},
   "outputs": [],
   "source": [
    "lat_1_2=soup.select('#tbody tr td:nth-of-type(5),#tbody tr td:nth-of-type(6)')\n",
    "latitude=[lat_1_2[i].text.strip()+' '+lat_1_2[i+1].text.strip() for i in range(0,len(lat_1_2),2)]"
   ]
  },
  {
   "cell_type": "code",
   "execution_count": 80,
   "metadata": {},
   "outputs": [],
   "source": [
    "lon_1_2=soup.select('#tbody tr td:nth-of-type(7),#tbody tr td:nth-of-type(8)')\n",
    "longitude=[lon_1_2[i].text.strip()+' '+lon_1_2[i+1].text.strip() for i in range(0,len(lon_1_2),2)]"
   ]
  },
  {
   "cell_type": "code",
   "execution_count": 86,
   "metadata": {},
   "outputs": [],
   "source": [
    "region=[i.text.strip() for i in soup.select('.tb_region')]"
   ]
  },
  {
   "cell_type": "code",
   "execution_count": 92,
   "metadata": {},
   "outputs": [],
   "source": [
    "pd.DataFrame([date,time,latitude,longitude,region], index=['date','time','latitude','longitude','region']).T.head(20);"
   ]
  },
  {
   "cell_type": "code",
   "execution_count": null,
   "metadata": {},
   "outputs": [],
   "source": []
  },
  {
   "cell_type": "code",
   "execution_count": null,
   "metadata": {},
   "outputs": [],
   "source": []
  },
  {
   "cell_type": "markdown",
   "metadata": {},
   "source": [
    "# API Wrappers"
   ]
  },
  {
   "cell_type": "markdown",
   "metadata": {},
   "source": [
    "# Pipeline"
   ]
  },
  {
   "cell_type": "code",
   "execution_count": 1,
   "metadata": {},
   "outputs": [],
   "source": [
    "import pandas as pd"
   ]
  },
  {
   "cell_type": "code",
   "execution_count": 4,
   "metadata": {
    "collapsed": true
   },
   "outputs": [
    {
     "name": "stdout",
     "output_type": "stream",
     "text": [
      "Collecting quandl\n",
      "  Downloading https://files.pythonhosted.org/packages/07/ab/8cd479fba8a9b197a43a0d55dd534b066fb8e5a0a04b5c0384cbc5d663aa/Quandl-3.5.0-py2.py3-none-any.whl\n",
      "Requirement already satisfied: pandas>=0.14 in c:\\users\\eldiy\\anaconda3\\lib\\site-packages (from quandl) (0.25.3)\n",
      "Requirement already satisfied: python-dateutil in c:\\users\\eldiy\\anaconda3\\lib\\site-packages (from quandl) (2.8.1)\n",
      "Requirement already satisfied: more-itertools in c:\\users\\eldiy\\anaconda3\\lib\\site-packages (from quandl) (7.2.0)\n",
      "Requirement already satisfied: six in c:\\users\\eldiy\\anaconda3\\lib\\site-packages (from quandl) (1.13.0)\n",
      "Collecting inflection>=0.3.1\n",
      "  Downloading https://files.pythonhosted.org/packages/d5/35/a6eb45b4e2356fe688b21570864d4aa0d0a880ce387defe9c589112077f8/inflection-0.3.1.tar.gz\n",
      "Requirement already satisfied: numpy>=1.8 in c:\\users\\eldiy\\anaconda3\\lib\\site-packages (from quandl) (1.17.4)\n",
      "Requirement already satisfied: requests>=2.7.0 in c:\\users\\eldiy\\anaconda3\\lib\\site-packages (from quandl) (2.22.0)\n",
      "Requirement already satisfied: pytz>=2017.2 in c:\\users\\eldiy\\anaconda3\\lib\\site-packages (from pandas>=0.14->quandl) (2019.3)\n",
      "Requirement already satisfied: chardet<3.1.0,>=3.0.2 in c:\\users\\eldiy\\anaconda3\\lib\\site-packages (from requests>=2.7.0->quandl) (3.0.4)\n",
      "Requirement already satisfied: urllib3!=1.25.0,!=1.25.1,<1.26,>=1.21.1 in c:\\users\\eldiy\\anaconda3\\lib\\site-packages (from requests>=2.7.0->quandl) (1.24.2)\n",
      "Requirement already satisfied: idna<2.9,>=2.5 in c:\\users\\eldiy\\anaconda3\\lib\\site-packages (from requests>=2.7.0->quandl) (2.8)\n",
      "Requirement already satisfied: certifi>=2017.4.17 in c:\\users\\eldiy\\anaconda3\\lib\\site-packages (from requests>=2.7.0->quandl) (2019.11.28)\n",
      "Building wheels for collected packages: inflection\n",
      "  Building wheel for inflection (setup.py): started\n",
      "  Building wheel for inflection (setup.py): finished with status 'done'\n",
      "  Created wheel for inflection: filename=inflection-0.3.1-cp36-none-any.whl size=6082 sha256=9fc7e7d9e32a448c8fcd83ede3763372e0395a52204c4a8675c870521ad807b5\n",
      "  Stored in directory: C:\\Users\\eldiy\\AppData\\Local\\pip\\Cache\\wheels\\9f\\5a\\d3\\6fc3bf6516d2a3eb7e18f9f28b472110b59325f3f258fe9211\n",
      "Successfully built inflection\n",
      "Installing collected packages: inflection, quandl\n",
      "Successfully installed inflection-0.3.1 quandl-3.5.0\n"
     ]
    }
   ],
   "source": [
    "!pip install quandl"
   ]
  },
  {
   "cell_type": "code",
   "execution_count": 5,
   "metadata": {},
   "outputs": [],
   "source": [
    "import quandl"
   ]
  },
  {
   "cell_type": "code",
   "execution_count": 8,
   "metadata": {},
   "outputs": [],
   "source": [
    "def get_tickers():\n",
    "    companies=pd.read_csv('https://s3-eu-west-1.amazonaws.com/ih-materials/uploads/data-static/data/module-1/companies.csv')\n",
    "    ticker_list=companies.Ticker.to_list()\n",
    "    print('retrieved',str(len(ticker_list)), 'ticker symbols.')\n",
    "    return ticker_list"
   ]
  },
  {
   "cell_type": "code",
   "execution_count": 20,
   "metadata": {},
   "outputs": [],
   "source": [
    "def get_prices(ticker):\n",
    "    print('retrieving data for', ticker)\n",
    "    prices=quandl.get('WIKI/'+ticker)['Adj. Close'].reset_index()\n",
    "    prices['Ticker']=ticker\n",
    "    return prices"
   ]
  },
  {
   "cell_type": "code",
   "execution_count": 21,
   "metadata": {
    "collapsed": true
   },
   "outputs": [
    {
     "name": "stdout",
     "output_type": "stream",
     "text": [
      "retrieved 30 ticker symbols.\n",
      "retrieving data for AAPL\n",
      "1\n",
      "9400\n",
      "retrieving data for NFLX\n",
      "2\n",
      "3988\n",
      "retrieving data for AMZN\n",
      "3\n",
      "5248\n",
      "retrieving data for MSFT\n",
      "4\n",
      "8076\n",
      "retrieving data for GOOG\n",
      "5\n",
      "1007\n",
      "retrieving data for TSLA\n",
      "6\n",
      "1949\n",
      "retrieving data for FB\n",
      "7\n",
      "1472\n",
      "retrieving data for AAP\n",
      "8\n",
      "4108\n",
      "retrieving data for DIS\n",
      "9\n",
      "14155\n",
      "retrieving data for NKE\n",
      "10\n",
      "9410\n",
      "retrieving data for UA\n",
      "11\n",
      "495\n",
      "retrieving data for BAC\n",
      "12\n",
      "8023\n",
      "retrieving data for CCL\n",
      "13\n",
      "7364\n",
      "retrieving data for CI\n",
      "14\n",
      "9075\n",
      "retrieving data for AAL\n",
      "15\n",
      "3145\n",
      "retrieving data for LUV\n",
      "16\n",
      "9642\n",
      "retrieving data for WFC\n",
      "17\n",
      "11556\n",
      "retrieving data for WMT\n",
      "18\n",
      "11496\n",
      "retrieving data for HD\n",
      "19\n",
      "9207\n",
      "retrieving data for ORCL\n",
      "20\n",
      "8077\n",
      "retrieving data for IBM\n",
      "21\n",
      "14155\n",
      "retrieving data for NCLH\n",
      "22\n",
      "1305\n",
      "retrieving data for RCL\n",
      "23\n",
      "6274\n",
      "retrieving data for TWX\n",
      "24\n",
      "6554\n",
      "retrieving data for FOX\n",
      "25\n",
      "7621\n",
      "retrieving data for F\n",
      "26\n",
      "11556\n",
      "retrieving data for GCI\n",
      "27\n",
      "8026\n",
      "retrieving data for XOM\n",
      "28\n",
      "12168\n",
      "retrieving data for WWE\n",
      "29\n",
      "4638\n",
      "retrieving data for WM\n",
      "30\n",
      "6673\n"
     ]
    }
   ],
   "source": [
    "data=[]\n",
    "ticker_list=get_tickers()\n",
    "\n",
    "for ticker in ticker_list:\n",
    "    prices=get_prices(ticker)\n",
    "    data.append(prices)\n",
    "    print(len(data))\n",
    "    print(len(data[-1]))"
   ]
  },
  {
   "cell_type": "code",
   "execution_count": 31,
   "metadata": {},
   "outputs": [],
   "source": [
    "def concat_pivot(data,rows='Date',columns='Ticker',values='Adj. Close'):\n",
    "    pivot=data.pivot_table(values=values,columns=columns,index=rows)\n",
    "    return pivot"
   ]
  },
  {
   "cell_type": "code",
   "execution_count": 24,
   "metadata": {},
   "outputs": [],
   "source": [
    "def compute_returns(df):\n",
    "    returns=df.pct_change()\n",
    "    return returns"
   ]
  },
  {
   "cell_type": "code",
   "execution_count": 30,
   "metadata": {
    "collapsed": true
   },
   "outputs": [
    {
     "data": {
      "text/html": [
       "<div>\n",
       "<style scoped>\n",
       "    .dataframe tbody tr th:only-of-type {\n",
       "        vertical-align: middle;\n",
       "    }\n",
       "\n",
       "    .dataframe tbody tr th {\n",
       "        vertical-align: top;\n",
       "    }\n",
       "\n",
       "    .dataframe thead th {\n",
       "        text-align: right;\n",
       "    }\n",
       "</style>\n",
       "<table border=\"1\" class=\"dataframe\">\n",
       "  <thead>\n",
       "    <tr style=\"text-align: right;\">\n",
       "      <th>Ticker</th>\n",
       "      <th>AAL</th>\n",
       "      <th>AAP</th>\n",
       "      <th>AAPL</th>\n",
       "      <th>AMZN</th>\n",
       "      <th>BAC</th>\n",
       "      <th>CCL</th>\n",
       "      <th>CI</th>\n",
       "      <th>DIS</th>\n",
       "      <th>F</th>\n",
       "      <th>FB</th>\n",
       "      <th>...</th>\n",
       "      <th>ORCL</th>\n",
       "      <th>RCL</th>\n",
       "      <th>TSLA</th>\n",
       "      <th>TWX</th>\n",
       "      <th>UA</th>\n",
       "      <th>WFC</th>\n",
       "      <th>WM</th>\n",
       "      <th>WMT</th>\n",
       "      <th>WWE</th>\n",
       "      <th>XOM</th>\n",
       "    </tr>\n",
       "    <tr>\n",
       "      <th>Date</th>\n",
       "      <th></th>\n",
       "      <th></th>\n",
       "      <th></th>\n",
       "      <th></th>\n",
       "      <th></th>\n",
       "      <th></th>\n",
       "      <th></th>\n",
       "      <th></th>\n",
       "      <th></th>\n",
       "      <th></th>\n",
       "      <th></th>\n",
       "      <th></th>\n",
       "      <th></th>\n",
       "      <th></th>\n",
       "      <th></th>\n",
       "      <th></th>\n",
       "      <th></th>\n",
       "      <th></th>\n",
       "      <th></th>\n",
       "      <th></th>\n",
       "      <th></th>\n",
       "    </tr>\n",
       "  </thead>\n",
       "  <tbody>\n",
       "    <tr>\n",
       "      <th>1962-01-02</th>\n",
       "      <td>NaN</td>\n",
       "      <td>NaN</td>\n",
       "      <td>NaN</td>\n",
       "      <td>NaN</td>\n",
       "      <td>NaN</td>\n",
       "      <td>NaN</td>\n",
       "      <td>NaN</td>\n",
       "      <td>NaN</td>\n",
       "      <td>NaN</td>\n",
       "      <td>NaN</td>\n",
       "      <td>...</td>\n",
       "      <td>NaN</td>\n",
       "      <td>NaN</td>\n",
       "      <td>NaN</td>\n",
       "      <td>NaN</td>\n",
       "      <td>NaN</td>\n",
       "      <td>NaN</td>\n",
       "      <td>NaN</td>\n",
       "      <td>NaN</td>\n",
       "      <td>NaN</td>\n",
       "      <td>NaN</td>\n",
       "    </tr>\n",
       "    <tr>\n",
       "      <th>1962-01-03</th>\n",
       "      <td>NaN</td>\n",
       "      <td>NaN</td>\n",
       "      <td>NaN</td>\n",
       "      <td>NaN</td>\n",
       "      <td>NaN</td>\n",
       "      <td>NaN</td>\n",
       "      <td>NaN</td>\n",
       "      <td>0.013423</td>\n",
       "      <td>NaN</td>\n",
       "      <td>NaN</td>\n",
       "      <td>...</td>\n",
       "      <td>NaN</td>\n",
       "      <td>NaN</td>\n",
       "      <td>NaN</td>\n",
       "      <td>NaN</td>\n",
       "      <td>NaN</td>\n",
       "      <td>NaN</td>\n",
       "      <td>NaN</td>\n",
       "      <td>NaN</td>\n",
       "      <td>NaN</td>\n",
       "      <td>NaN</td>\n",
       "    </tr>\n",
       "    <tr>\n",
       "      <th>1962-01-04</th>\n",
       "      <td>NaN</td>\n",
       "      <td>NaN</td>\n",
       "      <td>NaN</td>\n",
       "      <td>NaN</td>\n",
       "      <td>NaN</td>\n",
       "      <td>NaN</td>\n",
       "      <td>NaN</td>\n",
       "      <td>0.000000</td>\n",
       "      <td>NaN</td>\n",
       "      <td>NaN</td>\n",
       "      <td>...</td>\n",
       "      <td>NaN</td>\n",
       "      <td>NaN</td>\n",
       "      <td>NaN</td>\n",
       "      <td>NaN</td>\n",
       "      <td>NaN</td>\n",
       "      <td>NaN</td>\n",
       "      <td>NaN</td>\n",
       "      <td>NaN</td>\n",
       "      <td>NaN</td>\n",
       "      <td>NaN</td>\n",
       "    </tr>\n",
       "    <tr>\n",
       "      <th>1962-01-05</th>\n",
       "      <td>NaN</td>\n",
       "      <td>NaN</td>\n",
       "      <td>NaN</td>\n",
       "      <td>NaN</td>\n",
       "      <td>NaN</td>\n",
       "      <td>NaN</td>\n",
       "      <td>NaN</td>\n",
       "      <td>0.003444</td>\n",
       "      <td>NaN</td>\n",
       "      <td>NaN</td>\n",
       "      <td>...</td>\n",
       "      <td>NaN</td>\n",
       "      <td>NaN</td>\n",
       "      <td>NaN</td>\n",
       "      <td>NaN</td>\n",
       "      <td>NaN</td>\n",
       "      <td>NaN</td>\n",
       "      <td>NaN</td>\n",
       "      <td>NaN</td>\n",
       "      <td>NaN</td>\n",
       "      <td>NaN</td>\n",
       "    </tr>\n",
       "    <tr>\n",
       "      <th>1962-01-08</th>\n",
       "      <td>NaN</td>\n",
       "      <td>NaN</td>\n",
       "      <td>NaN</td>\n",
       "      <td>NaN</td>\n",
       "      <td>NaN</td>\n",
       "      <td>NaN</td>\n",
       "      <td>NaN</td>\n",
       "      <td>-0.003432</td>\n",
       "      <td>NaN</td>\n",
       "      <td>NaN</td>\n",
       "      <td>...</td>\n",
       "      <td>NaN</td>\n",
       "      <td>NaN</td>\n",
       "      <td>NaN</td>\n",
       "      <td>NaN</td>\n",
       "      <td>NaN</td>\n",
       "      <td>NaN</td>\n",
       "      <td>NaN</td>\n",
       "      <td>NaN</td>\n",
       "      <td>NaN</td>\n",
       "      <td>NaN</td>\n",
       "    </tr>\n",
       "    <tr>\n",
       "      <th>...</th>\n",
       "      <td>...</td>\n",
       "      <td>...</td>\n",
       "      <td>...</td>\n",
       "      <td>...</td>\n",
       "      <td>...</td>\n",
       "      <td>...</td>\n",
       "      <td>...</td>\n",
       "      <td>...</td>\n",
       "      <td>...</td>\n",
       "      <td>...</td>\n",
       "      <td>...</td>\n",
       "      <td>...</td>\n",
       "      <td>...</td>\n",
       "      <td>...</td>\n",
       "      <td>...</td>\n",
       "      <td>...</td>\n",
       "      <td>...</td>\n",
       "      <td>...</td>\n",
       "      <td>...</td>\n",
       "      <td>...</td>\n",
       "      <td>...</td>\n",
       "    </tr>\n",
       "    <tr>\n",
       "      <th>2018-03-21</th>\n",
       "      <td>-0.022234</td>\n",
       "      <td>0.008665</td>\n",
       "      <td>-0.022655</td>\n",
       "      <td>-0.002931</td>\n",
       "      <td>-0.003440</td>\n",
       "      <td>-0.011643</td>\n",
       "      <td>0.012424</td>\n",
       "      <td>0.004637</td>\n",
       "      <td>0.010009</td>\n",
       "      <td>0.007374</td>\n",
       "      <td>...</td>\n",
       "      <td>-0.000638</td>\n",
       "      <td>-0.011933</td>\n",
       "      <td>0.019256</td>\n",
       "      <td>0.001156</td>\n",
       "      <td>0.004283</td>\n",
       "      <td>-0.002004</td>\n",
       "      <td>-0.004057</td>\n",
       "      <td>0.002615</td>\n",
       "      <td>-0.005207</td>\n",
       "      <td>0.014191</td>\n",
       "    </tr>\n",
       "    <tr>\n",
       "      <th>2018-03-22</th>\n",
       "      <td>-0.032908</td>\n",
       "      <td>-0.030632</td>\n",
       "      <td>-0.014159</td>\n",
       "      <td>-0.023871</td>\n",
       "      <td>-0.041418</td>\n",
       "      <td>-0.012824</td>\n",
       "      <td>-0.010236</td>\n",
       "      <td>-0.011982</td>\n",
       "      <td>-0.031532</td>\n",
       "      <td>-0.026566</td>\n",
       "      <td>...</td>\n",
       "      <td>-0.024032</td>\n",
       "      <td>-0.025857</td>\n",
       "      <td>-0.023473</td>\n",
       "      <td>-0.010809</td>\n",
       "      <td>-0.025586</td>\n",
       "      <td>-0.041248</td>\n",
       "      <td>-0.019553</td>\n",
       "      <td>-0.011794</td>\n",
       "      <td>-0.011019</td>\n",
       "      <td>-0.020522</td>\n",
       "    </tr>\n",
       "    <tr>\n",
       "      <th>2018-03-23</th>\n",
       "      <td>-0.024852</td>\n",
       "      <td>-0.007788</td>\n",
       "      <td>-0.023128</td>\n",
       "      <td>-0.031436</td>\n",
       "      <td>-0.045172</td>\n",
       "      <td>-0.027039</td>\n",
       "      <td>-0.008105</td>\n",
       "      <td>-0.020477</td>\n",
       "      <td>-0.017674</td>\n",
       "      <td>-0.033356</td>\n",
       "      <td>...</td>\n",
       "      <td>-0.023970</td>\n",
       "      <td>-0.026127</td>\n",
       "      <td>-0.024458</td>\n",
       "      <td>-0.017929</td>\n",
       "      <td>0.000729</td>\n",
       "      <td>-0.029507</td>\n",
       "      <td>-0.015907</td>\n",
       "      <td>-0.019738</td>\n",
       "      <td>-0.002228</td>\n",
       "      <td>-0.008299</td>\n",
       "    </tr>\n",
       "    <tr>\n",
       "      <th>2018-03-26</th>\n",
       "      <td>0.016663</td>\n",
       "      <td>0.035457</td>\n",
       "      <td>0.047472</td>\n",
       "      <td>0.040319</td>\n",
       "      <td>0.043538</td>\n",
       "      <td>0.021580</td>\n",
       "      <td>0.028537</td>\n",
       "      <td>0.021413</td>\n",
       "      <td>0.025568</td>\n",
       "      <td>0.004204</td>\n",
       "      <td>...</td>\n",
       "      <td>0.037732</td>\n",
       "      <td>0.024607</td>\n",
       "      <td>0.008755</td>\n",
       "      <td>0.015340</td>\n",
       "      <td>0.053936</td>\n",
       "      <td>0.025696</td>\n",
       "      <td>0.014837</td>\n",
       "      <td>0.024350</td>\n",
       "      <td>0.030151</td>\n",
       "      <td>0.015228</td>\n",
       "    </tr>\n",
       "    <tr>\n",
       "      <th>2018-03-27</th>\n",
       "      <td>-0.018511</td>\n",
       "      <td>0.002091</td>\n",
       "      <td>-0.025641</td>\n",
       "      <td>-0.037799</td>\n",
       "      <td>-0.030223</td>\n",
       "      <td>-0.001064</td>\n",
       "      <td>-0.018615</td>\n",
       "      <td>-0.012817</td>\n",
       "      <td>0.000000</td>\n",
       "      <td>-0.049169</td>\n",
       "      <td>...</td>\n",
       "      <td>-0.023666</td>\n",
       "      <td>-0.013509</td>\n",
       "      <td>-0.082188</td>\n",
       "      <td>0.002234</td>\n",
       "      <td>-0.009682</td>\n",
       "      <td>-0.022758</td>\n",
       "      <td>-0.009985</td>\n",
       "      <td>-0.016571</td>\n",
       "      <td>-0.019512</td>\n",
       "      <td>-0.004054</td>\n",
       "    </tr>\n",
       "  </tbody>\n",
       "</table>\n",
       "<p>14156 rows × 30 columns</p>\n",
       "</div>"
      ],
      "text/plain": [
       "Ticker           AAL       AAP      AAPL      AMZN       BAC       CCL  \\\n",
       "Date                                                                     \n",
       "1962-01-02       NaN       NaN       NaN       NaN       NaN       NaN   \n",
       "1962-01-03       NaN       NaN       NaN       NaN       NaN       NaN   \n",
       "1962-01-04       NaN       NaN       NaN       NaN       NaN       NaN   \n",
       "1962-01-05       NaN       NaN       NaN       NaN       NaN       NaN   \n",
       "1962-01-08       NaN       NaN       NaN       NaN       NaN       NaN   \n",
       "...              ...       ...       ...       ...       ...       ...   \n",
       "2018-03-21 -0.022234  0.008665 -0.022655 -0.002931 -0.003440 -0.011643   \n",
       "2018-03-22 -0.032908 -0.030632 -0.014159 -0.023871 -0.041418 -0.012824   \n",
       "2018-03-23 -0.024852 -0.007788 -0.023128 -0.031436 -0.045172 -0.027039   \n",
       "2018-03-26  0.016663  0.035457  0.047472  0.040319  0.043538  0.021580   \n",
       "2018-03-27 -0.018511  0.002091 -0.025641 -0.037799 -0.030223 -0.001064   \n",
       "\n",
       "Ticker            CI       DIS         F        FB  ...      ORCL       RCL  \\\n",
       "Date                                                ...                       \n",
       "1962-01-02       NaN       NaN       NaN       NaN  ...       NaN       NaN   \n",
       "1962-01-03       NaN  0.013423       NaN       NaN  ...       NaN       NaN   \n",
       "1962-01-04       NaN  0.000000       NaN       NaN  ...       NaN       NaN   \n",
       "1962-01-05       NaN  0.003444       NaN       NaN  ...       NaN       NaN   \n",
       "1962-01-08       NaN -0.003432       NaN       NaN  ...       NaN       NaN   \n",
       "...              ...       ...       ...       ...  ...       ...       ...   \n",
       "2018-03-21  0.012424  0.004637  0.010009  0.007374  ... -0.000638 -0.011933   \n",
       "2018-03-22 -0.010236 -0.011982 -0.031532 -0.026566  ... -0.024032 -0.025857   \n",
       "2018-03-23 -0.008105 -0.020477 -0.017674 -0.033356  ... -0.023970 -0.026127   \n",
       "2018-03-26  0.028537  0.021413  0.025568  0.004204  ...  0.037732  0.024607   \n",
       "2018-03-27 -0.018615 -0.012817  0.000000 -0.049169  ... -0.023666 -0.013509   \n",
       "\n",
       "Ticker          TSLA       TWX        UA       WFC        WM       WMT  \\\n",
       "Date                                                                     \n",
       "1962-01-02       NaN       NaN       NaN       NaN       NaN       NaN   \n",
       "1962-01-03       NaN       NaN       NaN       NaN       NaN       NaN   \n",
       "1962-01-04       NaN       NaN       NaN       NaN       NaN       NaN   \n",
       "1962-01-05       NaN       NaN       NaN       NaN       NaN       NaN   \n",
       "1962-01-08       NaN       NaN       NaN       NaN       NaN       NaN   \n",
       "...              ...       ...       ...       ...       ...       ...   \n",
       "2018-03-21  0.019256  0.001156  0.004283 -0.002004 -0.004057  0.002615   \n",
       "2018-03-22 -0.023473 -0.010809 -0.025586 -0.041248 -0.019553 -0.011794   \n",
       "2018-03-23 -0.024458 -0.017929  0.000729 -0.029507 -0.015907 -0.019738   \n",
       "2018-03-26  0.008755  0.015340  0.053936  0.025696  0.014837  0.024350   \n",
       "2018-03-27 -0.082188  0.002234 -0.009682 -0.022758 -0.009985 -0.016571   \n",
       "\n",
       "Ticker           WWE       XOM  \n",
       "Date                            \n",
       "1962-01-02       NaN       NaN  \n",
       "1962-01-03       NaN       NaN  \n",
       "1962-01-04       NaN       NaN  \n",
       "1962-01-05       NaN       NaN  \n",
       "1962-01-08       NaN       NaN  \n",
       "...              ...       ...  \n",
       "2018-03-21 -0.005207  0.014191  \n",
       "2018-03-22 -0.011019 -0.020522  \n",
       "2018-03-23 -0.002228 -0.008299  \n",
       "2018-03-26  0.030151  0.015228  \n",
       "2018-03-27 -0.019512 -0.004054  \n",
       "\n",
       "[14156 rows x 30 columns]"
      ]
     },
     "execution_count": 30,
     "metadata": {},
     "output_type": "execute_result"
    }
   ],
   "source": [
    "compute_returns(concat_pivot(data))"
   ]
  },
  {
   "cell_type": "code",
   "execution_count": 28,
   "metadata": {},
   "outputs": [],
   "source": [
    "def acquisition():\n",
    "    data=[]\n",
    "    ticker_list=get_tickers()\n",
    "\n",
    "    for ticker in ticker_list:\n",
    "        prices=get_prices(ticker)\n",
    "        data.append(prices)\n",
    "    df=pd.concat(data,sort=True)\n",
    "    return df"
   ]
  },
  {
   "cell_type": "code",
   "execution_count": null,
   "metadata": {},
   "outputs": [],
   "source": [
    "concat_pivot(data,'Date','Ticker','Adj. Close')"
   ]
  },
  {
   "cell_type": "code",
   "execution_count": null,
   "metadata": {},
   "outputs": [],
   "source": [
    "concat_pivot(acquisition()).pipe(compute_returns, price=price).pipe()"
   ]
  }
 ],
 "metadata": {
  "kernelspec": {
   "display_name": "Python 3",
   "language": "python",
   "name": "python3"
  },
  "language_info": {
   "codemirror_mode": {
    "name": "ipython",
    "version": 3
   },
   "file_extension": ".py",
   "mimetype": "text/x-python",
   "name": "python",
   "nbconvert_exporter": "python",
   "pygments_lexer": "ipython3",
   "version": "3.7.6"
  },
  "toc": {
   "base_numbering": 1,
   "nav_menu": {},
   "number_sections": true,
   "sideBar": true,
   "skip_h1_title": false,
   "title_cell": "Table of Contents",
   "title_sidebar": "Contents",
   "toc_cell": true,
   "toc_position": {},
   "toc_section_display": true,
   "toc_window_display": false
  }
 },
 "nbformat": 4,
 "nbformat_minor": 2
}
