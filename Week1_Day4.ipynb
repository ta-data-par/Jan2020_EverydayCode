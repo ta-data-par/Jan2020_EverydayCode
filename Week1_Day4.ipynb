{
 "cells": [
  {
   "cell_type": "markdown",
   "metadata": {},
   "source": [
    "# Error Handling"
   ]
  },
  {
   "cell_type": "code",
   "execution_count": 1,
   "metadata": {},
   "outputs": [
    {
     "ename": "ImportError",
     "evalue": "cannot import name 'something'",
     "output_type": "error",
     "traceback": [
      "\u001b[1;31m---------------------------------------------------------------------------\u001b[0m",
      "\u001b[1;31mImportError\u001b[0m                               Traceback (most recent call last)",
      "\u001b[1;32m<ipython-input-1-8f77cfeecc32>\u001b[0m in \u001b[0;36m<module>\u001b[1;34m\u001b[0m\n\u001b[1;32m----> 1\u001b[1;33m \u001b[1;32mfrom\u001b[0m \u001b[0mrandom\u001b[0m \u001b[1;32mimport\u001b[0m \u001b[0msomething\u001b[0m\u001b[1;33m\u001b[0m\u001b[1;33m\u001b[0m\u001b[0m\n\u001b[0m",
      "\u001b[1;31mImportError\u001b[0m: cannot import name 'something'"
     ]
    }
   ],
   "source": [
    "from random import something"
   ]
  },
  {
   "cell_type": "code",
   "execution_count": 2,
   "metadata": {},
   "outputs": [],
   "source": [
    "def func(s):\n",
    "    print(something)"
   ]
  },
  {
   "cell_type": "code",
   "execution_count": 3,
   "metadata": {},
   "outputs": [
    {
     "ename": "NameError",
     "evalue": "name 'something' is not defined",
     "output_type": "error",
     "traceback": [
      "\u001b[1;31m---------------------------------------------------------------------------\u001b[0m",
      "\u001b[1;31mNameError\u001b[0m                                 Traceback (most recent call last)",
      "\u001b[1;32m<ipython-input-3-6a3620330a95>\u001b[0m in \u001b[0;36m<module>\u001b[1;34m\u001b[0m\n\u001b[1;32m----> 1\u001b[1;33m \u001b[0mfunc\u001b[0m\u001b[1;33m(\u001b[0m\u001b[1;34m's'\u001b[0m\u001b[1;33m)\u001b[0m\u001b[1;33m\u001b[0m\u001b[1;33m\u001b[0m\u001b[0m\n\u001b[0m",
      "\u001b[1;32m<ipython-input-2-fa743bc4e9b7>\u001b[0m in \u001b[0;36mfunc\u001b[1;34m(s)\u001b[0m\n\u001b[0;32m      1\u001b[0m \u001b[1;32mdef\u001b[0m \u001b[0mfunc\u001b[0m\u001b[1;33m(\u001b[0m\u001b[0ms\u001b[0m\u001b[1;33m)\u001b[0m\u001b[1;33m:\u001b[0m\u001b[1;33m\u001b[0m\u001b[1;33m\u001b[0m\u001b[0m\n\u001b[1;32m----> 2\u001b[1;33m     \u001b[0mprint\u001b[0m\u001b[1;33m(\u001b[0m\u001b[0msomething\u001b[0m\u001b[1;33m)\u001b[0m\u001b[1;33m\u001b[0m\u001b[1;33m\u001b[0m\u001b[0m\n\u001b[0m",
      "\u001b[1;31mNameError\u001b[0m: name 'something' is not defined"
     ]
    }
   ],
   "source": [
    "func('s')"
   ]
  },
  {
   "cell_type": "code",
   "execution_count": 25,
   "metadata": {},
   "outputs": [],
   "source": [
    "def test_for_positiveness(number):\n",
    "    if number<=0:\n",
    "        raise ValueError('The number of products is negative')\n",
    "    else:\n",
    "        print('Alles gut!')"
   ]
  },
  {
   "cell_type": "code",
   "execution_count": 26,
   "metadata": {},
   "outputs": [
    {
     "ename": "ValueError",
     "evalue": "The number of products is negative",
     "output_type": "error",
     "traceback": [
      "\u001b[1;31m---------------------------------------------------------------------------\u001b[0m",
      "\u001b[1;31mValueError\u001b[0m                                Traceback (most recent call last)",
      "\u001b[1;32m<ipython-input-26-1e8b4d2d6d59>\u001b[0m in \u001b[0;36m<module>\u001b[1;34m\u001b[0m\n\u001b[1;32m----> 1\u001b[1;33m \u001b[0mtest_for_positiveness\u001b[0m\u001b[1;33m(\u001b[0m\u001b[1;33m-\u001b[0m\u001b[1;36m4\u001b[0m\u001b[1;33m)\u001b[0m\u001b[1;33m\u001b[0m\u001b[1;33m\u001b[0m\u001b[0m\n\u001b[0m",
      "\u001b[1;32m<ipython-input-25-34496cb83045>\u001b[0m in \u001b[0;36mtest_for_positiveness\u001b[1;34m(number)\u001b[0m\n\u001b[0;32m      1\u001b[0m \u001b[1;32mdef\u001b[0m \u001b[0mtest_for_positiveness\u001b[0m\u001b[1;33m(\u001b[0m\u001b[0mnumber\u001b[0m\u001b[1;33m)\u001b[0m\u001b[1;33m:\u001b[0m\u001b[1;33m\u001b[0m\u001b[1;33m\u001b[0m\u001b[0m\n\u001b[0;32m      2\u001b[0m     \u001b[1;32mif\u001b[0m \u001b[0mnumber\u001b[0m\u001b[1;33m<=\u001b[0m\u001b[1;36m0\u001b[0m\u001b[1;33m:\u001b[0m\u001b[1;33m\u001b[0m\u001b[1;33m\u001b[0m\u001b[0m\n\u001b[1;32m----> 3\u001b[1;33m         \u001b[1;32mraise\u001b[0m \u001b[0mValueError\u001b[0m\u001b[1;33m(\u001b[0m\u001b[1;34m'The number of products is negative'\u001b[0m\u001b[1;33m)\u001b[0m\u001b[1;33m\u001b[0m\u001b[1;33m\u001b[0m\u001b[0m\n\u001b[0m\u001b[0;32m      4\u001b[0m     \u001b[1;32melse\u001b[0m\u001b[1;33m:\u001b[0m\u001b[1;33m\u001b[0m\u001b[1;33m\u001b[0m\u001b[0m\n\u001b[0;32m      5\u001b[0m         \u001b[0mprint\u001b[0m\u001b[1;33m(\u001b[0m\u001b[1;34m'Alles gut!'\u001b[0m\u001b[1;33m)\u001b[0m\u001b[1;33m\u001b[0m\u001b[1;33m\u001b[0m\u001b[0m\n",
      "\u001b[1;31mValueError\u001b[0m: The number of products is negative"
     ]
    }
   ],
   "source": [
    "test_for_positiveness(-4)"
   ]
  },
  {
   "cell_type": "code",
   "execution_count": 27,
   "metadata": {},
   "outputs": [
    {
     "ename": "ValueError",
     "evalue": "The number of products is negative",
     "output_type": "error",
     "traceback": [
      "\u001b[1;31m---------------------------------------------------------------------------\u001b[0m",
      "\u001b[1;31mValueError\u001b[0m                                Traceback (most recent call last)",
      "\u001b[1;32m<ipython-input-27-a609617fa57d>\u001b[0m in \u001b[0;36m<module>\u001b[1;34m\u001b[0m\n\u001b[1;32m----> 1\u001b[1;33m \u001b[0mtest_for_positiveness\u001b[0m\u001b[1;33m(\u001b[0m\u001b[1;33m-\u001b[0m\u001b[1;36m99\u001b[0m\u001b[1;33m)\u001b[0m\u001b[1;33m\u001b[0m\u001b[1;33m\u001b[0m\u001b[0m\n\u001b[0m",
      "\u001b[1;32m<ipython-input-25-34496cb83045>\u001b[0m in \u001b[0;36mtest_for_positiveness\u001b[1;34m(number)\u001b[0m\n\u001b[0;32m      1\u001b[0m \u001b[1;32mdef\u001b[0m \u001b[0mtest_for_positiveness\u001b[0m\u001b[1;33m(\u001b[0m\u001b[0mnumber\u001b[0m\u001b[1;33m)\u001b[0m\u001b[1;33m:\u001b[0m\u001b[1;33m\u001b[0m\u001b[1;33m\u001b[0m\u001b[0m\n\u001b[0;32m      2\u001b[0m     \u001b[1;32mif\u001b[0m \u001b[0mnumber\u001b[0m\u001b[1;33m<=\u001b[0m\u001b[1;36m0\u001b[0m\u001b[1;33m:\u001b[0m\u001b[1;33m\u001b[0m\u001b[1;33m\u001b[0m\u001b[0m\n\u001b[1;32m----> 3\u001b[1;33m         \u001b[1;32mraise\u001b[0m \u001b[0mValueError\u001b[0m\u001b[1;33m(\u001b[0m\u001b[1;34m'The number of products is negative'\u001b[0m\u001b[1;33m)\u001b[0m\u001b[1;33m\u001b[0m\u001b[1;33m\u001b[0m\u001b[0m\n\u001b[0m\u001b[0;32m      4\u001b[0m     \u001b[1;32melse\u001b[0m\u001b[1;33m:\u001b[0m\u001b[1;33m\u001b[0m\u001b[1;33m\u001b[0m\u001b[0m\n\u001b[0;32m      5\u001b[0m         \u001b[0mprint\u001b[0m\u001b[1;33m(\u001b[0m\u001b[1;34m'Alles gut!'\u001b[0m\u001b[1;33m)\u001b[0m\u001b[1;33m\u001b[0m\u001b[1;33m\u001b[0m\u001b[0m\n",
      "\u001b[1;31mValueError\u001b[0m: The number of products is negative"
     ]
    }
   ],
   "source": [
    "test_for_positiveness(-99)"
   ]
  },
  {
   "cell_type": "code",
   "execution_count": 32,
   "metadata": {},
   "outputs": [],
   "source": [
    "def test_for_positiveness(number):\n",
    "    if number<=0:\n",
    "        raise ValueError('The number of products is negative')\n",
    "    else:\n",
    "        print('Alles gut!')"
   ]
  },
  {
   "cell_type": "code",
   "execution_count": 30,
   "metadata": {},
   "outputs": [
    {
     "name": "stdout",
     "output_type": "stream",
     "text": [
      "return\n"
     ]
    }
   ],
   "source": [
    "test_for_positiveness(-99)"
   ]
  },
  {
   "cell_type": "code",
   "execution_count": 33,
   "metadata": {},
   "outputs": [
    {
     "name": "stdout",
     "output_type": "stream",
     "text": [
      "the number is negative\n"
     ]
    }
   ],
   "source": [
    "try:\n",
    "    test_for_positiveness(-99)\n",
    "except:\n",
    "    print('the number is negative')"
   ]
  },
  {
   "cell_type": "code",
   "execution_count": 34,
   "metadata": {},
   "outputs": [
    {
     "ename": "ImportError",
     "evalue": "cannot import name 'something'",
     "output_type": "error",
     "traceback": [
      "\u001b[1;31m---------------------------------------------------------------------------\u001b[0m",
      "\u001b[1;31mImportError\u001b[0m                               Traceback (most recent call last)",
      "\u001b[1;32m<ipython-input-34-8f77cfeecc32>\u001b[0m in \u001b[0;36m<module>\u001b[1;34m\u001b[0m\n\u001b[1;32m----> 1\u001b[1;33m \u001b[1;32mfrom\u001b[0m \u001b[0mrandom\u001b[0m \u001b[1;32mimport\u001b[0m \u001b[0msomething\u001b[0m\u001b[1;33m\u001b[0m\u001b[1;33m\u001b[0m\u001b[0m\n\u001b[0m",
      "\u001b[1;31mImportError\u001b[0m: cannot import name 'something'"
     ]
    }
   ],
   "source": [
    "from random import something"
   ]
  },
  {
   "cell_type": "code",
   "execution_count": null,
   "metadata": {},
   "outputs": [],
   "source": [
    "l=[]\n",
    "def import_func(name_of_func):\n",
    "    for i in l:\n",
    "        try:\n",
    "            from i import name_of_func\n",
    "        except:\n",
    "            continue"
   ]
  },
  {
   "cell_type": "code",
   "execution_count": null,
   "metadata": {},
   "outputs": [],
   "source": [
    "def func(s):\n",
    "    print(something)"
   ]
  },
  {
   "cell_type": "code",
   "execution_count": 40,
   "metadata": {},
   "outputs": [
    {
     "name": "stdout",
     "output_type": "stream",
     "text": [
      "Negative\n"
     ]
    }
   ],
   "source": [
    "try:\n",
    "    test_for_positiveness(-4)\n",
    "except:\n",
    "    print('Negative')\n",
    "else:\n",
    "    print('you are dumb')"
   ]
  },
  {
   "cell_type": "code",
   "execution_count": 41,
   "metadata": {},
   "outputs": [],
   "source": [
    "def int_check(integer):\n",
    "    if type(integer)!=int:\n",
    "        raise ValueError('The number is not integer!')\n",
    "    else:\n",
    "        pass"
   ]
  },
  {
   "cell_type": "code",
   "execution_count": 46,
   "metadata": {},
   "outputs": [],
   "source": [
    "numbers=[1,2,3,4,5.5,-7,'i']\n",
    "natural=[]"
   ]
  },
  {
   "cell_type": "code",
   "execution_count": 47,
   "metadata": {},
   "outputs": [
    {
     "name": "stdout",
     "output_type": "stream",
     "text": [
      "Analyzing the number: 1\n",
      "The number is integer\n",
      "Alles gut!\n",
      "\n",
      "\n",
      "Analyzing the number: 2\n",
      "The number is integer\n",
      "Alles gut!\n",
      "\n",
      "\n",
      "Analyzing the number: 3\n",
      "The number is integer\n",
      "Alles gut!\n",
      "\n",
      "\n",
      "Analyzing the number: 4\n",
      "The number is integer\n",
      "Alles gut!\n",
      "\n",
      "\n",
      "Analyzing the number: 5.5\n",
      "The number is not integer\n",
      "\n",
      "\n",
      "Analyzing the number: -7\n",
      "The number is integer\n",
      "But the number is negative\n",
      "\n",
      "\n",
      "Analyzing the number: i\n",
      "The number is not integer\n",
      "\n",
      "\n",
      "[1, 2, 3, 4]\n"
     ]
    }
   ],
   "source": [
    "for i in numbers:\n",
    "    print('Analyzing the number:',i)\n",
    "    \n",
    "    try:\n",
    "        int_check(i)\n",
    "    except ValueError:\n",
    "        print('The number is not integer')\n",
    "    else:\n",
    "        print('The number is integer')\n",
    "        try:\n",
    "            test_for_positiveness(i)\n",
    "        except:\n",
    "            print('But the number is negative')\n",
    "        else:\n",
    "            natural.append(i)\n",
    "    print('\\n')\n",
    "print(natural)"
   ]
  },
  {
   "cell_type": "code",
   "execution_count": null,
   "metadata": {},
   "outputs": [],
   "source": []
  },
  {
   "cell_type": "code",
   "execution_count": null,
   "metadata": {},
   "outputs": [],
   "source": []
  },
  {
   "cell_type": "markdown",
   "metadata": {},
   "source": [
    "# OOP"
   ]
  },
  {
   "cell_type": "code",
   "execution_count": 48,
   "metadata": {},
   "outputs": [],
   "source": [
    "class Dog:\n",
    "    \n",
    "    def __init__(self):\n",
    "        pass"
   ]
  },
  {
   "cell_type": "code",
   "execution_count": 57,
   "metadata": {},
   "outputs": [],
   "source": [
    "barky=Dog()"
   ]
  },
  {
   "cell_type": "code",
   "execution_count": 58,
   "metadata": {},
   "outputs": [
    {
     "name": "stdout",
     "output_type": "stream",
     "text": [
      "<__main__.Dog object at 0x0000024CE8B13518>\n"
     ]
    }
   ],
   "source": [
    "print(barky)"
   ]
  },
  {
   "cell_type": "code",
   "execution_count": 59,
   "metadata": {},
   "outputs": [],
   "source": [
    "class Dog:\n",
    "    \n",
    "    def __init__(self, name, age):\n",
    "        self.name=name\n",
    "        self.age=age"
   ]
  },
  {
   "cell_type": "code",
   "execution_count": 61,
   "metadata": {},
   "outputs": [],
   "source": [
    "barky=Dog('barky',1)"
   ]
  },
  {
   "cell_type": "code",
   "execution_count": 62,
   "metadata": {},
   "outputs": [
    {
     "data": {
      "text/plain": [
       "'barky'"
      ]
     },
     "execution_count": 62,
     "metadata": {},
     "output_type": "execute_result"
    }
   ],
   "source": [
    "barky.name"
   ]
  },
  {
   "cell_type": "code",
   "execution_count": 63,
   "metadata": {},
   "outputs": [
    {
     "data": {
      "text/plain": [
       "1"
      ]
     },
     "execution_count": 63,
     "metadata": {},
     "output_type": "execute_result"
    }
   ],
   "source": [
    "barky.age"
   ]
  },
  {
   "cell_type": "code",
   "execution_count": 64,
   "metadata": {},
   "outputs": [
    {
     "name": "stdout",
     "output_type": "stream",
     "text": [
      "barky is 1 years old\n"
     ]
    }
   ],
   "source": [
    "print(f'{barky.name} is {barky.age} years old')"
   ]
  },
  {
   "cell_type": "code",
   "execution_count": 65,
   "metadata": {},
   "outputs": [],
   "source": [
    "barky.name='Lydia'"
   ]
  },
  {
   "cell_type": "code",
   "execution_count": 66,
   "metadata": {},
   "outputs": [
    {
     "name": "stdout",
     "output_type": "stream",
     "text": [
      "Lydia is 1 years old\n"
     ]
    }
   ],
   "source": [
    "print(f'{barky.name} is {barky.age} years old')"
   ]
  },
  {
   "cell_type": "code",
   "execution_count": 70,
   "metadata": {},
   "outputs": [],
   "source": [
    "class Dog:\n",
    "    \n",
    "    def __init__(self, name, age=None):\n",
    "        self.name=name\n",
    "        self.age=age\n",
    "        \n",
    "    def voice(self):\n",
    "        print('bark! bark!')"
   ]
  },
  {
   "cell_type": "code",
   "execution_count": 71,
   "metadata": {},
   "outputs": [
    {
     "name": "stdout",
     "output_type": "stream",
     "text": [
      "bark! bark!\n"
     ]
    }
   ],
   "source": [
    "barky=Dog('Barky')\n",
    "barky.voice()"
   ]
  },
  {
   "cell_type": "code",
   "execution_count": 72,
   "metadata": {},
   "outputs": [],
   "source": [
    "barky.age"
   ]
  },
  {
   "cell_type": "code",
   "execution_count": 73,
   "metadata": {},
   "outputs": [],
   "source": [
    "class Dog:\n",
    "    \n",
    "    def __init__(self, name, age=None):\n",
    "        self.name=name\n",
    "        self.age=age\n",
    "        \n",
    "    def voice(self):\n",
    "        print('bark! bark!')\n",
    "        \n",
    "    def birthday(self):\n",
    "        self.age+=1"
   ]
  },
  {
   "cell_type": "code",
   "execution_count": 74,
   "metadata": {},
   "outputs": [
    {
     "name": "stdout",
     "output_type": "stream",
     "text": [
      "1\n",
      "2\n"
     ]
    }
   ],
   "source": [
    "barky=Dog('Barky',1)\n",
    "print(barky.age)\n",
    "barky.birthday()\n",
    "print(barky.age)"
   ]
  },
  {
   "cell_type": "code",
   "execution_count": 75,
   "metadata": {},
   "outputs": [
    {
     "name": "stdout",
     "output_type": "stream",
     "text": [
      "3\n"
     ]
    }
   ],
   "source": [
    "barky.birthday()\n",
    "print(barky.age)"
   ]
  },
  {
   "cell_type": "code",
   "execution_count": 79,
   "metadata": {},
   "outputs": [],
   "source": [
    "class Dog:\n",
    "    \n",
    "    def __init__(self, name, age=None):\n",
    "        self.name=name\n",
    "        self.age=age\n",
    "        \n",
    "    def voice(self):\n",
    "        print('bark! bark!')\n",
    "        \n",
    "    def birthday(self):\n",
    "        self.age+=1\n",
    "        \n",
    "    def setBuddy(self, bro):\n",
    "        self.buddy=bro\n",
    "        bro.buddy=self"
   ]
  },
  {
   "cell_type": "code",
   "execution_count": 80,
   "metadata": {},
   "outputs": [],
   "source": [
    "barky=Dog('Barky',1)\n",
    "zippy=Dog('Zippy',2)"
   ]
  },
  {
   "cell_type": "code",
   "execution_count": 81,
   "metadata": {},
   "outputs": [
    {
     "ename": "AttributeError",
     "evalue": "'Dog' object has no attribute 'buddy'",
     "output_type": "error",
     "traceback": [
      "\u001b[1;31m---------------------------------------------------------------------------\u001b[0m",
      "\u001b[1;31mAttributeError\u001b[0m                            Traceback (most recent call last)",
      "\u001b[1;32m<ipython-input-81-6b9475051946>\u001b[0m in \u001b[0;36m<module>\u001b[1;34m\u001b[0m\n\u001b[1;32m----> 1\u001b[1;33m \u001b[0mbarky\u001b[0m\u001b[1;33m.\u001b[0m\u001b[0mbuddy\u001b[0m\u001b[1;33m\u001b[0m\u001b[1;33m\u001b[0m\u001b[0m\n\u001b[0m",
      "\u001b[1;31mAttributeError\u001b[0m: 'Dog' object has no attribute 'buddy'"
     ]
    }
   ],
   "source": [
    "barky.buddy"
   ]
  },
  {
   "cell_type": "code",
   "execution_count": 82,
   "metadata": {},
   "outputs": [],
   "source": [
    "barky.setBuddy(zippy)"
   ]
  },
  {
   "cell_type": "code",
   "execution_count": 87,
   "metadata": {},
   "outputs": [
    {
     "data": {
      "text/plain": [
       "'Barky'"
      ]
     },
     "execution_count": 87,
     "metadata": {},
     "output_type": "execute_result"
    }
   ],
   "source": [
    "barky.buddy.buddy.name"
   ]
  },
  {
   "cell_type": "code",
   "execution_count": 88,
   "metadata": {},
   "outputs": [
    {
     "data": {
      "text/plain": [
       "1"
      ]
     },
     "execution_count": 88,
     "metadata": {},
     "output_type": "execute_result"
    }
   ],
   "source": [
    "barky.age"
   ]
  },
  {
   "cell_type": "code",
   "execution_count": 89,
   "metadata": {},
   "outputs": [
    {
     "data": {
      "text/plain": [
       "2"
      ]
     },
     "execution_count": 89,
     "metadata": {},
     "output_type": "execute_result"
    }
   ],
   "source": [
    "zippy.age"
   ]
  },
  {
   "cell_type": "code",
   "execution_count": 90,
   "metadata": {},
   "outputs": [
    {
     "data": {
      "text/plain": [
       "2"
      ]
     },
     "execution_count": 90,
     "metadata": {},
     "output_type": "execute_result"
    }
   ],
   "source": [
    "barky.birthday()\n",
    "barky.age"
   ]
  },
  {
   "cell_type": "code",
   "execution_count": 91,
   "metadata": {},
   "outputs": [
    {
     "data": {
      "text/plain": [
       "True"
      ]
     },
     "execution_count": 91,
     "metadata": {},
     "output_type": "execute_result"
    }
   ],
   "source": [
    "barky.age == zippy.age"
   ]
  },
  {
   "cell_type": "code",
   "execution_count": 92,
   "metadata": {},
   "outputs": [
    {
     "data": {
      "text/plain": [
       "True"
      ]
     },
     "execution_count": 92,
     "metadata": {},
     "output_type": "execute_result"
    }
   ],
   "source": [
    "2==2"
   ]
  },
  {
   "cell_type": "code",
   "execution_count": 93,
   "metadata": {},
   "outputs": [
    {
     "data": {
      "text/plain": [
       "True"
      ]
     },
     "execution_count": 93,
     "metadata": {},
     "output_type": "execute_result"
    }
   ],
   "source": [
    "2 is 2"
   ]
  },
  {
   "cell_type": "code",
   "execution_count": 94,
   "metadata": {},
   "outputs": [
    {
     "data": {
      "text/plain": [
       "True"
      ]
     },
     "execution_count": 94,
     "metadata": {},
     "output_type": "execute_result"
    }
   ],
   "source": [
    "barky.age is zippy.age"
   ]
  },
  {
   "cell_type": "code",
   "execution_count": 95,
   "metadata": {},
   "outputs": [
    {
     "data": {
      "text/plain": [
       "False"
      ]
     },
     "execution_count": 95,
     "metadata": {},
     "output_type": "execute_result"
    }
   ],
   "source": [
    "barky is zippy"
   ]
  },
  {
   "cell_type": "code",
   "execution_count": 107,
   "metadata": {},
   "outputs": [],
   "source": [
    "class Dog:\n",
    "    \n",
    "    species='mammals'\n",
    "    level_of_danger=1\n",
    "    number_of_legs=4\n",
    "    \n",
    "    def __init__(self, name, age=None, lod=level_of_danger, nol=number_of_legs):\n",
    "        self.name=name\n",
    "        self.age=age\n",
    "        self.level_of_danger=lod\n",
    "        self.number_of_legs=nol\n",
    "\n",
    "    def voice(self):\n",
    "        print('bark! bark!')\n",
    "         \n",
    "    def birthday(self):\n",
    "        self.age+=1\n",
    "        \n",
    "    def setBuddy(self, bro):\n",
    "        self.buddy=bro\n",
    "        bro.buddy=self"
   ]
  },
  {
   "cell_type": "code",
   "execution_count": 108,
   "metadata": {},
   "outputs": [],
   "source": [
    "barky=Dog('Barky')"
   ]
  },
  {
   "cell_type": "code",
   "execution_count": 109,
   "metadata": {},
   "outputs": [
    {
     "ename": "AttributeError",
     "evalue": "'Dog' object has no attribute 'nat'",
     "output_type": "error",
     "traceback": [
      "\u001b[1;31m---------------------------------------------------------------------------\u001b[0m",
      "\u001b[1;31mAttributeError\u001b[0m                            Traceback (most recent call last)",
      "\u001b[1;32m<ipython-input-109-5b5b6c7740be>\u001b[0m in \u001b[0;36m<module>\u001b[1;34m\u001b[0m\n\u001b[1;32m----> 1\u001b[1;33m \u001b[0mbarky\u001b[0m\u001b[1;33m.\u001b[0m\u001b[0mnat\u001b[0m\u001b[1;33m\u001b[0m\u001b[1;33m\u001b[0m\u001b[0m\n\u001b[0m",
      "\u001b[1;31mAttributeError\u001b[0m: 'Dog' object has no attribute 'nat'"
     ]
    }
   ],
   "source": [
    "barky.nat"
   ]
  },
  {
   "cell_type": "code",
   "execution_count": 104,
   "metadata": {},
   "outputs": [
    {
     "data": {
      "text/plain": [
       "1"
      ]
     },
     "execution_count": 104,
     "metadata": {},
     "output_type": "execute_result"
    }
   ],
   "source": [
    "barky.level_of_danger"
   ]
  },
  {
   "cell_type": "code",
   "execution_count": 105,
   "metadata": {},
   "outputs": [],
   "source": [
    "spark=Dog('Spark',lod=10)"
   ]
  },
  {
   "cell_type": "code",
   "execution_count": 106,
   "metadata": {},
   "outputs": [
    {
     "data": {
      "text/plain": [
       "10"
      ]
     },
     "execution_count": 106,
     "metadata": {},
     "output_type": "execute_result"
    }
   ],
   "source": [
    "spark.level_of_danger"
   ]
  },
  {
   "cell_type": "code",
   "execution_count": null,
   "metadata": {},
   "outputs": [],
   "source": []
  },
  {
   "cell_type": "code",
   "execution_count": 144,
   "metadata": {},
   "outputs": [],
   "source": [
    "class Dog:\n",
    "    \n",
    "    species='mammals'\n",
    "    level_of_danger=1\n",
    "    number_of_legs=4\n",
    "    \n",
    "    def __init__(self, name, age=None, lod=level_of_danger, nol=number_of_legs):\n",
    "        self.name=name\n",
    "        self.age=age\n",
    "        self.level_of_danger=lod\n",
    "        self.number_of_legs=nol\n",
    "        self.enemies=list()\n",
    "\n",
    "    def voice(self):\n",
    "        print('bark! bark!')\n",
    "         \n",
    "    def birthday(self):\n",
    "        self.age+=1\n",
    "        \n",
    "    def setBuddy(self, bro):\n",
    "        self.buddy=bro\n",
    "        bro.buddy=self\n",
    "        \n",
    "    def fight_club(self,enemy):\n",
    "        if enemy in self.enemies:\n",
    "            return 'Merde! He is doing it again!'\n",
    "        else:\n",
    "            self.enemies.append(enemy)\n",
    "            enemy.enemies.append(self)"
   ]
  },
  {
   "cell_type": "code",
   "execution_count": 145,
   "metadata": {},
   "outputs": [],
   "source": [
    "barky=Dog('Barky')\n",
    "zippy=Dog('Zippy')"
   ]
  },
  {
   "cell_type": "code",
   "execution_count": 146,
   "metadata": {},
   "outputs": [
    {
     "data": {
      "text/plain": [
       "[]"
      ]
     },
     "execution_count": 146,
     "metadata": {},
     "output_type": "execute_result"
    }
   ],
   "source": [
    "barky.enemies"
   ]
  },
  {
   "cell_type": "code",
   "execution_count": 147,
   "metadata": {},
   "outputs": [],
   "source": [
    "barky.fight_club(zippy)"
   ]
  },
  {
   "cell_type": "code",
   "execution_count": 148,
   "metadata": {},
   "outputs": [
    {
     "data": {
      "text/plain": [
       "[<__main__.Dog at 0x24ce8955a20>]"
      ]
     },
     "execution_count": 148,
     "metadata": {},
     "output_type": "execute_result"
    }
   ],
   "source": [
    "barky.enemies"
   ]
  },
  {
   "cell_type": "code",
   "execution_count": 149,
   "metadata": {},
   "outputs": [
    {
     "data": {
      "text/plain": [
       "[<__main__.Dog at 0x24ce8955ba8>]"
      ]
     },
     "execution_count": 149,
     "metadata": {},
     "output_type": "execute_result"
    }
   ],
   "source": [
    "zippy.enemies"
   ]
  },
  {
   "cell_type": "code",
   "execution_count": 150,
   "metadata": {},
   "outputs": [
    {
     "data": {
      "text/plain": [
       "['Zippy']"
      ]
     },
     "execution_count": 150,
     "metadata": {},
     "output_type": "execute_result"
    }
   ],
   "source": [
    "[i.name for i in barky.enemies]"
   ]
  },
  {
   "cell_type": "code",
   "execution_count": 151,
   "metadata": {},
   "outputs": [
    {
     "data": {
      "text/plain": [
       "['Barky']"
      ]
     },
     "execution_count": 151,
     "metadata": {},
     "output_type": "execute_result"
    }
   ],
   "source": [
    "[i.name for i in zippy.enemies]"
   ]
  },
  {
   "cell_type": "code",
   "execution_count": 152,
   "metadata": {},
   "outputs": [
    {
     "data": {
      "text/plain": [
       "'Merde! He is doing it again!'"
      ]
     },
     "execution_count": 152,
     "metadata": {},
     "output_type": "execute_result"
    }
   ],
   "source": [
    "barky.fight_club(zippy)"
   ]
  },
  {
   "cell_type": "code",
   "execution_count": 153,
   "metadata": {},
   "outputs": [
    {
     "data": {
      "text/plain": [
       "['Zippy']"
      ]
     },
     "execution_count": 153,
     "metadata": {},
     "output_type": "execute_result"
    }
   ],
   "source": [
    "[i.name for i in barky.enemies]"
   ]
  },
  {
   "cell_type": "code",
   "execution_count": 154,
   "metadata": {},
   "outputs": [
    {
     "data": {
      "text/plain": [
       "['Barky']"
      ]
     },
     "execution_count": 154,
     "metadata": {},
     "output_type": "execute_result"
    }
   ],
   "source": [
    "[i.name for i in zippy.enemies]"
   ]
  },
  {
   "cell_type": "code",
   "execution_count": null,
   "metadata": {},
   "outputs": [],
   "source": []
  },
  {
   "cell_type": "code",
   "execution_count": 159,
   "metadata": {},
   "outputs": [],
   "source": [
    "class Dog:\n",
    "    \n",
    "    species='mammals'\n",
    "    level_of_danger=1\n",
    "    number_of_legs=4\n",
    "    \n",
    "    def __init__(self, name, age=None, lod=level_of_danger, nol=number_of_legs):\n",
    "        self.name=name\n",
    "        self.age=age\n",
    "        self.level_of_danger=lod\n",
    "        self.number_of_legs=nol\n",
    "        self.enemies=list()\n",
    "        self.fights=dict()\n",
    "\n",
    "    def voice(self):\n",
    "        print('bark! bark!')\n",
    "         \n",
    "    def birthday(self):\n",
    "        self.age+=1\n",
    "        \n",
    "    def setBuddy(self, bro):\n",
    "        self.buddy=bro\n",
    "        bro.buddy=self\n",
    "        \n",
    "    def fight_club(self,enemy):\n",
    "        if enemy in self.enemies:\n",
    "            self.fights[enemy]+=1\n",
    "            enemy.fights[self]+=1\n",
    "            return 'Merde! He is doing it again!'\n",
    "        else:\n",
    "            self.enemies.append(enemy)\n",
    "            enemy.enemies.append(self)\n",
    "            self.fights[enemy]=1\n",
    "            enemy.fights[self]=1"
   ]
  },
  {
   "cell_type": "code",
   "execution_count": 160,
   "metadata": {},
   "outputs": [],
   "source": [
    "barky=Dog('Barky')\n",
    "zippy=Dog('Zippy')"
   ]
  },
  {
   "cell_type": "code",
   "execution_count": 161,
   "metadata": {},
   "outputs": [],
   "source": [
    "barky.fight_club(zippy)"
   ]
  },
  {
   "cell_type": "code",
   "execution_count": 162,
   "metadata": {},
   "outputs": [
    {
     "data": {
      "text/plain": [
       "{<__main__.Dog at 0x24ce8896a20>: 1}"
      ]
     },
     "execution_count": 162,
     "metadata": {},
     "output_type": "execute_result"
    }
   ],
   "source": [
    "barky.fights"
   ]
  },
  {
   "cell_type": "code",
   "execution_count": 163,
   "metadata": {},
   "outputs": [
    {
     "data": {
      "text/plain": [
       "{<__main__.Dog at 0x24ce8896a20>: 2}"
      ]
     },
     "execution_count": 163,
     "metadata": {},
     "output_type": "execute_result"
    }
   ],
   "source": [
    "barky.fight_club(zippy)\n",
    "barky.fights"
   ]
  },
  {
   "cell_type": "code",
   "execution_count": 164,
   "metadata": {},
   "outputs": [
    {
     "data": {
      "text/plain": [
       "{}"
      ]
     },
     "execution_count": 164,
     "metadata": {},
     "output_type": "execute_result"
    }
   ],
   "source": [
    "Spark=Dog('Spark')\n",
    "Spark.fights"
   ]
  },
  {
   "cell_type": "code",
   "execution_count": 169,
   "metadata": {},
   "outputs": [
    {
     "name": "stdout",
     "output_type": "stream",
     "text": [
      "{<__main__.Dog object at 0x0000024CE88969B0>: 3}\n",
      "{<__main__.Dog object at 0x0000024CE8896A20>: 2, <__main__.Dog object at 0x0000024CE8BC1B38>: 3}\n"
     ]
    }
   ],
   "source": [
    "Spark.fight_club(barky)\n",
    "print(Spark.fights)\n",
    "print(barky.fights)"
   ]
  },
  {
   "cell_type": "code",
   "execution_count": 170,
   "metadata": {},
   "outputs": [
    {
     "name": "stdout",
     "output_type": "stream",
     "text": [
      "Zippy 2\n",
      "Spark 3\n"
     ]
    }
   ],
   "source": [
    "for key,value in barky.fights.items():\n",
    "    print(key.name, value)"
   ]
  },
  {
   "cell_type": "code",
   "execution_count": 21,
   "metadata": {},
   "outputs": [],
   "source": [
    "class Dog:\n",
    "    \n",
    "    species='mammals'\n",
    "    level_of_danger=1\n",
    "    number_of_legs=4\n",
    "    \n",
    "    def __init__(self, name, age=None, lod=level_of_danger, nol=number_of_legs):\n",
    "        self.name=name\n",
    "        self.age=age\n",
    "        self.level_of_danger_default=lod\n",
    "        self.level_of_danger_current=lod\n",
    "        self.number_of_legs=nol\n",
    "        self.enemies=list()\n",
    "        self.fights=dict()\n",
    "\n",
    "    def voice(self):\n",
    "        print('bark! bark!')\n",
    "         \n",
    "    def birthday(self):\n",
    "        self.age+=1\n",
    "        \n",
    "    def setBuddy(self, bro):\n",
    "        self.buddy=bro\n",
    "        bro.buddy=self\n",
    "        \n",
    "    def fight_club(self,enemy):\n",
    "        if self.number_of_legs==0:\n",
    "            return f'Sorry, {self.name} can\\'t even move. If you want to continue participating in a fight club, buy a new dog in our online shop'\n",
    "        \n",
    "        if enemy in self.enemies:\n",
    "            self.fights[enemy]+=1\n",
    "            enemy.fights[self]+=1\n",
    "            if self.level_of_danger_current>enemy.level_of_danger_current*2:\n",
    "                enemy.chop_legs()\n",
    "            elif self.level_of_danger_current*2<enemy.level_of_danger_current:\n",
    "                self.chop_legs()\n",
    "            self.level_of_danger_current=self.level_of_danger_default + sum([i//2 for i in self.fights.values()])\n",
    "            if self.level_of_danger_current>10:\n",
    "                self.level_of_danger_current=5\n",
    "                self.chop_legs()\n",
    "            return 'Merde! He is doing it again!'\n",
    "        else:\n",
    "            self.enemies.append(enemy)\n",
    "            enemy.enemies.append(self)\n",
    "            self.fights[enemy]=1\n",
    "            enemy.fights[self]=1\n",
    "            if self.level_of_danger_current>enemy.level_of_danger_current*2:\n",
    "                enemy.chop_legs()\n",
    "            if self.level_of_danger_current*2<enemy.level_of_danger_current:\n",
    "                self.chop_legs()\n",
    "            \n",
    "    def chop_legs(self):\n",
    "        self.number_of_legs=max(0,self.number_of_legs-1)"
   ]
  },
  {
   "cell_type": "code",
   "execution_count": 28,
   "metadata": {},
   "outputs": [],
   "source": [
    "barky=Dog('Barky')\n",
    "zippy=Dog('Zippy')\n",
    "spark=Dog('Spark', lod=5)"
   ]
  },
  {
   "cell_type": "code",
   "execution_count": 29,
   "metadata": {},
   "outputs": [
    {
     "name": "stdout",
     "output_type": "stream",
     "text": [
      "4 {'Zippy': 1}\n",
      "3 {'Zippy': 1, 'Spark': 1}\n",
      "2 {'Zippy': 1, 'Spark': 2}\n",
      "4\n",
      "4\n",
      "1 {'Zippy': 1, 'Spark': 3}\n",
      "4\n",
      "0 {'Zippy': 1, 'Spark': 4}\n"
     ]
    },
    {
     "data": {
      "text/plain": [
       "\"Sorry, Barky can't even move. If you want to continue participating in a fight club, buy a new dog in our online shop\""
      ]
     },
     "execution_count": 29,
     "metadata": {},
     "output_type": "execute_result"
    }
   ],
   "source": [
    "barky.fight_club(zippy)\n",
    "print(barky.number_of_legs, {key.name: value for key,value in barky.fights.items()})\n",
    "barky.fight_club(spark)\n",
    "print(barky.number_of_legs,{key.name: value for key,value in barky.fights.items()})\n",
    "barky.fight_club(spark)\n",
    "print(barky.number_of_legs,{key.name: value for key,value in barky.fights.items()})\n",
    "spark.fight_club(zippy)\n",
    "print(spark.number_of_legs)\n",
    "spark.fight_club(barky)\n",
    "print(spark.number_of_legs)\n",
    "print(barky.number_of_legs,{key.name: value for key,value in barky.fights.items()})\n",
    "spark.fight_club(barky)\n",
    "print(spark.number_of_legs)\n",
    "print(barky.number_of_legs,{key.name: value for key,value in barky.fights.items()})\n",
    "barky.fight_club(spark)\n"
   ]
  },
  {
   "cell_type": "code",
   "execution_count": 11,
   "metadata": {},
   "outputs": [
    {
     "data": {
      "text/plain": [
       "3"
      ]
     },
     "execution_count": 11,
     "metadata": {},
     "output_type": "execute_result"
    }
   ],
   "source": [
    "barky.number_of_legs"
   ]
  },
  {
   "cell_type": "code",
   "execution_count": null,
   "metadata": {},
   "outputs": [],
   "source": []
  }
 ],
 "metadata": {
  "kernelspec": {
   "display_name": "Python 3",
   "language": "python",
   "name": "python3"
  },
  "language_info": {
   "codemirror_mode": {
    "name": "ipython",
    "version": 3
   },
   "file_extension": ".py",
   "mimetype": "text/x-python",
   "name": "python",
   "nbconvert_exporter": "python",
   "pygments_lexer": "ipython3",
   "version": "3.6.9"
  }
 },
 "nbformat": 4,
 "nbformat_minor": 2
}
